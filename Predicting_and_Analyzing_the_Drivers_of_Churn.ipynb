{
  "nbformat": 4,
  "nbformat_minor": 0,
  "metadata": {
    "colab": {
      "name": "Predicting and Analyzing the Drivers of Churn.ipynb",
      "provenance": [],
      "collapsed_sections": [],
      "include_colab_link": true
    },
    "kernelspec": {
      "name": "python3",
      "display_name": "Python 3"
    }
  },
  "cells": [
    {
      "cell_type": "markdown",
      "metadata": {
        "id": "view-in-github",
        "colab_type": "text"
      },
      "source": [
        "<a href=\"https://colab.research.google.com/github/DimaKav/python-marketing-projects/blob/master/Predicting_and_Analyzing_the_Drivers_of_Churn.ipynb\" target=\"_parent\"><img src=\"https://colab.research.google.com/assets/colab-badge.svg\" alt=\"Open In Colab\"/></a>"
      ]
    },
    {
      "cell_type": "markdown",
      "metadata": {
        "id": "NbgFRKem4ELv",
        "colab_type": "text"
      },
      "source": [
        "The data set (telco) includes the following features:\n",
        "\n",
        "* Customers who left within the last month – the column is called Churn\n",
        "* Services that each customer has signed up for – phone, multiple lines, internet, online security, online backup, device protection, tech support, and streaming TV and movies\n",
        "* Customer account information – how long they’ve been a customer, contract, payment method, paperless billing, monthly charges, and total charges\n",
        "* Demographic info about customers – gender, age range, and if they have partners and dependents"
      ]
    },
    {
      "cell_type": "code",
      "metadata": {
        "id": "RU6eDxSXj-uw",
        "colab_type": "code",
        "outputId": "44380ace-26cb-439d-c138-30e871e839a7",
        "colab": {
          "base_uri": "https://localhost:8080/",
          "height": 153
        }
      },
      "source": [
        "!pip install matplotlib==3.1.0\n",
        "import pandas as pd\n",
        "from sklearn.preprocessing import StandardScaler\n",
        "from sklearn.model_selection import train_test_split\n",
        "from sklearn.tree import DecisionTreeClassifier\n",
        "from sklearn.metrics import accuracy_score\n",
        "from xgboost import XGBClassifier\n",
        "from sklearn.linear_model import LogisticRegression\n",
        "import matplotlib.pyplot as plt\n",
        "import seaborn as sns\n",
        "%config InlineBackend.figure_format='retina'"
      ],
      "execution_count": 0,
      "outputs": [
        {
          "output_type": "stream",
          "text": [
            "Requirement already satisfied: matplotlib==3.1.0 in /usr/local/lib/python3.6/dist-packages (3.1.0)\n",
            "Requirement already satisfied: numpy>=1.11 in /usr/local/lib/python3.6/dist-packages (from matplotlib==3.1.0) (1.17.3)\n",
            "Requirement already satisfied: python-dateutil>=2.1 in /usr/local/lib/python3.6/dist-packages (from matplotlib==3.1.0) (2.6.1)\n",
            "Requirement already satisfied: cycler>=0.10 in /usr/local/lib/python3.6/dist-packages (from matplotlib==3.1.0) (0.10.0)\n",
            "Requirement already satisfied: kiwisolver>=1.0.1 in /usr/local/lib/python3.6/dist-packages (from matplotlib==3.1.0) (1.1.0)\n",
            "Requirement already satisfied: pyparsing!=2.0.4,!=2.1.2,!=2.1.6,>=2.0.1 in /usr/local/lib/python3.6/dist-packages (from matplotlib==3.1.0) (2.4.2)\n",
            "Requirement already satisfied: six>=1.5 in /usr/local/lib/python3.6/dist-packages (from python-dateutil>=2.1->matplotlib==3.1.0) (1.12.0)\n",
            "Requirement already satisfied: setuptools in /usr/local/lib/python3.6/dist-packages (from kiwisolver>=1.0.1->matplotlib==3.1.0) (41.4.0)\n"
          ],
          "name": "stdout"
        }
      ]
    },
    {
      "cell_type": "markdown",
      "metadata": {
        "id": "MAASgDOuK-j1",
        "colab_type": "text"
      },
      "source": [
        "# Data Loading and Preprocessing"
      ]
    },
    {
      "cell_type": "code",
      "metadata": {
        "id": "CzIBzgLY3o5g",
        "colab_type": "code",
        "colab": {}
      },
      "source": [
        "# Load dataset\n",
        "telco_raw = pd.read_csv('https://raw.githubusercontent.com/DimaKav/python-for-marketing-projects/master/telco.csv')\n",
        "# Replace the blank spaces with NaN\n",
        "telco_raw.replace(\" \", pd.np.nan, inplace=True)\n",
        "# Make total charges be a numeric dtype\n",
        "telco_raw['TotalCharges'] = pd.to_numeric(telco_raw['TotalCharges'])\n",
        "# Fill the NaNs with the mean of TotalCharges\n",
        "telco_raw.fillna(2283, inplace=True)"
      ],
      "execution_count": 0,
      "outputs": []
    },
    {
      "cell_type": "code",
      "metadata": {
        "id": "yyU9_ihDKNzH",
        "colab_type": "code",
        "outputId": "44108b25-06e1-4d66-963b-f3764c713239",
        "colab": {
          "base_uri": "https://localhost:8080/",
          "height": 34
        }
      },
      "source": [
        "telco_raw.shape"
      ],
      "execution_count": 0,
      "outputs": [
        {
          "output_type": "execute_result",
          "data": {
            "text/plain": [
              "(7043, 21)"
            ]
          },
          "metadata": {
            "tags": []
          },
          "execution_count": 3
        }
      ]
    },
    {
      "cell_type": "code",
      "metadata": {
        "id": "X6umf_wiL8Dv",
        "colab_type": "code",
        "outputId": "bba83979-baac-4472-86ac-c7bb1dde97bf",
        "colab": {
          "base_uri": "https://localhost:8080/",
          "height": 297
        }
      },
      "source": [
        "telco_raw.describe()"
      ],
      "execution_count": 0,
      "outputs": [
        {
          "output_type": "execute_result",
          "data": {
            "text/html": [
              "<div>\n",
              "<style scoped>\n",
              "    .dataframe tbody tr th:only-of-type {\n",
              "        vertical-align: middle;\n",
              "    }\n",
              "\n",
              "    .dataframe tbody tr th {\n",
              "        vertical-align: top;\n",
              "    }\n",
              "\n",
              "    .dataframe thead th {\n",
              "        text-align: right;\n",
              "    }\n",
              "</style>\n",
              "<table border=\"1\" class=\"dataframe\">\n",
              "  <thead>\n",
              "    <tr style=\"text-align: right;\">\n",
              "      <th></th>\n",
              "      <th>SeniorCitizen</th>\n",
              "      <th>tenure</th>\n",
              "      <th>MonthlyCharges</th>\n",
              "      <th>TotalCharges</th>\n",
              "    </tr>\n",
              "  </thead>\n",
              "  <tbody>\n",
              "    <tr>\n",
              "      <th>count</th>\n",
              "      <td>7043.000000</td>\n",
              "      <td>7043.000000</td>\n",
              "      <td>7043.000000</td>\n",
              "      <td>7043.000000</td>\n",
              "    </tr>\n",
              "    <tr>\n",
              "      <th>mean</th>\n",
              "      <td>0.162147</td>\n",
              "      <td>32.371149</td>\n",
              "      <td>64.761692</td>\n",
              "      <td>2283.299972</td>\n",
              "    </tr>\n",
              "    <tr>\n",
              "      <th>std</th>\n",
              "      <td>0.368612</td>\n",
              "      <td>24.559481</td>\n",
              "      <td>30.090047</td>\n",
              "      <td>2265.000258</td>\n",
              "    </tr>\n",
              "    <tr>\n",
              "      <th>min</th>\n",
              "      <td>0.000000</td>\n",
              "      <td>0.000000</td>\n",
              "      <td>18.250000</td>\n",
              "      <td>18.800000</td>\n",
              "    </tr>\n",
              "    <tr>\n",
              "      <th>25%</th>\n",
              "      <td>0.000000</td>\n",
              "      <td>9.000000</td>\n",
              "      <td>35.500000</td>\n",
              "      <td>402.225000</td>\n",
              "    </tr>\n",
              "    <tr>\n",
              "      <th>50%</th>\n",
              "      <td>0.000000</td>\n",
              "      <td>29.000000</td>\n",
              "      <td>70.350000</td>\n",
              "      <td>1400.550000</td>\n",
              "    </tr>\n",
              "    <tr>\n",
              "      <th>75%</th>\n",
              "      <td>0.000000</td>\n",
              "      <td>55.000000</td>\n",
              "      <td>89.850000</td>\n",
              "      <td>3786.600000</td>\n",
              "    </tr>\n",
              "    <tr>\n",
              "      <th>max</th>\n",
              "      <td>1.000000</td>\n",
              "      <td>72.000000</td>\n",
              "      <td>118.750000</td>\n",
              "      <td>8684.800000</td>\n",
              "    </tr>\n",
              "  </tbody>\n",
              "</table>\n",
              "</div>"
            ],
            "text/plain": [
              "       SeniorCitizen       tenure  MonthlyCharges  TotalCharges\n",
              "count    7043.000000  7043.000000     7043.000000   7043.000000\n",
              "mean        0.162147    32.371149       64.761692   2283.299972\n",
              "std         0.368612    24.559481       30.090047   2265.000258\n",
              "min         0.000000     0.000000       18.250000     18.800000\n",
              "25%         0.000000     9.000000       35.500000    402.225000\n",
              "50%         0.000000    29.000000       70.350000   1400.550000\n",
              "75%         0.000000    55.000000       89.850000   3786.600000\n",
              "max         1.000000    72.000000      118.750000   8684.800000"
            ]
          },
          "metadata": {
            "tags": []
          },
          "execution_count": 4
        }
      ]
    },
    {
      "cell_type": "code",
      "metadata": {
        "id": "Vxp3w-yAOz5y",
        "colab_type": "code",
        "outputId": "f6f27dec-9cd5-4787-a900-8081c51a47fa",
        "colab": {
          "base_uri": "https://localhost:8080/",
          "height": 391
        }
      },
      "source": [
        "telco_raw.isna().sum()"
      ],
      "execution_count": 0,
      "outputs": [
        {
          "output_type": "execute_result",
          "data": {
            "text/plain": [
              "customerID          0\n",
              "gender              0\n",
              "SeniorCitizen       0\n",
              "Partner             0\n",
              "Dependents          0\n",
              "tenure              0\n",
              "PhoneService        0\n",
              "MultipleLines       0\n",
              "InternetService     0\n",
              "OnlineSecurity      0\n",
              "OnlineBackup        0\n",
              "DeviceProtection    0\n",
              "TechSupport         0\n",
              "StreamingTV         0\n",
              "StreamingMovies     0\n",
              "Contract            0\n",
              "PaperlessBilling    0\n",
              "PaymentMethod       0\n",
              "MonthlyCharges      0\n",
              "TotalCharges        0\n",
              "Churn               0\n",
              "dtype: int64"
            ]
          },
          "metadata": {
            "tags": []
          },
          "execution_count": 5
        }
      ]
    },
    {
      "cell_type": "markdown",
      "metadata": {
        "id": "MTfr37B0mkO_",
        "colab_type": "text"
      },
      "source": [
        "# Visualizations"
      ]
    },
    {
      "cell_type": "code",
      "metadata": {
        "id": "ZeQUiFNfmmpU",
        "colab_type": "code",
        "outputId": "6b1ab135-c0a9-4de1-e71e-0eafea8be3c9",
        "colab": {
          "base_uri": "https://localhost:8080/",
          "height": 431
        }
      },
      "source": [
        "# Distribution of Tenure (months)\n",
        "telco_raw.tenure.value_counts(normalize=True).plot(kind='bar',figsize=(16,7));"
      ],
      "execution_count": 0,
      "outputs": [
        {
          "output_type": "display_data",
          "data": {
            "image/png": "[encoded data removed]",
            "text/plain": [
              "<Figure size 1152x504 with 1 Axes>"
            ]
          },
          "metadata": {
            "tags": [],
            "image/png": {
              "width": 936,
              "height": 414
            }
          }
        }
      ]
    },
    {
      "cell_type": "code",
      "metadata": {
        "id": "y05pe7Gnrnri",
        "colab_type": "code",
        "outputId": "25942922-970e-4c3e-b49d-c5a21cb937ba",
        "colab": {
          "base_uri": "https://localhost:8080/",
          "height": 360
        }
      },
      "source": [
        "# Churn by gender\n",
        "pd.crosstab(telco_raw.gender,telco_raw.Churn,margins=True).plot(kind='bar',figsize=(7,5));"
      ],
      "execution_count": 0,
      "outputs": [
        {
          "output_type": "display_data",
          "data": {
            "image/png": "[encoded data removed]",
            "text/plain": [
              "<Figure size 504x360 with 1 Axes>"
            ]
          },
          "metadata": {
            "tags": [],
            "image/png": {
              "width": 437,
              "height": 343
            }
          }
        }
      ]
    },
    {
      "cell_type": "markdown",
      "metadata": {
        "id": "nCFRszkVrnoj",
        "colab_type": "text"
      },
      "source": [
        "It looks like gender has very little effect on churn since the number are nearly the same for both males and females."
      ]
    },
    {
      "cell_type": "code",
      "metadata": {
        "id": "bfa5lJoZsnHq",
        "colab_type": "code",
        "outputId": "2d70ee80-1bfc-4fde-9bba-d0e0af43f08c",
        "colab": {
          "base_uri": "https://localhost:8080/",
          "height": 376
        }
      },
      "source": [
        "pd.crosstab(telco_raw.InternetService,telco_raw.Churn,margins=True).plot(kind='bar',figsize=(7,5));"
      ],
      "execution_count": 0,
      "outputs": [
        {
          "output_type": "display_data",
          "data": {
            "image/png": "[encoded data removed]",
            "text/plain": [
              "<Figure size 504x360 with 1 Axes>"
            ]
          },
          "metadata": {
            "tags": [],
            "image/png": {
              "width": 437,
              "height": 359
            }
          }
        }
      ]
    },
    {
      "cell_type": "markdown",
      "metadata": {
        "id": "BrOWbbovsw1g",
        "colab_type": "text"
      },
      "source": [
        "People with fiber optic service are likely to churn."
      ]
    },
    {
      "cell_type": "code",
      "metadata": {
        "id": "HfiWbLdvts3J",
        "colab_type": "code",
        "outputId": "e2530592-ac13-4e08-f143-a3639f553446",
        "colab": {
          "base_uri": "https://localhost:8080/",
          "height": 387
        }
      },
      "source": [
        "plt.figure(figsize=(17,6))\n",
        "sns.countplot(x=telco_raw['tenure'],hue=telco_raw.Partner);"
      ],
      "execution_count": 0,
      "outputs": [
        {
          "output_type": "display_data",
          "data": {
            "image/png": "[encoded data removed]",
            "text/plain": [
              "<Figure size 1224x432 with 1 Axes>"
            ]
          },
          "metadata": {
            "tags": [],
            "image/png": {
              "width": 1002,
              "height": 370
            }
          }
        }
      ]
    },
    {
      "cell_type": "markdown",
      "metadata": {
        "id": "NNmkUhMGuG7_",
        "colab_type": "text"
      },
      "source": [
        "People with partners tend to stay longer with the company. To see more linear correlations, we'll make a heatmap."
      ]
    },
    {
      "cell_type": "code",
      "metadata": {
        "id": "Dujs3yc1ub3L",
        "colab_type": "code",
        "outputId": "34b0315f-161b-4878-ade2-e11ead6b9c50",
        "colab": {
          "base_uri": "https://localhost:8080/",
          "height": 341
        }
      },
      "source": [
        "sns.heatmap(telco_raw.corr(),xticklabels=telco_raw.corr().columns.values,yticklabels=telco_raw.corr().columns.values,annot=True);"
      ],
      "execution_count": 0,
      "outputs": [
        {
          "output_type": "display_data",
          "data": {
            "image/png": "[encoded data removed]",
            "text/plain": [
              "<Figure size 432x288 with 2 Axes>"
            ]
          },
          "metadata": {
            "tags": [],
            "image/png": {
              "width": 421,
              "height": 324
            }
          }
        }
      ]
    },
    {
      "cell_type": "markdown",
      "metadata": {
        "id": "ZtLUquKBts_x",
        "colab_type": "text"
      },
      "source": [
        "To gain a better understanding of strong effects on churn, we will build a predictive model and see which features have the most effect."
      ]
    },
    {
      "cell_type": "markdown",
      "metadata": {
        "id": "ivivtP1X3ytV",
        "colab_type": "text"
      },
      "source": [
        "# Predicting Churn\n",
        "Churn is when a customer stops buying a product or stops engaging with a product or application. Churn can be voluntary or involuntary. Involuntary churn happens when a customer's subscription ends due to credit card expiration or other blockers.\n",
        "\n",
        "Types of churn:\n",
        "* Contractual - when customers decide to cancel service.\n",
        "* Non-contractual - one example is when customers stop buying groceries. These types of churn are harder to define. We can say that for groceries, churn might be when a customer stops buying groceries for one month. In order to define this type of churn, we have to track the purchasing patterns of the specific customer.\n",
        "\n"
      ]
    },
    {
      "cell_type": "code",
      "metadata": {
        "id": "WbjKitgw3qbO",
        "colab_type": "code",
        "outputId": "8face3f2-53c8-410d-e433-82b0e9ea9be4",
        "colab": {
          "base_uri": "https://localhost:8080/",
          "height": 309
        }
      },
      "source": [
        "telco_raw.head()"
      ],
      "execution_count": 0,
      "outputs": [
        {
          "output_type": "execute_result",
          "data": {
            "text/html": [
              "<div>\n",
              "<style scoped>\n",
              "    .dataframe tbody tr th:only-of-type {\n",
              "        vertical-align: middle;\n",
              "    }\n",
              "\n",
              "    .dataframe tbody tr th {\n",
              "        vertical-align: top;\n",
              "    }\n",
              "\n",
              "    .dataframe thead th {\n",
              "        text-align: right;\n",
              "    }\n",
              "</style>\n",
              "<table border=\"1\" class=\"dataframe\">\n",
              "  <thead>\n",
              "    <tr style=\"text-align: right;\">\n",
              "      <th></th>\n",
              "      <th>customerID</th>\n",
              "      <th>gender</th>\n",
              "      <th>SeniorCitizen</th>\n",
              "      <th>Partner</th>\n",
              "      <th>Dependents</th>\n",
              "      <th>tenure</th>\n",
              "      <th>PhoneService</th>\n",
              "      <th>MultipleLines</th>\n",
              "      <th>InternetService</th>\n",
              "      <th>OnlineSecurity</th>\n",
              "      <th>OnlineBackup</th>\n",
              "      <th>DeviceProtection</th>\n",
              "      <th>TechSupport</th>\n",
              "      <th>StreamingTV</th>\n",
              "      <th>StreamingMovies</th>\n",
              "      <th>Contract</th>\n",
              "      <th>PaperlessBilling</th>\n",
              "      <th>PaymentMethod</th>\n",
              "      <th>MonthlyCharges</th>\n",
              "      <th>TotalCharges</th>\n",
              "      <th>Churn</th>\n",
              "    </tr>\n",
              "  </thead>\n",
              "  <tbody>\n",
              "    <tr>\n",
              "      <th>0</th>\n",
              "      <td>7590-VHVEG</td>\n",
              "      <td>Female</td>\n",
              "      <td>0</td>\n",
              "      <td>Yes</td>\n",
              "      <td>No</td>\n",
              "      <td>1</td>\n",
              "      <td>No</td>\n",
              "      <td>No phone service</td>\n",
              "      <td>DSL</td>\n",
              "      <td>No</td>\n",
              "      <td>Yes</td>\n",
              "      <td>No</td>\n",
              "      <td>No</td>\n",
              "      <td>No</td>\n",
              "      <td>No</td>\n",
              "      <td>Month-to-month</td>\n",
              "      <td>Yes</td>\n",
              "      <td>Electronic check</td>\n",
              "      <td>29.85</td>\n",
              "      <td>29.85</td>\n",
              "      <td>No</td>\n",
              "    </tr>\n",
              "    <tr>\n",
              "      <th>1</th>\n",
              "      <td>5575-GNVDE</td>\n",
              "      <td>Male</td>\n",
              "      <td>0</td>\n",
              "      <td>No</td>\n",
              "      <td>No</td>\n",
              "      <td>34</td>\n",
              "      <td>Yes</td>\n",
              "      <td>No</td>\n",
              "      <td>DSL</td>\n",
              "      <td>Yes</td>\n",
              "      <td>No</td>\n",
              "      <td>Yes</td>\n",
              "      <td>No</td>\n",
              "      <td>No</td>\n",
              "      <td>No</td>\n",
              "      <td>One year</td>\n",
              "      <td>No</td>\n",
              "      <td>Mailed check</td>\n",
              "      <td>56.95</td>\n",
              "      <td>1889.50</td>\n",
              "      <td>No</td>\n",
              "    </tr>\n",
              "    <tr>\n",
              "      <th>2</th>\n",
              "      <td>3668-QPYBK</td>\n",
              "      <td>Male</td>\n",
              "      <td>0</td>\n",
              "      <td>No</td>\n",
              "      <td>No</td>\n",
              "      <td>2</td>\n",
              "      <td>Yes</td>\n",
              "      <td>No</td>\n",
              "      <td>DSL</td>\n",
              "      <td>Yes</td>\n",
              "      <td>Yes</td>\n",
              "      <td>No</td>\n",
              "      <td>No</td>\n",
              "      <td>No</td>\n",
              "      <td>No</td>\n",
              "      <td>Month-to-month</td>\n",
              "      <td>Yes</td>\n",
              "      <td>Mailed check</td>\n",
              "      <td>53.85</td>\n",
              "      <td>108.15</td>\n",
              "      <td>Yes</td>\n",
              "    </tr>\n",
              "    <tr>\n",
              "      <th>3</th>\n",
              "      <td>7795-CFOCW</td>\n",
              "      <td>Male</td>\n",
              "      <td>0</td>\n",
              "      <td>No</td>\n",
              "      <td>No</td>\n",
              "      <td>45</td>\n",
              "      <td>No</td>\n",
              "      <td>No phone service</td>\n",
              "      <td>DSL</td>\n",
              "      <td>Yes</td>\n",
              "      <td>No</td>\n",
              "      <td>Yes</td>\n",
              "      <td>Yes</td>\n",
              "      <td>No</td>\n",
              "      <td>No</td>\n",
              "      <td>One year</td>\n",
              "      <td>No</td>\n",
              "      <td>Bank transfer (automatic)</td>\n",
              "      <td>42.30</td>\n",
              "      <td>1840.75</td>\n",
              "      <td>No</td>\n",
              "    </tr>\n",
              "    <tr>\n",
              "      <th>4</th>\n",
              "      <td>9237-HQITU</td>\n",
              "      <td>Female</td>\n",
              "      <td>0</td>\n",
              "      <td>No</td>\n",
              "      <td>No</td>\n",
              "      <td>2</td>\n",
              "      <td>Yes</td>\n",
              "      <td>No</td>\n",
              "      <td>Fiber optic</td>\n",
              "      <td>No</td>\n",
              "      <td>No</td>\n",
              "      <td>No</td>\n",
              "      <td>No</td>\n",
              "      <td>No</td>\n",
              "      <td>No</td>\n",
              "      <td>Month-to-month</td>\n",
              "      <td>Yes</td>\n",
              "      <td>Electronic check</td>\n",
              "      <td>70.70</td>\n",
              "      <td>151.65</td>\n",
              "      <td>Yes</td>\n",
              "    </tr>\n",
              "  </tbody>\n",
              "</table>\n",
              "</div>"
            ],
            "text/plain": [
              "   customerID  gender  SeniorCitizen  ... MonthlyCharges TotalCharges  Churn\n",
              "0  7590-VHVEG  Female              0  ...          29.85        29.85     No\n",
              "1  5575-GNVDE    Male              0  ...          56.95      1889.50     No\n",
              "2  3668-QPYBK    Male              0  ...          53.85       108.15    Yes\n",
              "3  7795-CFOCW    Male              0  ...          42.30      1840.75     No\n",
              "4  9237-HQITU  Female              0  ...          70.70       151.65    Yes\n",
              "\n",
              "[5 rows x 21 columns]"
            ]
          },
          "metadata": {
            "tags": []
          },
          "execution_count": 6
        }
      ]
    },
    {
      "cell_type": "code",
      "metadata": {
        "id": "nUMOFBIL3q89",
        "colab_type": "code",
        "outputId": "753388cf-0533-40ec-e972-a0eda577e0ee",
        "colab": {
          "base_uri": "https://localhost:8080/",
          "height": 391
        }
      },
      "source": [
        "telco_raw.dtypes"
      ],
      "execution_count": 0,
      "outputs": [
        {
          "output_type": "execute_result",
          "data": {
            "text/plain": [
              "customerID           object\n",
              "gender               object\n",
              "SeniorCitizen         int64\n",
              "Partner              object\n",
              "Dependents           object\n",
              "tenure                int64\n",
              "PhoneService         object\n",
              "MultipleLines        object\n",
              "InternetService      object\n",
              "OnlineSecurity       object\n",
              "OnlineBackup         object\n",
              "DeviceProtection     object\n",
              "TechSupport          object\n",
              "StreamingTV          object\n",
              "StreamingMovies      object\n",
              "Contract             object\n",
              "PaperlessBilling     object\n",
              "PaymentMethod        object\n",
              "MonthlyCharges      float64\n",
              "TotalCharges        float64\n",
              "Churn                object\n",
              "dtype: object"
            ]
          },
          "metadata": {
            "tags": []
          },
          "execution_count": 7
        }
      ]
    },
    {
      "cell_type": "code",
      "metadata": {
        "id": "gghVT5Fz4YFQ",
        "colab_type": "code",
        "outputId": "9b6496da-e121-4b48-d97c-7436317e7ce5",
        "colab": {
          "base_uri": "https://localhost:8080/",
          "height": 391
        }
      },
      "source": [
        "# Check the cardinality of each feature\n",
        "telco_raw.nunique()"
      ],
      "execution_count": 0,
      "outputs": [
        {
          "output_type": "execute_result",
          "data": {
            "text/plain": [
              "customerID          7043\n",
              "gender                 2\n",
              "SeniorCitizen          2\n",
              "Partner                2\n",
              "Dependents             2\n",
              "tenure                73\n",
              "PhoneService           2\n",
              "MultipleLines          3\n",
              "InternetService        3\n",
              "OnlineSecurity         3\n",
              "OnlineBackup           3\n",
              "DeviceProtection       3\n",
              "TechSupport            3\n",
              "StreamingTV            3\n",
              "StreamingMovies        3\n",
              "Contract               3\n",
              "PaperlessBilling       2\n",
              "PaymentMethod          4\n",
              "MonthlyCharges      1585\n",
              "TotalCharges        6531\n",
              "Churn                  2\n",
              "dtype: int64"
            ]
          },
          "metadata": {
            "tags": []
          },
          "execution_count": 8
        }
      ]
    },
    {
      "cell_type": "code",
      "metadata": {
        "id": "0BKLi-fi43oo",
        "colab_type": "code",
        "colab": {}
      },
      "source": [
        "# Store customerID and Churn column names\n",
        "custid = ['customerID']\n",
        "target = ['Churn']\n",
        "\n",
        "# Store categorical column names\n",
        "categorical = telco_raw.nunique()[telco_raw.nunique() < 5].keys().tolist()\n",
        "\n",
        "# Remove target from the list of categorical variables\n",
        "categorical.remove(target[0])\n",
        "\n",
        "# Store numerical column names\n",
        "numerical = [x for x in telco_raw.columns if x not in custid + target + categorical]\n",
        "\n",
        "# Perform one-hot encoding to categorical variables \n",
        "telco_raw = pd.get_dummies(data = telco_raw, columns = categorical, drop_first=True)\n",
        "\n",
        "# Initialize StandardScaler instance\n",
        "scaler = StandardScaler()\n",
        "\n",
        "# Fit and transform the scaler on numerical columns\n",
        "scaled_numerical = scaler.fit_transform(telco_raw[numerical])\n",
        "\n",
        "# Build a DataFrame from scaled_numerical\n",
        "scaled_numerical = pd.DataFrame(scaled_numerical, columns=numerical)\n",
        "\n",
        "# Drop non scaled numerical columns\n",
        "telco_raw = telco_raw.drop(columns=numerical, axis=1)\n",
        "\n",
        "# Merge the non-numerical with the scaled numerical data\n",
        "telco = telco_raw.merge(right=scaled_numerical, how='left', left_index=True,\n",
        "                        right_index=True)"
      ],
      "execution_count": 0,
      "outputs": []
    },
    {
      "cell_type": "code",
      "metadata": {
        "id": "E7b4LunvPh_U",
        "colab_type": "code",
        "outputId": "506f77e5-18d9-47ff-8fce-d7663ad77cb3",
        "colab": {
          "base_uri": "https://localhost:8080/",
          "height": 34
        }
      },
      "source": [
        "telco.shape"
      ],
      "execution_count": 0,
      "outputs": [
        {
          "output_type": "execute_result",
          "data": {
            "text/plain": [
              "(7043, 32)"
            ]
          },
          "metadata": {
            "tags": []
          },
          "execution_count": 10
        }
      ]
    },
    {
      "cell_type": "code",
      "metadata": {
        "id": "FJ4NzupEFuQQ",
        "colab_type": "code",
        "outputId": "759ae030-869e-4cfb-9314-e9c816a66a07",
        "colab": {
          "base_uri": "https://localhost:8080/",
          "height": 51
        }
      },
      "source": [
        "# Define target and predictors\n",
        "X = telco.drop(['customerID','Churn'], 1)\n",
        "y = telco['Churn']\n",
        "\n",
        "# Split X and Y into training and testing datasets\n",
        "X_train, X_test, y_train, y_test = train_test_split(X, y, test_size=0.25)\n",
        "\n",
        "# Ensure training dataset has only 75% of original X data\n",
        "print(X_train.shape[0] / X.shape[0])\n",
        "\n",
        "# Ensure testing dataset has only 25% of original X data\n",
        "print(X_test.shape[0] / X.shape[0])"
      ],
      "execution_count": 0,
      "outputs": [
        {
          "output_type": "stream",
          "text": [
            "0.7499645037626012\n",
            "0.25003549623739885\n"
          ],
          "name": "stdout"
        }
      ]
    },
    {
      "cell_type": "code",
      "metadata": {
        "id": "eDKZLY0eV_bz",
        "colab_type": "code",
        "outputId": "c219ac80-170c-4f94-c7d0-d8c1df1fe004",
        "colab": {
          "base_uri": "https://localhost:8080/",
          "height": 34
        }
      },
      "source": [
        "# Initialize logistic regression instance \n",
        "logreg = LogisticRegression(solver='lbfgs')\n",
        "\n",
        "# Fit the model on training data\n",
        "logreg.fit(X_train, y_train)\n",
        "\n",
        "# Predict churn values on test data\n",
        "pred_test_Y = logreg.predict(X_test)\n",
        "\n",
        "# Print the accuracy score on test data\n",
        "print('Test accuracy:', round(accuracy_score(y_test, pred_test_Y), 4))"
      ],
      "execution_count": 0,
      "outputs": [
        {
          "output_type": "stream",
          "text": [
            "Test accuracy: 0.8018\n"
          ],
          "name": "stdout"
        }
      ]
    },
    {
      "cell_type": "markdown",
      "metadata": {
        "id": "2efZ85iJD_tD",
        "colab_type": "text"
      },
      "source": [
        "# Main Drivers of Churn\n",
        "\n",
        "To see and understand drivers of churn, we will use the coefficients from our logistic regression model. These beta coefficients can be interpreted as change in log-odds of churn associated with a 1 unit increase in the feature. To get the actual change in odds (not log odds), we'll have to calculate the exponent of the coefficients which will give us the change in odds associated with a 1 unit increase in the feature."
      ]
    },
    {
      "cell_type": "code",
      "metadata": {
        "id": "Azokg3bmEz5x",
        "colab_type": "code",
        "outputId": "0f9e4de3-2731-40ec-ca1a-78b31e9541db",
        "colab": {
          "base_uri": "https://localhost:8080/",
          "height": 544
        }
      },
      "source": [
        "# Combine feature names and coefficients into pandas DataFrame\n",
        "feature_names = pd.DataFrame(X_train.columns, columns=['Feature'])\n",
        "log_coef = pd.DataFrame(pd.np.transpose(logreg.coef_), columns=['Coefficient'])\n",
        "coefficients = pd.concat([feature_names, log_coef], axis = 1)\n",
        "\n",
        "# Calculate exponent of the logistic regression coefficients\n",
        "coefficients['Exp_Coefficient'] = pd.np.exp(coefficients['Coefficient'])\n",
        "\n",
        "# Remove coefficients that are equal to zero\n",
        "coefficients = coefficients[coefficients['Coefficient']!=0]\n",
        "\n",
        "# Print the values sorted by the exponent coefficient\n",
        "print(coefficients.sort_values(by=['Exp_Coefficient']))"
      ],
      "execution_count": 0,
      "outputs": [
        {
          "output_type": "stream",
          "text": [
            "                                  Feature  Coefficient  Exp_Coefficient\n",
            "27                                 tenure    -1.447168         0.235236\n",
            "22                      Contract_Two year    -1.399338         0.246760\n",
            "21                      Contract_One year    -0.648692         0.522729\n",
            "10                     OnlineSecurity_Yes    -0.467849         0.626348\n",
            "4                        PhoneService_Yes    -0.231525         0.793323\n",
            "16                        TechSupport_Yes    -0.220491         0.802125\n",
            "26             PaymentMethod_Mailed check    -0.215633         0.806031\n",
            "12                       OnlineBackup_Yes    -0.166990         0.846208\n",
            "28                         MonthlyCharges    -0.143722         0.866128\n",
            "13   DeviceProtection_No internet service    -0.131377         0.876887\n",
            "9      OnlineSecurity_No internet service    -0.131377         0.876887\n",
            "17        StreamingTV_No internet service    -0.131377         0.876887\n",
            "15        TechSupport_No internet service    -0.131377         0.876887\n",
            "19    StreamingMovies_No internet service    -0.131377         0.876887\n",
            "8                      InternetService_No    -0.131377         0.876887\n",
            "11       OnlineBackup_No internet service    -0.131377         0.876887\n",
            "3                          Dependents_Yes    -0.129613         0.878435\n",
            "24  PaymentMethod_Credit card (automatic)    -0.079583         0.923501\n",
            "2                             Partner_Yes    -0.065393         0.936699\n",
            "0                             gender_Male    -0.039170         0.961587\n",
            "14                   DeviceProtection_Yes    -0.025308         0.975010\n",
            "18                        StreamingTV_Yes     0.149234         1.160945\n",
            "1                         SeniorCitizen_1     0.171780         1.187417\n",
            "5          MultipleLines_No phone service     0.232079         1.261219\n",
            "20                    StreamingMovies_Yes     0.235469         1.265503\n",
            "25         PaymentMethod_Electronic check     0.250098         1.284151\n",
            "6                       MultipleLines_Yes     0.270434         1.310533\n",
            "23                   PaperlessBilling_Yes     0.384543         1.468942\n",
            "29                           TotalCharges     0.703612         2.021039\n",
            "7             InternetService_Fiber optic     0.890531         2.436422\n"
          ],
          "name": "stdout"
        }
      ]
    },
    {
      "cell_type": "markdown",
      "metadata": {
        "id": "zi9R2OPfEaaq",
        "colab_type": "text"
      },
      "source": [
        "Exploring the coefficients allows us to see which features had the most negative and the most positive effects on churn."
      ]
    }
  ]
}