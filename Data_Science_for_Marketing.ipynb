{
  "nbformat": 4,
  "nbformat_minor": 0,
  "metadata": {
    "colab": {
      "name": "Data Science for Marketing.ipynb",
      "provenance": [],
      "collapsed_sections": [
        "o5MXeL3i1alc",
        "5mP57f31v2bR",
        "TBQXoEnAUSw1",
        "5i7EsqGqEJbT",
        "53jSUlRg7Val",
        "05YPfVbhdpu0"
      ],
      "include_colab_link": true
    },
    "kernelspec": {
      "name": "python3",
      "display_name": "Python 3"
    }
  },
  "cells": [
    {
      "cell_type": "markdown",
      "metadata": {
        "id": "view-in-github",
        "colab_type": "text"
      },
      "source": [
        "<a href=\"https://colab.research.google.com/github/DimaKav/python-marketing-projects/blob/master/Data_Science_for_Marketing.ipynb\" target=\"_parent\"><img src=\"https://colab.research.google.com/assets/colab-badge.svg\" alt=\"Open In Colab\"/></a>"
      ]
    },
    {
      "cell_type": "markdown",
      "metadata": {
        "id": "ShvsFDSFbmks",
        "colab_type": "text"
      },
      "source": [
        "Notes from the book \"Hands-On Data Science for Marketing\" by Yoon Hyup Hwang"
      ]
    },
    {
      "cell_type": "code",
      "metadata": {
        "id": "YXfY_OLeCYX_",
        "colab_type": "code",
        "colab": {}
      },
      "source": [
        "import pandas as pd\n",
        "import matplotlib.pyplot as plt\n",
        "import statsmodels.api as sm\n",
        "from sklearn.tree import DecisionTreeClassifier\n",
        "import graphviz"
      ],
      "execution_count": 0,
      "outputs": []
    },
    {
      "cell_type": "markdown",
      "metadata": {
        "id": "o5MXeL3i1alc",
        "colab_type": "text"
      },
      "source": [
        "# 1. Descriptive Analysis - Visualizing KPIs"
      ]
    },
    {
      "cell_type": "markdown",
      "metadata": {
        "id": "NNA2sLTzB03P",
        "colab_type": "text"
      },
      "source": [
        "Dataset description: https://archive.ics.uci.edu/ml/datasets/bank+marketing"
      ]
    },
    {
      "cell_type": "code",
      "metadata": {
        "id": "dPC8Rkd0CKtg",
        "colab_type": "code",
        "colab": {}
      },
      "source": [
        "df = pd.read_csv('https://raw.githubusercontent.com/DimaKav/python-marketing-projects/master/bank-full.csv', sep=';')"
      ],
      "execution_count": 0,
      "outputs": []
    },
    {
      "cell_type": "code",
      "metadata": {
        "id": "1KWyuPIoDX1V",
        "colab_type": "code",
        "outputId": "3ced3201-f96e-400a-e6a4-0a2c61b9c5cb",
        "colab": {
          "base_uri": "https://localhost:8080/",
          "height": 0
        }
      },
      "source": [
        "df.shape"
      ],
      "execution_count": 3,
      "outputs": [
        {
          "output_type": "execute_result",
          "data": {
            "text/plain": [
              "(45211, 17)"
            ]
          },
          "metadata": {
            "tags": []
          },
          "execution_count": 3
        }
      ]
    },
    {
      "cell_type": "code",
      "metadata": {
        "id": "-QHHzfgeCaFf",
        "colab_type": "code",
        "outputId": "184a58a4-913c-44c2-8533-f5c7d3349421",
        "colab": {
          "base_uri": "https://localhost:8080/",
          "height": 0
        }
      },
      "source": [
        "df.head()"
      ],
      "execution_count": 4,
      "outputs": [
        {
          "output_type": "execute_result",
          "data": {
            "text/html": [
              "<div>\n",
              "<style scoped>\n",
              "    .dataframe tbody tr th:only-of-type {\n",
              "        vertical-align: middle;\n",
              "    }\n",
              "\n",
              "    .dataframe tbody tr th {\n",
              "        vertical-align: top;\n",
              "    }\n",
              "\n",
              "    .dataframe thead th {\n",
              "        text-align: right;\n",
              "    }\n",
              "</style>\n",
              "<table border=\"1\" class=\"dataframe\">\n",
              "  <thead>\n",
              "    <tr style=\"text-align: right;\">\n",
              "      <th></th>\n",
              "      <th>age</th>\n",
              "      <th>job</th>\n",
              "      <th>marital</th>\n",
              "      <th>education</th>\n",
              "      <th>default</th>\n",
              "      <th>balance</th>\n",
              "      <th>housing</th>\n",
              "      <th>loan</th>\n",
              "      <th>contact</th>\n",
              "      <th>day</th>\n",
              "      <th>month</th>\n",
              "      <th>duration</th>\n",
              "      <th>campaign</th>\n",
              "      <th>pdays</th>\n",
              "      <th>previous</th>\n",
              "      <th>poutcome</th>\n",
              "      <th>y</th>\n",
              "    </tr>\n",
              "  </thead>\n",
              "  <tbody>\n",
              "    <tr>\n",
              "      <th>0</th>\n",
              "      <td>58</td>\n",
              "      <td>management</td>\n",
              "      <td>married</td>\n",
              "      <td>tertiary</td>\n",
              "      <td>no</td>\n",
              "      <td>2143</td>\n",
              "      <td>yes</td>\n",
              "      <td>no</td>\n",
              "      <td>unknown</td>\n",
              "      <td>5</td>\n",
              "      <td>may</td>\n",
              "      <td>261</td>\n",
              "      <td>1</td>\n",
              "      <td>-1</td>\n",
              "      <td>0</td>\n",
              "      <td>unknown</td>\n",
              "      <td>no</td>\n",
              "    </tr>\n",
              "    <tr>\n",
              "      <th>1</th>\n",
              "      <td>44</td>\n",
              "      <td>technician</td>\n",
              "      <td>single</td>\n",
              "      <td>secondary</td>\n",
              "      <td>no</td>\n",
              "      <td>29</td>\n",
              "      <td>yes</td>\n",
              "      <td>no</td>\n",
              "      <td>unknown</td>\n",
              "      <td>5</td>\n",
              "      <td>may</td>\n",
              "      <td>151</td>\n",
              "      <td>1</td>\n",
              "      <td>-1</td>\n",
              "      <td>0</td>\n",
              "      <td>unknown</td>\n",
              "      <td>no</td>\n",
              "    </tr>\n",
              "    <tr>\n",
              "      <th>2</th>\n",
              "      <td>33</td>\n",
              "      <td>entrepreneur</td>\n",
              "      <td>married</td>\n",
              "      <td>secondary</td>\n",
              "      <td>no</td>\n",
              "      <td>2</td>\n",
              "      <td>yes</td>\n",
              "      <td>yes</td>\n",
              "      <td>unknown</td>\n",
              "      <td>5</td>\n",
              "      <td>may</td>\n",
              "      <td>76</td>\n",
              "      <td>1</td>\n",
              "      <td>-1</td>\n",
              "      <td>0</td>\n",
              "      <td>unknown</td>\n",
              "      <td>no</td>\n",
              "    </tr>\n",
              "    <tr>\n",
              "      <th>3</th>\n",
              "      <td>47</td>\n",
              "      <td>blue-collar</td>\n",
              "      <td>married</td>\n",
              "      <td>unknown</td>\n",
              "      <td>no</td>\n",
              "      <td>1506</td>\n",
              "      <td>yes</td>\n",
              "      <td>no</td>\n",
              "      <td>unknown</td>\n",
              "      <td>5</td>\n",
              "      <td>may</td>\n",
              "      <td>92</td>\n",
              "      <td>1</td>\n",
              "      <td>-1</td>\n",
              "      <td>0</td>\n",
              "      <td>unknown</td>\n",
              "      <td>no</td>\n",
              "    </tr>\n",
              "    <tr>\n",
              "      <th>4</th>\n",
              "      <td>33</td>\n",
              "      <td>unknown</td>\n",
              "      <td>single</td>\n",
              "      <td>unknown</td>\n",
              "      <td>no</td>\n",
              "      <td>1</td>\n",
              "      <td>no</td>\n",
              "      <td>no</td>\n",
              "      <td>unknown</td>\n",
              "      <td>5</td>\n",
              "      <td>may</td>\n",
              "      <td>198</td>\n",
              "      <td>1</td>\n",
              "      <td>-1</td>\n",
              "      <td>0</td>\n",
              "      <td>unknown</td>\n",
              "      <td>no</td>\n",
              "    </tr>\n",
              "  </tbody>\n",
              "</table>\n",
              "</div>"
            ],
            "text/plain": [
              "   age           job  marital  education  ... pdays  previous poutcome   y\n",
              "0   58    management  married   tertiary  ...    -1         0  unknown  no\n",
              "1   44    technician   single  secondary  ...    -1         0  unknown  no\n",
              "2   33  entrepreneur  married  secondary  ...    -1         0  unknown  no\n",
              "3   47   blue-collar  married    unknown  ...    -1         0  unknown  no\n",
              "4   33       unknown   single    unknown  ...    -1         0  unknown  no\n",
              "\n",
              "[5 rows x 17 columns]"
            ]
          },
          "metadata": {
            "tags": []
          },
          "execution_count": 4
        }
      ]
    },
    {
      "cell_type": "markdown",
      "metadata": {
        "id": "iGBNsEB2CuBg",
        "colab_type": "text"
      },
      "source": [
        "y - has the client subscribed a term deposit? (binary: 'yes','no')"
      ]
    },
    {
      "cell_type": "code",
      "metadata": {
        "id": "5CBxqKQjCat2",
        "colab_type": "code",
        "colab": {}
      },
      "source": [
        "# Encode the y\n",
        "labels, uniques = pd.factorize(df['y'])\n",
        "df['conversion'] = labels"
      ],
      "execution_count": 0,
      "outputs": []
    },
    {
      "cell_type": "code",
      "metadata": {
        "id": "VYwYKZFWEAk8",
        "colab_type": "code",
        "outputId": "d46edba1-91d1-4f97-9ab4-dd501e5756a1",
        "colab": {
          "base_uri": "https://localhost:8080/",
          "height": 0
        }
      },
      "source": [
        "# Aggregate conversion rate: overall performance of our marketing campaign\n",
        "\n",
        "print('total conversions: %i out of %i' % (df.conversion.sum(), df.shape[0]))\n",
        "print('conversion rate: %0.2f%%' % (df.conversion.sum() / df.shape[0] * 100.0))"
      ],
      "execution_count": 6,
      "outputs": [
        {
          "output_type": "stream",
          "text": [
            "total conversions: 5289 out of 45211\n",
            "conversion rate: 11.70%\n"
          ],
          "name": "stdout"
        }
      ]
    },
    {
      "cell_type": "markdown",
      "metadata": {
        "id": "c1bHykwcUObj",
        "colab_type": "text"
      },
      "source": [
        "Let's dive deeper and break the customer base into multiple segments by age and compute KPIs for individual segments."
      ]
    },
    {
      "cell_type": "code",
      "metadata": {
        "id": "o1wNC9yoZKb7",
        "colab_type": "code",
        "colab": {}
      },
      "source": [
        "conversions_by_age = df.groupby(\n",
        "    by='age'\n",
        ")['conversion'].sum() / df.groupby(\n",
        "    by='age'\n",
        ")['conversion'].count() * 100.0"
      ],
      "execution_count": 0,
      "outputs": []
    },
    {
      "cell_type": "code",
      "metadata": {
        "id": "ET0cv8nLZbmB",
        "colab_type": "code",
        "outputId": "81335bab-2a49-400d-ec1b-053eda999832",
        "colab": {
          "base_uri": "https://localhost:8080/",
          "height": 0
        }
      },
      "source": [
        "ax = conversions_by_age.plot(\n",
        "    grid=True,\n",
        "    figsize=(8, 4),\n",
        "    title='Conversion Rates by Age'\n",
        ")\n",
        "\n",
        "ax.set_xlabel('age')\n",
        "ax.set_ylabel('conversion rate (%)')\n",
        "\n",
        "plt.show()"
      ],
      "execution_count": 8,
      "outputs": [
        {
          "output_type": "display_data",
          "data": {
            "image/png": "[encoded data removed]",
            "text/plain": [
              "<Figure size 576x288 with 1 Axes>"
            ]
          },
          "metadata": {
            "tags": []
          }
        }
      ]
    },
    {
      "cell_type": "markdown",
      "metadata": {
        "id": "Zyhceu4HZgMQ",
        "colab_type": "text"
      },
      "source": [
        "There aren't many clients who are 80 or older so that data is noisy on the chart. To reduce the noise, we can group multiple ages together."
      ]
    },
    {
      "cell_type": "code",
      "metadata": {
        "id": "Vd-5mNMYgqug",
        "colab_type": "code",
        "colab": {}
      },
      "source": [
        "df['age_group'] = df['age'].apply(\n",
        "    lambda x: '[18, 30)' if x < 30 else '[30, 40)' if x < 40 \\\n",
        "        else '[40, 50)' if x < 50 else '[50, 60)' if x < 60 \\\n",
        "        else '[60, 70)' if x < 70 else '70+'\n",
        ")"
      ],
      "execution_count": 0,
      "outputs": []
    },
    {
      "cell_type": "code",
      "metadata": {
        "id": "v7DFCj0ShnSN",
        "colab_type": "code",
        "colab": {}
      },
      "source": [
        "conversions_by_age_group = df.groupby(\n",
        "    by='age_group'\n",
        ")['conversion'].sum() / df.groupby(\n",
        "    by='age_group'\n",
        ")['conversion'].count() * 100.0"
      ],
      "execution_count": 0,
      "outputs": []
    },
    {
      "cell_type": "code",
      "metadata": {
        "id": "6xtN-SiMhpHc",
        "colab_type": "code",
        "outputId": "1b65d606-fc77-46b0-9def-1f577d823503",
        "colab": {
          "base_uri": "https://localhost:8080/",
          "height": 0
        }
      },
      "source": [
        "ax = conversions_by_age_group.loc[\n",
        "    ['[18, 30)', '[30, 40)', '[40, 50)', '[50, 60)', '[60, 70)', '70+']\n",
        "].plot(\n",
        "    kind='bar',\n",
        "    color='skyblue',\n",
        "    grid=True,\n",
        "    figsize=(10, 7),\n",
        "    title='Conversion Rates by Age Groups'\n",
        ")\n",
        "\n",
        "ax.set_xlabel('age')\n",
        "ax.set_ylabel('conversion rate (%)')\n",
        "\n",
        "plt.show()"
      ],
      "execution_count": 11,
      "outputs": [
        {
          "output_type": "display_data",
          "data": {
            "image/png": "[encoded data removed]",
            "text/plain": [
              "<Figure size 720x504 with 1 Axes>"
            ]
          },
          "metadata": {
            "tags": []
          }
        }
      ]
    },
    {
      "cell_type": "markdown",
      "metadata": {
        "id": "WyvXkZ2qrYNw",
        "colab_type": "text"
      },
      "source": [
        "Let's look at the demographic differences between the converted clients and the non-converted clients."
      ]
    },
    {
      "cell_type": "code",
      "metadata": {
        "id": "MAnHZ10CtlD-",
        "colab_type": "code",
        "colab": {}
      },
      "source": [
        "conversions_by_marital_status_df = pd.pivot_table(df, values='y', \n",
        "                                               index='marital', \n",
        "                                               columns='conversion', \n",
        "                                               aggfunc=len)"
      ],
      "execution_count": 0,
      "outputs": []
    },
    {
      "cell_type": "code",
      "metadata": {
        "id": "_YM4wyf9uAJf",
        "colab_type": "code",
        "colab": {}
      },
      "source": [
        "conversions_by_marital_status_df.rename(columns={0: 'non-conversion'}, inplace=True)\n",
        "conversions_by_marital_status_df.rename(columns={1: 'conversion'}, inplace=True)"
      ],
      "execution_count": 0,
      "outputs": []
    },
    {
      "cell_type": "code",
      "metadata": {
        "id": "dNwBnECmtoXN",
        "colab_type": "code",
        "outputId": "c216c0bd-0eb0-4e34-a30c-0cdc5b2be2a8",
        "colab": {
          "base_uri": "https://localhost:8080/",
          "height": 0
        }
      },
      "source": [
        "conversions_by_marital_status_df.plot(\n",
        "    kind='pie',\n",
        "    figsize=(15, 7),\n",
        "    startangle=90,\n",
        "    subplots=True,\n",
        "    autopct=lambda x: '%0.1f%%' % x\n",
        ")\n",
        "\n",
        "plt.show()"
      ],
      "execution_count": 14,
      "outputs": [
        {
          "output_type": "display_data",
          "data": {
            "image/png": "[encoded data removed]",
            "text/plain": [
              "<Figure size 1080x504 with 2 Axes>"
            ]
          },
          "metadata": {
            "tags": []
          }
        }
      ]
    },
    {
      "cell_type": "markdown",
      "metadata": {
        "id": "RwUW2bBKtsC2",
        "colab_type": "text"
      },
      "source": [
        "Let's look at conversions by age and marital status."
      ]
    },
    {
      "cell_type": "code",
      "metadata": {
        "id": "3iLdnZoUvM_b",
        "colab_type": "code",
        "colab": {}
      },
      "source": [
        "age_marital_df = df.groupby(['age_group', 'marital'])['conversion'].sum().unstack('marital').fillna(0)\n",
        "\n",
        "age_marital_df = age_marital_df.divide(\n",
        "    df.groupby(\n",
        "        by='age_group'\n",
        "    )['conversion'].count(),\n",
        "    axis=0\n",
        ")"
      ],
      "execution_count": 0,
      "outputs": []
    },
    {
      "cell_type": "code",
      "metadata": {
        "id": "AwnV1gCdvxVy",
        "colab_type": "code",
        "outputId": "45a09cb8-9e11-431f-e853-c717f6a82072",
        "colab": {
          "base_uri": "https://localhost:8080/",
          "height": 0
        }
      },
      "source": [
        "ax = age_marital_df.loc[\n",
        "    ['[18, 30)', '[30, 40)', '[40, 50)', '[50, 60)', '[60, 70)', '70+']\n",
        "].plot(\n",
        "    kind='bar', \n",
        "    grid=True,\n",
        "    figsize=(10,7)\n",
        ")\n",
        "\n",
        "ax.set_title('Conversion rates by Age & Marital Status')\n",
        "ax.set_xlabel('age group')\n",
        "ax.set_ylabel('conversion rate (%)')\n",
        "\n",
        "plt.show()"
      ],
      "execution_count": 16,
      "outputs": [
        {
          "output_type": "display_data",
          "data": {
            "image/png": "[encoded data removed]",
            "text/plain": [
              "<Figure size 720x504 with 1 Axes>"
            ]
          },
          "metadata": {
            "tags": []
          }
        }
      ]
    },
    {
      "cell_type": "code",
      "metadata": {
        "id": "iOjSVE4bvzei",
        "colab_type": "code",
        "outputId": "03b2ce6e-c92a-46b0-b1d7-eb1e7d590fc0",
        "colab": {
          "base_uri": "https://localhost:8080/",
          "height": 0
        }
      },
      "source": [
        "ax = age_marital_df.loc[\n",
        "    ['[18, 30)', '[30, 40)', '[40, 50)', '[50, 60)', '[60, 70)', '70+']\n",
        "].plot(\n",
        "    kind='bar', \n",
        "    stacked=True,\n",
        "    grid=True,\n",
        "    figsize=(10,7)\n",
        ")\n",
        "\n",
        "ax.set_title('Conversion rates by Age & Marital Status')\n",
        "ax.set_xlabel('age group')\n",
        "ax.set_ylabel('conversion rate (%)')\n",
        "\n",
        "plt.show()"
      ],
      "execution_count": 17,
      "outputs": [
        {
          "output_type": "display_data",
          "data": {
            "image/png": "[encoded data removed]",
            "text/plain": [
              "<Figure size 720x504 with 1 Axes>"
            ]
          },
          "metadata": {
            "tags": []
          }
        }
      ]
    },
    {
      "cell_type": "markdown",
      "metadata": {
        "id": "5mP57f31v2bR",
        "colab_type": "text"
      },
      "source": [
        "# 2. Customer Engagement "
      ]
    },
    {
      "cell_type": "code",
      "metadata": {
        "id": "TkcwvoHKsyq8",
        "colab_type": "code",
        "colab": {}
      },
      "source": [
        "df = pd.read_csv('https://raw.githubusercontent.com/DimaKav/python-marketing-projects/master/WA_Fn-UseC_-Marketing-Customer-Value-Analysis.csv')"
      ],
      "execution_count": 0,
      "outputs": []
    },
    {
      "cell_type": "code",
      "metadata": {
        "id": "rF83tyl-4USN",
        "colab_type": "code",
        "colab": {
          "base_uri": "https://localhost:8080/",
          "height": 0
        },
        "outputId": "1ec83677-0556-4162-80ba-f7a9c39d456a"
      },
      "source": [
        "df.head()"
      ],
      "execution_count": 19,
      "outputs": [
        {
          "output_type": "execute_result",
          "data": {
            "text/html": [
              "<div>\n",
              "<style scoped>\n",
              "    .dataframe tbody tr th:only-of-type {\n",
              "        vertical-align: middle;\n",
              "    }\n",
              "\n",
              "    .dataframe tbody tr th {\n",
              "        vertical-align: top;\n",
              "    }\n",
              "\n",
              "    .dataframe thead th {\n",
              "        text-align: right;\n",
              "    }\n",
              "</style>\n",
              "<table border=\"1\" class=\"dataframe\">\n",
              "  <thead>\n",
              "    <tr style=\"text-align: right;\">\n",
              "      <th></th>\n",
              "      <th>Customer</th>\n",
              "      <th>State</th>\n",
              "      <th>Customer Lifetime Value</th>\n",
              "      <th>Response</th>\n",
              "      <th>Coverage</th>\n",
              "      <th>Education</th>\n",
              "      <th>Effective To Date</th>\n",
              "      <th>EmploymentStatus</th>\n",
              "      <th>Gender</th>\n",
              "      <th>Income</th>\n",
              "      <th>Location Code</th>\n",
              "      <th>Marital Status</th>\n",
              "      <th>Monthly Premium Auto</th>\n",
              "      <th>Months Since Last Claim</th>\n",
              "      <th>Months Since Policy Inception</th>\n",
              "      <th>Number of Open Complaints</th>\n",
              "      <th>Number of Policies</th>\n",
              "      <th>Policy Type</th>\n",
              "      <th>Policy</th>\n",
              "      <th>Renew Offer Type</th>\n",
              "      <th>Sales Channel</th>\n",
              "      <th>Total Claim Amount</th>\n",
              "      <th>Vehicle Class</th>\n",
              "      <th>Vehicle Size</th>\n",
              "    </tr>\n",
              "  </thead>\n",
              "  <tbody>\n",
              "    <tr>\n",
              "      <th>0</th>\n",
              "      <td>BU79786</td>\n",
              "      <td>Washington</td>\n",
              "      <td>2763.519279</td>\n",
              "      <td>No</td>\n",
              "      <td>Basic</td>\n",
              "      <td>Bachelor</td>\n",
              "      <td>2/24/11</td>\n",
              "      <td>Employed</td>\n",
              "      <td>F</td>\n",
              "      <td>56274</td>\n",
              "      <td>Suburban</td>\n",
              "      <td>Married</td>\n",
              "      <td>69</td>\n",
              "      <td>32</td>\n",
              "      <td>5</td>\n",
              "      <td>0</td>\n",
              "      <td>1</td>\n",
              "      <td>Corporate Auto</td>\n",
              "      <td>Corporate L3</td>\n",
              "      <td>Offer1</td>\n",
              "      <td>Agent</td>\n",
              "      <td>384.811147</td>\n",
              "      <td>Two-Door Car</td>\n",
              "      <td>Medsize</td>\n",
              "    </tr>\n",
              "    <tr>\n",
              "      <th>1</th>\n",
              "      <td>QZ44356</td>\n",
              "      <td>Arizona</td>\n",
              "      <td>6979.535903</td>\n",
              "      <td>No</td>\n",
              "      <td>Extended</td>\n",
              "      <td>Bachelor</td>\n",
              "      <td>1/31/11</td>\n",
              "      <td>Unemployed</td>\n",
              "      <td>F</td>\n",
              "      <td>0</td>\n",
              "      <td>Suburban</td>\n",
              "      <td>Single</td>\n",
              "      <td>94</td>\n",
              "      <td>13</td>\n",
              "      <td>42</td>\n",
              "      <td>0</td>\n",
              "      <td>8</td>\n",
              "      <td>Personal Auto</td>\n",
              "      <td>Personal L3</td>\n",
              "      <td>Offer3</td>\n",
              "      <td>Agent</td>\n",
              "      <td>1131.464935</td>\n",
              "      <td>Four-Door Car</td>\n",
              "      <td>Medsize</td>\n",
              "    </tr>\n",
              "    <tr>\n",
              "      <th>2</th>\n",
              "      <td>AI49188</td>\n",
              "      <td>Nevada</td>\n",
              "      <td>12887.431650</td>\n",
              "      <td>No</td>\n",
              "      <td>Premium</td>\n",
              "      <td>Bachelor</td>\n",
              "      <td>2/19/11</td>\n",
              "      <td>Employed</td>\n",
              "      <td>F</td>\n",
              "      <td>48767</td>\n",
              "      <td>Suburban</td>\n",
              "      <td>Married</td>\n",
              "      <td>108</td>\n",
              "      <td>18</td>\n",
              "      <td>38</td>\n",
              "      <td>0</td>\n",
              "      <td>2</td>\n",
              "      <td>Personal Auto</td>\n",
              "      <td>Personal L3</td>\n",
              "      <td>Offer1</td>\n",
              "      <td>Agent</td>\n",
              "      <td>566.472247</td>\n",
              "      <td>Two-Door Car</td>\n",
              "      <td>Medsize</td>\n",
              "    </tr>\n",
              "    <tr>\n",
              "      <th>3</th>\n",
              "      <td>WW63253</td>\n",
              "      <td>California</td>\n",
              "      <td>7645.861827</td>\n",
              "      <td>No</td>\n",
              "      <td>Basic</td>\n",
              "      <td>Bachelor</td>\n",
              "      <td>1/20/11</td>\n",
              "      <td>Unemployed</td>\n",
              "      <td>M</td>\n",
              "      <td>0</td>\n",
              "      <td>Suburban</td>\n",
              "      <td>Married</td>\n",
              "      <td>106</td>\n",
              "      <td>18</td>\n",
              "      <td>65</td>\n",
              "      <td>0</td>\n",
              "      <td>7</td>\n",
              "      <td>Corporate Auto</td>\n",
              "      <td>Corporate L2</td>\n",
              "      <td>Offer1</td>\n",
              "      <td>Call Center</td>\n",
              "      <td>529.881344</td>\n",
              "      <td>SUV</td>\n",
              "      <td>Medsize</td>\n",
              "    </tr>\n",
              "    <tr>\n",
              "      <th>4</th>\n",
              "      <td>HB64268</td>\n",
              "      <td>Washington</td>\n",
              "      <td>2813.692575</td>\n",
              "      <td>No</td>\n",
              "      <td>Basic</td>\n",
              "      <td>Bachelor</td>\n",
              "      <td>2/3/11</td>\n",
              "      <td>Employed</td>\n",
              "      <td>M</td>\n",
              "      <td>43836</td>\n",
              "      <td>Rural</td>\n",
              "      <td>Single</td>\n",
              "      <td>73</td>\n",
              "      <td>12</td>\n",
              "      <td>44</td>\n",
              "      <td>0</td>\n",
              "      <td>1</td>\n",
              "      <td>Personal Auto</td>\n",
              "      <td>Personal L1</td>\n",
              "      <td>Offer1</td>\n",
              "      <td>Agent</td>\n",
              "      <td>138.130879</td>\n",
              "      <td>Four-Door Car</td>\n",
              "      <td>Medsize</td>\n",
              "    </tr>\n",
              "  </tbody>\n",
              "</table>\n",
              "</div>"
            ],
            "text/plain": [
              "  Customer       State  ...  Vehicle Class Vehicle Size\n",
              "0  BU79786  Washington  ...   Two-Door Car      Medsize\n",
              "1  QZ44356     Arizona  ...  Four-Door Car      Medsize\n",
              "2  AI49188      Nevada  ...   Two-Door Car      Medsize\n",
              "3  WW63253  California  ...            SUV      Medsize\n",
              "4  HB64268  Washington  ...  Four-Door Car      Medsize\n",
              "\n",
              "[5 rows x 24 columns]"
            ]
          },
          "metadata": {
            "tags": []
          },
          "execution_count": 19
        }
      ]
    },
    {
      "cell_type": "code",
      "metadata": {
        "id": "HQLZHoaq4W-P",
        "colab_type": "code",
        "colab": {
          "base_uri": "https://localhost:8080/",
          "height": 0
        },
        "outputId": "5fa2d5b1-14b9-4773-dd0b-2e80564c026b"
      },
      "source": [
        "df.shape"
      ],
      "execution_count": 20,
      "outputs": [
        {
          "output_type": "execute_result",
          "data": {
            "text/plain": [
              "(9134, 24)"
            ]
          },
          "metadata": {
            "tags": []
          },
          "execution_count": 20
        }
      ]
    },
    {
      "cell_type": "code",
      "metadata": {
        "id": "HLKE7dju4bAd",
        "colab_type": "code",
        "colab": {}
      },
      "source": [
        "# Encode the response column\n",
        "labels, uniques = pd.factorize(df['Response'])\n",
        "df['Engaged'] = labels"
      ],
      "execution_count": 0,
      "outputs": []
    },
    {
      "cell_type": "code",
      "metadata": {
        "id": "WhwuHxeD6pBQ",
        "colab_type": "code",
        "colab": {}
      },
      "source": [
        "# Agg engagement rate\n",
        "engagement_rate_df = pd.DataFrame(\n",
        "    df.groupby('Engaged').count()['Response'] / df.shape[0] * 100.0\n",
        ")"
      ],
      "execution_count": 0,
      "outputs": []
    },
    {
      "cell_type": "code",
      "metadata": {
        "id": "iAUVAZiS6uo8",
        "colab_type": "code",
        "colab": {
          "base_uri": "https://localhost:8080/",
          "height": 0
        },
        "outputId": "abdff6fd-34ce-4028-bb4d-1ca098d8286e"
      },
      "source": [
        "engagement_rate_df.T"
      ],
      "execution_count": 23,
      "outputs": [
        {
          "output_type": "execute_result",
          "data": {
            "text/html": [
              "<div>\n",
              "<style scoped>\n",
              "    .dataframe tbody tr th:only-of-type {\n",
              "        vertical-align: middle;\n",
              "    }\n",
              "\n",
              "    .dataframe tbody tr th {\n",
              "        vertical-align: top;\n",
              "    }\n",
              "\n",
              "    .dataframe thead th {\n",
              "        text-align: right;\n",
              "    }\n",
              "</style>\n",
              "<table border=\"1\" class=\"dataframe\">\n",
              "  <thead>\n",
              "    <tr style=\"text-align: right;\">\n",
              "      <th>Engaged</th>\n",
              "      <th>0</th>\n",
              "      <th>1</th>\n",
              "    </tr>\n",
              "  </thead>\n",
              "  <tbody>\n",
              "    <tr>\n",
              "      <th>Response</th>\n",
              "      <td>85.679877</td>\n",
              "      <td>14.320123</td>\n",
              "    </tr>\n",
              "  </tbody>\n",
              "</table>\n",
              "</div>"
            ],
            "text/plain": [
              "Engaged           0          1\n",
              "Response  85.679877  14.320123"
            ]
          },
          "metadata": {
            "tags": []
          },
          "execution_count": 23
        }
      ]
    },
    {
      "cell_type": "markdown",
      "metadata": {
        "id": "6woiU5o86vlZ",
        "colab_type": "text"
      },
      "source": [
        "~85% of the customers have not responded to marketing calls. Let's look at engagement per sales channel."
      ]
    },
    {
      "cell_type": "code",
      "metadata": {
        "id": "yFOP4gr869mP",
        "colab_type": "code",
        "colab": {}
      },
      "source": [
        "engagement_by_sales_channel_df = pd.pivot_table(\n",
        "    df, values='Response', index='Sales Channel', columns='Engaged', aggfunc=len\n",
        ").fillna(0.0)\n",
        "\n",
        "engagement_by_sales_channel_df.columns = ['Not Engaged', 'Engaged']"
      ],
      "execution_count": 0,
      "outputs": []
    },
    {
      "cell_type": "code",
      "metadata": {
        "id": "ZG_xkaINRSTS",
        "colab_type": "code",
        "colab": {
          "base_uri": "https://localhost:8080/",
          "height": 0
        },
        "outputId": "0cd77100-c682-4607-f49f-9652c2546845"
      },
      "source": [
        "engagement_by_sales_channel_df.plot(\n",
        "    kind='pie',\n",
        "    figsize=(15, 7),\n",
        "    startangle=90,\n",
        "    subplots=True,\n",
        "    autopct=lambda x: '%0.1f%%' % x\n",
        ")\n",
        "\n",
        "plt.show()"
      ],
      "execution_count": 25,
      "outputs": [
        {
          "output_type": "display_data",
          "data": {
            "image/png": "[encoded data removed]",
            "text/plain": [
              "<Figure size 1080x504 with 2 Axes>"
            ]
          },
          "metadata": {
            "tags": []
          }
        }
      ]
    },
    {
      "cell_type": "markdown",
      "metadata": {
        "id": "P4saTGglRUHG",
        "colab_type": "text"
      },
      "source": [
        "Now let's looks at total claim amount."
      ]
    },
    {
      "cell_type": "code",
      "metadata": {
        "id": "F0rU0I1jUE-C",
        "colab_type": "code",
        "colab": {
          "base_uri": "https://localhost:8080/",
          "height": 0
        },
        "outputId": "73edc0fa-57c2-4de5-fd26-b4227f6f85ad"
      },
      "source": [
        "ax = df[['Engaged', 'Total Claim Amount']].boxplot(\n",
        "    by='Engaged',\n",
        "    showfliers=True,\n",
        "    figsize=(7,5)\n",
        ")\n",
        "\n",
        "ax.set_xlabel('Engaged')\n",
        "ax.set_ylabel('Total Claim Amount')\n",
        "ax.set_title('Total Claim Amount Distributions by Engagements')\n",
        "\n",
        "plt.suptitle(\"\")\n",
        "plt.show()"
      ],
      "execution_count": 26,
      "outputs": [
        {
          "output_type": "display_data",
          "data": {
            "image/png": "[encoded data removed]",
            "text/plain": [
              "<Figure size 504x360 with 1 Axes>"
            ]
          },
          "metadata": {
            "tags": []
          }
        }
      ]
    },
    {
      "cell_type": "markdown",
      "metadata": {
        "id": "TBQXoEnAUSw1",
        "colab_type": "text"
      },
      "source": [
        "# 3. Explanatory Analysis - Logistic Regression of Engagement"
      ]
    },
    {
      "cell_type": "code",
      "metadata": {
        "id": "CvYHTBa3VSvJ",
        "colab_type": "code",
        "colab": {}
      },
      "source": [
        "continuous_vars = [\n",
        "    'Customer Lifetime Value', 'Income', 'Monthly Premium Auto', \n",
        "    'Months Since Last Claim', 'Months Since Policy Inception', \n",
        "    'Number of Open Complaints', 'Number of Policies', \n",
        "    'Total Claim Amount' \n",
        "]\n",
        "\n",
        "logit = sm.Logit(\n",
        "    df['Engaged'],\n",
        "    df[continuous_vars]\n",
        ")"
      ],
      "execution_count": 0,
      "outputs": []
    },
    {
      "cell_type": "code",
      "metadata": {
        "id": "HF4RzATUYgup",
        "colab_type": "code",
        "colab": {
          "base_uri": "https://localhost:8080/",
          "height": 0
        },
        "outputId": "a08cdc79-089f-4415-c55a-18f85c6fd433"
      },
      "source": [
        "logit_fit = logit.fit()"
      ],
      "execution_count": 28,
      "outputs": [
        {
          "output_type": "stream",
          "text": [
            "Optimization terminated successfully.\n",
            "         Current function value: 0.421189\n",
            "         Iterations 6\n"
          ],
          "name": "stdout"
        }
      ]
    },
    {
      "cell_type": "code",
      "metadata": {
        "id": "XufTLGHBbodh",
        "colab_type": "code",
        "colab": {
          "base_uri": "https://localhost:8080/",
          "height": 0
        },
        "outputId": "8d187f98-23d6-474b-d85b-1959ab25caba"
      },
      "source": [
        "logit_fit.summary()"
      ],
      "execution_count": 29,
      "outputs": [
        {
          "output_type": "execute_result",
          "data": {
            "text/html": [
              "<table class=\"simpletable\">\n",
              "<caption>Logit Regression Results</caption>\n",
              "<tr>\n",
              "  <th>Dep. Variable:</th>        <td>Engaged</td>     <th>  No. Observations:  </th>  <td>  9134</td> \n",
              "</tr>\n",
              "<tr>\n",
              "  <th>Model:</th>                 <td>Logit</td>      <th>  Df Residuals:      </th>  <td>  9126</td> \n",
              "</tr>\n",
              "<tr>\n",
              "  <th>Method:</th>                 <td>MLE</td>       <th>  Df Model:          </th>  <td>     7</td> \n",
              "</tr>\n",
              "<tr>\n",
              "  <th>Date:</th>            <td>Sun, 27 Oct 2019</td> <th>  Pseudo R-squ.:     </th> <td>-0.02546</td>\n",
              "</tr>\n",
              "<tr>\n",
              "  <th>Time:</th>                <td>12:21:42</td>     <th>  Log-Likelihood:    </th> <td> -3847.1</td>\n",
              "</tr>\n",
              "<tr>\n",
              "  <th>converged:</th>             <td>True</td>       <th>  LL-Null:           </th> <td> -3751.6</td>\n",
              "</tr>\n",
              "<tr>\n",
              "  <th>Covariance Type:</th>     <td>nonrobust</td>    <th>  LLR p-value:       </th>  <td> 1.000</td> \n",
              "</tr>\n",
              "</table>\n",
              "<table class=\"simpletable\">\n",
              "<tr>\n",
              "                <td></td>                   <th>coef</th>     <th>std err</th>      <th>z</th>      <th>P>|z|</th>  <th>[0.025</th>    <th>0.975]</th>  \n",
              "</tr>\n",
              "<tr>\n",
              "  <th>Customer Lifetime Value</th>       <td>-6.741e-06</td> <td> 5.04e-06</td> <td>   -1.337</td> <td> 0.181</td> <td>-1.66e-05</td> <td> 3.14e-06</td>\n",
              "</tr>\n",
              "<tr>\n",
              "  <th>Income</th>                        <td>-2.857e-06</td> <td> 1.03e-06</td> <td>   -2.766</td> <td> 0.006</td> <td>-4.88e-06</td> <td>-8.33e-07</td>\n",
              "</tr>\n",
              "<tr>\n",
              "  <th>Monthly Premium Auto</th>          <td>   -0.0084</td> <td>    0.001</td> <td>   -6.889</td> <td> 0.000</td> <td>   -0.011</td> <td>   -0.006</td>\n",
              "</tr>\n",
              "<tr>\n",
              "  <th>Months Since Last Claim</th>       <td>   -0.0202</td> <td>    0.003</td> <td>   -7.238</td> <td> 0.000</td> <td>   -0.026</td> <td>   -0.015</td>\n",
              "</tr>\n",
              "<tr>\n",
              "  <th>Months Since Policy Inception</th> <td>   -0.0060</td> <td>    0.001</td> <td>   -6.148</td> <td> 0.000</td> <td>   -0.008</td> <td>   -0.004</td>\n",
              "</tr>\n",
              "<tr>\n",
              "  <th>Number of Open Complaints</th>     <td>   -0.0829</td> <td>    0.034</td> <td>   -2.424</td> <td> 0.015</td> <td>   -0.150</td> <td>   -0.016</td>\n",
              "</tr>\n",
              "<tr>\n",
              "  <th>Number of Policies</th>            <td>   -0.0810</td> <td>    0.013</td> <td>   -6.356</td> <td> 0.000</td> <td>   -0.106</td> <td>   -0.056</td>\n",
              "</tr>\n",
              "<tr>\n",
              "  <th>Total Claim Amount</th>            <td>    0.0001</td> <td>    0.000</td> <td>    0.711</td> <td> 0.477</td> <td>   -0.000</td> <td>    0.000</td>\n",
              "</tr>\n",
              "</table>"
            ],
            "text/plain": [
              "<class 'statsmodels.iolib.summary.Summary'>\n",
              "\"\"\"\n",
              "                           Logit Regression Results                           \n",
              "==============================================================================\n",
              "Dep. Variable:                Engaged   No. Observations:                 9134\n",
              "Model:                          Logit   Df Residuals:                     9126\n",
              "Method:                           MLE   Df Model:                            7\n",
              "Date:                Sun, 27 Oct 2019   Pseudo R-squ.:                -0.02546\n",
              "Time:                        12:21:42   Log-Likelihood:                -3847.1\n",
              "converged:                       True   LL-Null:                       -3751.6\n",
              "Covariance Type:            nonrobust   LLR p-value:                     1.000\n",
              "=================================================================================================\n",
              "                                    coef    std err          z      P>|z|      [0.025      0.975]\n",
              "-------------------------------------------------------------------------------------------------\n",
              "Customer Lifetime Value       -6.741e-06   5.04e-06     -1.337      0.181   -1.66e-05    3.14e-06\n",
              "Income                        -2.857e-06   1.03e-06     -2.766      0.006   -4.88e-06   -8.33e-07\n",
              "Monthly Premium Auto             -0.0084      0.001     -6.889      0.000      -0.011      -0.006\n",
              "Months Since Last Claim          -0.0202      0.003     -7.238      0.000      -0.026      -0.015\n",
              "Months Since Policy Inception    -0.0060      0.001     -6.148      0.000      -0.008      -0.004\n",
              "Number of Open Complaints        -0.0829      0.034     -2.424      0.015      -0.150      -0.016\n",
              "Number of Policies               -0.0810      0.013     -6.356      0.000      -0.106      -0.056\n",
              "Total Claim Amount                0.0001      0.000      0.711      0.477      -0.000       0.000\n",
              "=================================================================================================\n",
              "\"\"\""
            ]
          },
          "metadata": {
            "tags": []
          },
          "execution_count": 29
        }
      ]
    },
    {
      "cell_type": "code",
      "metadata": {
        "id": "RAGWUS-KbqGy",
        "colab_type": "code",
        "colab": {
          "base_uri": "https://localhost:8080/",
          "height": 0
        },
        "outputId": "24e67ab5-4f61-4374-d1f3-b13553c7c582"
      },
      "source": [
        "# Factorize the rest of the variables and run the regression again\n",
        "\n",
        "gender_values, gender_labels = df['Gender'].factorize()\n",
        "\n",
        "categories = pd.Categorical(\n",
        "    df['Education'], \n",
        "    categories=['High School or Below', 'Bachelor', 'College', 'Master', 'Doctor']\n",
        ")\n",
        "\n",
        "df['GenderFactorized'] = gender_values\n",
        "df['EducationFactorized'] = categories.codes\n",
        "\n",
        "logit = sm.Logit(\n",
        "    df['Engaged'], \n",
        "    df[[\n",
        "        'GenderFactorized',\n",
        "        'EducationFactorized'\n",
        "    ]]\n",
        ")\n",
        "\n",
        "logit_fit = logit.fit()\n",
        "\n",
        "logit_fit.summary()"
      ],
      "execution_count": 30,
      "outputs": [
        {
          "output_type": "stream",
          "text": [
            "Optimization terminated successfully.\n",
            "         Current function value: 0.493068\n",
            "         Iterations 6\n"
          ],
          "name": "stdout"
        },
        {
          "output_type": "execute_result",
          "data": {
            "text/html": [
              "<table class=\"simpletable\">\n",
              "<caption>Logit Regression Results</caption>\n",
              "<tr>\n",
              "  <th>Dep. Variable:</th>        <td>Engaged</td>     <th>  No. Observations:  </th>  <td>  9134</td> \n",
              "</tr>\n",
              "<tr>\n",
              "  <th>Model:</th>                 <td>Logit</td>      <th>  Df Residuals:      </th>  <td>  9132</td> \n",
              "</tr>\n",
              "<tr>\n",
              "  <th>Method:</th>                 <td>MLE</td>       <th>  Df Model:          </th>  <td>     1</td> \n",
              "</tr>\n",
              "<tr>\n",
              "  <th>Date:</th>            <td>Sun, 27 Oct 2019</td> <th>  Pseudo R-squ.:     </th>  <td>-0.2005</td>\n",
              "</tr>\n",
              "<tr>\n",
              "  <th>Time:</th>                <td>12:21:42</td>     <th>  Log-Likelihood:    </th> <td> -4503.7</td>\n",
              "</tr>\n",
              "<tr>\n",
              "  <th>converged:</th>             <td>True</td>       <th>  LL-Null:           </th> <td> -3751.6</td>\n",
              "</tr>\n",
              "<tr>\n",
              "  <th>Covariance Type:</th>     <td>nonrobust</td>    <th>  LLR p-value:       </th>  <td> 1.000</td> \n",
              "</tr>\n",
              "</table>\n",
              "<table class=\"simpletable\">\n",
              "<tr>\n",
              "           <td></td>              <th>coef</th>     <th>std err</th>      <th>z</th>      <th>P>|z|</th>  <th>[0.025</th>    <th>0.975]</th>  \n",
              "</tr>\n",
              "<tr>\n",
              "  <th>GenderFactorized</th>    <td>   -1.1266</td> <td>    0.047</td> <td>  -24.116</td> <td> 0.000</td> <td>   -1.218</td> <td>   -1.035</td>\n",
              "</tr>\n",
              "<tr>\n",
              "  <th>EducationFactorized</th> <td>   -0.6256</td> <td>    0.021</td> <td>  -29.900</td> <td> 0.000</td> <td>   -0.667</td> <td>   -0.585</td>\n",
              "</tr>\n",
              "</table>"
            ],
            "text/plain": [
              "<class 'statsmodels.iolib.summary.Summary'>\n",
              "\"\"\"\n",
              "                           Logit Regression Results                           \n",
              "==============================================================================\n",
              "Dep. Variable:                Engaged   No. Observations:                 9134\n",
              "Model:                          Logit   Df Residuals:                     9132\n",
              "Method:                           MLE   Df Model:                            1\n",
              "Date:                Sun, 27 Oct 2019   Pseudo R-squ.:                 -0.2005\n",
              "Time:                        12:21:42   Log-Likelihood:                -4503.7\n",
              "converged:                       True   LL-Null:                       -3751.6\n",
              "Covariance Type:            nonrobust   LLR p-value:                     1.000\n",
              "=======================================================================================\n",
              "                          coef    std err          z      P>|z|      [0.025      0.975]\n",
              "---------------------------------------------------------------------------------------\n",
              "GenderFactorized       -1.1266      0.047    -24.116      0.000      -1.218      -1.035\n",
              "EducationFactorized    -0.6256      0.021    -29.900      0.000      -0.667      -0.585\n",
              "=======================================================================================\n",
              "\"\"\""
            ]
          },
          "metadata": {
            "tags": []
          },
          "execution_count": 30
        }
      ]
    },
    {
      "cell_type": "code",
      "metadata": {
        "id": "79sberwlA7IX",
        "colab_type": "code",
        "colab": {
          "base_uri": "https://localhost:8080/",
          "height": 0
        },
        "outputId": "7a94202a-06e7-4008-e155-870db9e3ddbd"
      },
      "source": [
        "# Combine continuous and categorical\n",
        "logit = sm.Logit(\n",
        "    df['Engaged'], \n",
        "    df[['Customer Lifetime Value',\n",
        "        'Income',\n",
        "        'Monthly Premium Auto',\n",
        "        'Months Since Last Claim',\n",
        "        'Months Since Policy Inception',\n",
        "        'Number of Open Complaints',\n",
        "        'Number of Policies',\n",
        "        'Total Claim Amount',\n",
        "        'GenderFactorized',\n",
        "        'EducationFactorized'\n",
        "    ]]\n",
        ")\n",
        "\n",
        "logit_fit = logit.fit()\n",
        "\n",
        "logit_fit.summary()"
      ],
      "execution_count": 31,
      "outputs": [
        {
          "output_type": "stream",
          "text": [
            "Optimization terminated successfully.\n",
            "         Current function value: 0.420810\n",
            "         Iterations 6\n"
          ],
          "name": "stdout"
        },
        {
          "output_type": "execute_result",
          "data": {
            "text/html": [
              "<table class=\"simpletable\">\n",
              "<caption>Logit Regression Results</caption>\n",
              "<tr>\n",
              "  <th>Dep. Variable:</th>        <td>Engaged</td>     <th>  No. Observations:  </th>  <td>  9134</td> \n",
              "</tr>\n",
              "<tr>\n",
              "  <th>Model:</th>                 <td>Logit</td>      <th>  Df Residuals:      </th>  <td>  9124</td> \n",
              "</tr>\n",
              "<tr>\n",
              "  <th>Method:</th>                 <td>MLE</td>       <th>  Df Model:          </th>  <td>     9</td> \n",
              "</tr>\n",
              "<tr>\n",
              "  <th>Date:</th>            <td>Sun, 27 Oct 2019</td> <th>  Pseudo R-squ.:     </th> <td>-0.02454</td>\n",
              "</tr>\n",
              "<tr>\n",
              "  <th>Time:</th>                <td>12:21:42</td>     <th>  Log-Likelihood:    </th> <td> -3843.7</td>\n",
              "</tr>\n",
              "<tr>\n",
              "  <th>converged:</th>             <td>True</td>       <th>  LL-Null:           </th> <td> -3751.6</td>\n",
              "</tr>\n",
              "<tr>\n",
              "  <th>Covariance Type:</th>     <td>nonrobust</td>    <th>  LLR p-value:       </th>  <td> 1.000</td> \n",
              "</tr>\n",
              "</table>\n",
              "<table class=\"simpletable\">\n",
              "<tr>\n",
              "                <td></td>                   <th>coef</th>     <th>std err</th>      <th>z</th>      <th>P>|z|</th>  <th>[0.025</th>    <th>0.975]</th>  \n",
              "</tr>\n",
              "<tr>\n",
              "  <th>Customer Lifetime Value</th>       <td>-6.909e-06</td> <td> 5.03e-06</td> <td>   -1.373</td> <td> 0.170</td> <td>-1.68e-05</td> <td> 2.96e-06</td>\n",
              "</tr>\n",
              "<tr>\n",
              "  <th>Income</th>                        <td> -2.59e-06</td> <td> 1.04e-06</td> <td>   -2.494</td> <td> 0.013</td> <td>-4.63e-06</td> <td>-5.55e-07</td>\n",
              "</tr>\n",
              "<tr>\n",
              "  <th>Monthly Premium Auto</th>          <td>   -0.0081</td> <td>    0.001</td> <td>   -6.526</td> <td> 0.000</td> <td>   -0.011</td> <td>   -0.006</td>\n",
              "</tr>\n",
              "<tr>\n",
              "  <th>Months Since Last Claim</th>       <td>   -0.0194</td> <td>    0.003</td> <td>   -6.858</td> <td> 0.000</td> <td>   -0.025</td> <td>   -0.014</td>\n",
              "</tr>\n",
              "<tr>\n",
              "  <th>Months Since Policy Inception</th> <td>   -0.0057</td> <td>    0.001</td> <td>   -5.827</td> <td> 0.000</td> <td>   -0.008</td> <td>   -0.004</td>\n",
              "</tr>\n",
              "<tr>\n",
              "  <th>Number of Open Complaints</th>     <td>   -0.0813</td> <td>    0.034</td> <td>   -2.376</td> <td> 0.017</td> <td>   -0.148</td> <td>   -0.014</td>\n",
              "</tr>\n",
              "<tr>\n",
              "  <th>Number of Policies</th>            <td>   -0.0781</td> <td>    0.013</td> <td>   -6.114</td> <td> 0.000</td> <td>   -0.103</td> <td>   -0.053</td>\n",
              "</tr>\n",
              "<tr>\n",
              "  <th>Total Claim Amount</th>            <td>    0.0001</td> <td>    0.000</td> <td>    0.943</td> <td> 0.346</td> <td>   -0.000</td> <td>    0.000</td>\n",
              "</tr>\n",
              "<tr>\n",
              "  <th>GenderFactorized</th>              <td>   -0.1500</td> <td>    0.058</td> <td>   -2.592</td> <td> 0.010</td> <td>   -0.263</td> <td>   -0.037</td>\n",
              "</tr>\n",
              "<tr>\n",
              "  <th>EducationFactorized</th>           <td>   -0.0070</td> <td>    0.027</td> <td>   -0.264</td> <td> 0.792</td> <td>   -0.059</td> <td>    0.045</td>\n",
              "</tr>\n",
              "</table>"
            ],
            "text/plain": [
              "<class 'statsmodels.iolib.summary.Summary'>\n",
              "\"\"\"\n",
              "                           Logit Regression Results                           \n",
              "==============================================================================\n",
              "Dep. Variable:                Engaged   No. Observations:                 9134\n",
              "Model:                          Logit   Df Residuals:                     9124\n",
              "Method:                           MLE   Df Model:                            9\n",
              "Date:                Sun, 27 Oct 2019   Pseudo R-squ.:                -0.02454\n",
              "Time:                        12:21:42   Log-Likelihood:                -3843.7\n",
              "converged:                       True   LL-Null:                       -3751.6\n",
              "Covariance Type:            nonrobust   LLR p-value:                     1.000\n",
              "=================================================================================================\n",
              "                                    coef    std err          z      P>|z|      [0.025      0.975]\n",
              "-------------------------------------------------------------------------------------------------\n",
              "Customer Lifetime Value       -6.909e-06   5.03e-06     -1.373      0.170   -1.68e-05    2.96e-06\n",
              "Income                         -2.59e-06   1.04e-06     -2.494      0.013   -4.63e-06   -5.55e-07\n",
              "Monthly Premium Auto             -0.0081      0.001     -6.526      0.000      -0.011      -0.006\n",
              "Months Since Last Claim          -0.0194      0.003     -6.858      0.000      -0.025      -0.014\n",
              "Months Since Policy Inception    -0.0057      0.001     -5.827      0.000      -0.008      -0.004\n",
              "Number of Open Complaints        -0.0813      0.034     -2.376      0.017      -0.148      -0.014\n",
              "Number of Policies               -0.0781      0.013     -6.114      0.000      -0.103      -0.053\n",
              "Total Claim Amount                0.0001      0.000      0.943      0.346      -0.000       0.000\n",
              "GenderFactorized                 -0.1500      0.058     -2.592      0.010      -0.263      -0.037\n",
              "EducationFactorized              -0.0070      0.027     -0.264      0.792      -0.059       0.045\n",
              "=================================================================================================\n",
              "\"\"\""
            ]
          },
          "metadata": {
            "tags": []
          },
          "execution_count": 31
        }
      ]
    },
    {
      "cell_type": "markdown",
      "metadata": {
        "id": "YYkP882UBhaC",
        "colab_type": "text"
      },
      "source": [
        "The most prominent relationship is income and engagement with marketing calls, they are inverserly related. People with higher income are less likely to engage with marketing calls. More generally, the negative coefficients are interpreted as the higher the ____ the less likely the person will be engaged. The inverse is true for positive coefficients."
      ]
    },
    {
      "cell_type": "markdown",
      "metadata": {
        "id": "5i7EsqGqEJbT",
        "colab_type": "text"
      },
      "source": [
        "# 4. Explanatory Analysis - Decision Trees\n",
        "\n",
        "The main difference between logistic regression and decision tree models is the fact that logistic regression algorithms search for a single best linear boundary in the feature set, whereas the decision tree algorithm partitions the data to find the subgroups of data that have high likelihoods of an event occurring. When there is no linear structure in the data, logistic regression models will not be able to perform well, as they try to find linear combinations among the feature variables. On the other hand, decision tree models will perform better for non-linear datasets, as they only try to partition the data at the purest levels they can."
      ]
    },
    {
      "cell_type": "code",
      "metadata": {
        "id": "Sl9y_MpCFlkl",
        "colab_type": "code",
        "colab": {}
      },
      "source": [
        "# Load dataset from section 1\n",
        "df = pd.read_csv('https://raw.githubusercontent.com/DimaKav/python-marketing-projects/master/bank-full.csv', sep=';')"
      ],
      "execution_count": 0,
      "outputs": []
    },
    {
      "cell_type": "code",
      "metadata": {
        "id": "LByRmpGjmT4J",
        "colab_type": "code",
        "colab": {
          "base_uri": "https://localhost:8080/",
          "height": 0
        },
        "outputId": "f3f45953-0fdf-4b94-f280-a615218fc27f"
      },
      "source": [
        "df.shape"
      ],
      "execution_count": 33,
      "outputs": [
        {
          "output_type": "execute_result",
          "data": {
            "text/plain": [
              "(45211, 17)"
            ]
          },
          "metadata": {
            "tags": []
          },
          "execution_count": 33
        }
      ]
    },
    {
      "cell_type": "code",
      "metadata": {
        "id": "y05AQ41mmXHR",
        "colab_type": "code",
        "colab": {
          "base_uri": "https://localhost:8080/",
          "height": 0
        },
        "outputId": "7554f358-bddf-479f-955c-13745bc0998b"
      },
      "source": [
        "df.head()"
      ],
      "execution_count": 34,
      "outputs": [
        {
          "output_type": "execute_result",
          "data": {
            "text/html": [
              "<div>\n",
              "<style scoped>\n",
              "    .dataframe tbody tr th:only-of-type {\n",
              "        vertical-align: middle;\n",
              "    }\n",
              "\n",
              "    .dataframe tbody tr th {\n",
              "        vertical-align: top;\n",
              "    }\n",
              "\n",
              "    .dataframe thead th {\n",
              "        text-align: right;\n",
              "    }\n",
              "</style>\n",
              "<table border=\"1\" class=\"dataframe\">\n",
              "  <thead>\n",
              "    <tr style=\"text-align: right;\">\n",
              "      <th></th>\n",
              "      <th>age</th>\n",
              "      <th>job</th>\n",
              "      <th>marital</th>\n",
              "      <th>education</th>\n",
              "      <th>default</th>\n",
              "      <th>balance</th>\n",
              "      <th>housing</th>\n",
              "      <th>loan</th>\n",
              "      <th>contact</th>\n",
              "      <th>day</th>\n",
              "      <th>month</th>\n",
              "      <th>duration</th>\n",
              "      <th>campaign</th>\n",
              "      <th>pdays</th>\n",
              "      <th>previous</th>\n",
              "      <th>poutcome</th>\n",
              "      <th>y</th>\n",
              "    </tr>\n",
              "  </thead>\n",
              "  <tbody>\n",
              "    <tr>\n",
              "      <th>0</th>\n",
              "      <td>58</td>\n",
              "      <td>management</td>\n",
              "      <td>married</td>\n",
              "      <td>tertiary</td>\n",
              "      <td>no</td>\n",
              "      <td>2143</td>\n",
              "      <td>yes</td>\n",
              "      <td>no</td>\n",
              "      <td>unknown</td>\n",
              "      <td>5</td>\n",
              "      <td>may</td>\n",
              "      <td>261</td>\n",
              "      <td>1</td>\n",
              "      <td>-1</td>\n",
              "      <td>0</td>\n",
              "      <td>unknown</td>\n",
              "      <td>no</td>\n",
              "    </tr>\n",
              "    <tr>\n",
              "      <th>1</th>\n",
              "      <td>44</td>\n",
              "      <td>technician</td>\n",
              "      <td>single</td>\n",
              "      <td>secondary</td>\n",
              "      <td>no</td>\n",
              "      <td>29</td>\n",
              "      <td>yes</td>\n",
              "      <td>no</td>\n",
              "      <td>unknown</td>\n",
              "      <td>5</td>\n",
              "      <td>may</td>\n",
              "      <td>151</td>\n",
              "      <td>1</td>\n",
              "      <td>-1</td>\n",
              "      <td>0</td>\n",
              "      <td>unknown</td>\n",
              "      <td>no</td>\n",
              "    </tr>\n",
              "    <tr>\n",
              "      <th>2</th>\n",
              "      <td>33</td>\n",
              "      <td>entrepreneur</td>\n",
              "      <td>married</td>\n",
              "      <td>secondary</td>\n",
              "      <td>no</td>\n",
              "      <td>2</td>\n",
              "      <td>yes</td>\n",
              "      <td>yes</td>\n",
              "      <td>unknown</td>\n",
              "      <td>5</td>\n",
              "      <td>may</td>\n",
              "      <td>76</td>\n",
              "      <td>1</td>\n",
              "      <td>-1</td>\n",
              "      <td>0</td>\n",
              "      <td>unknown</td>\n",
              "      <td>no</td>\n",
              "    </tr>\n",
              "    <tr>\n",
              "      <th>3</th>\n",
              "      <td>47</td>\n",
              "      <td>blue-collar</td>\n",
              "      <td>married</td>\n",
              "      <td>unknown</td>\n",
              "      <td>no</td>\n",
              "      <td>1506</td>\n",
              "      <td>yes</td>\n",
              "      <td>no</td>\n",
              "      <td>unknown</td>\n",
              "      <td>5</td>\n",
              "      <td>may</td>\n",
              "      <td>92</td>\n",
              "      <td>1</td>\n",
              "      <td>-1</td>\n",
              "      <td>0</td>\n",
              "      <td>unknown</td>\n",
              "      <td>no</td>\n",
              "    </tr>\n",
              "    <tr>\n",
              "      <th>4</th>\n",
              "      <td>33</td>\n",
              "      <td>unknown</td>\n",
              "      <td>single</td>\n",
              "      <td>unknown</td>\n",
              "      <td>no</td>\n",
              "      <td>1</td>\n",
              "      <td>no</td>\n",
              "      <td>no</td>\n",
              "      <td>unknown</td>\n",
              "      <td>5</td>\n",
              "      <td>may</td>\n",
              "      <td>198</td>\n",
              "      <td>1</td>\n",
              "      <td>-1</td>\n",
              "      <td>0</td>\n",
              "      <td>unknown</td>\n",
              "      <td>no</td>\n",
              "    </tr>\n",
              "  </tbody>\n",
              "</table>\n",
              "</div>"
            ],
            "text/plain": [
              "   age           job  marital  education  ... pdays  previous poutcome   y\n",
              "0   58    management  married   tertiary  ...    -1         0  unknown  no\n",
              "1   44    technician   single  secondary  ...    -1         0  unknown  no\n",
              "2   33  entrepreneur  married  secondary  ...    -1         0  unknown  no\n",
              "3   47   blue-collar  married    unknown  ...    -1         0  unknown  no\n",
              "4   33       unknown   single    unknown  ...    -1         0  unknown  no\n",
              "\n",
              "[5 rows x 17 columns]"
            ]
          },
          "metadata": {
            "tags": []
          },
          "execution_count": 34
        }
      ]
    },
    {
      "cell_type": "code",
      "metadata": {
        "id": "FAaONyGqmYSs",
        "colab_type": "code",
        "colab": {}
      },
      "source": [
        "# Encode the y\n",
        "labels, uniques = pd.factorize(df['y'])\n",
        "df['conversion'] = labels"
      ],
      "execution_count": 0,
      "outputs": []
    },
    {
      "cell_type": "code",
      "metadata": {
        "id": "OGQdhs8Pmdcd",
        "colab_type": "code",
        "colab": {}
      },
      "source": [
        "conversion_rate_df = pd.DataFrame(\n",
        "    df.groupby('conversion').count()['y'] / df.shape[0] * 100.0\n",
        ")"
      ],
      "execution_count": 0,
      "outputs": []
    },
    {
      "cell_type": "code",
      "metadata": {
        "id": "0-93PqrUmkct",
        "colab_type": "code",
        "colab": {
          "base_uri": "https://localhost:8080/",
          "height": 0
        },
        "outputId": "f94ac2d1-5ab1-42f5-ea25-3a6e689b7f33"
      },
      "source": [
        "conversion_rate_df"
      ],
      "execution_count": 37,
      "outputs": [
        {
          "output_type": "execute_result",
          "data": {
            "text/html": [
              "<div>\n",
              "<style scoped>\n",
              "    .dataframe tbody tr th:only-of-type {\n",
              "        vertical-align: middle;\n",
              "    }\n",
              "\n",
              "    .dataframe tbody tr th {\n",
              "        vertical-align: top;\n",
              "    }\n",
              "\n",
              "    .dataframe thead th {\n",
              "        text-align: right;\n",
              "    }\n",
              "</style>\n",
              "<table border=\"1\" class=\"dataframe\">\n",
              "  <thead>\n",
              "    <tr style=\"text-align: right;\">\n",
              "      <th></th>\n",
              "      <th>y</th>\n",
              "    </tr>\n",
              "    <tr>\n",
              "      <th>conversion</th>\n",
              "      <th></th>\n",
              "    </tr>\n",
              "  </thead>\n",
              "  <tbody>\n",
              "    <tr>\n",
              "      <th>0</th>\n",
              "      <td>88.30152</td>\n",
              "    </tr>\n",
              "    <tr>\n",
              "      <th>1</th>\n",
              "      <td>11.69848</td>\n",
              "    </tr>\n",
              "  </tbody>\n",
              "</table>\n",
              "</div>"
            ],
            "text/plain": [
              "                   y\n",
              "conversion          \n",
              "0           88.30152\n",
              "1           11.69848"
            ]
          },
          "metadata": {
            "tags": []
          },
          "execution_count": 37
        }
      ]
    },
    {
      "cell_type": "markdown",
      "metadata": {
        "id": "FEd0DR9Fmm22",
        "colab_type": "text"
      },
      "source": [
        "11.7% converted and subscribed to a term deposit..."
      ]
    },
    {
      "cell_type": "code",
      "metadata": {
        "id": "dGZen0Rfmv1I",
        "colab_type": "code",
        "colab": {}
      },
      "source": [
        "conversion_rate_by_job = df.groupby(\n",
        "    by='job'\n",
        ")['conversion'].sum() / df.groupby(\n",
        "    by='job'\n",
        ")['conversion'].count() * 100.0"
      ],
      "execution_count": 0,
      "outputs": []
    },
    {
      "cell_type": "code",
      "metadata": {
        "id": "m9r4CKs3nBFa",
        "colab_type": "code",
        "colab": {
          "base_uri": "https://localhost:8080/",
          "height": 0
        },
        "outputId": "11957d17-0084-4b0c-c9a6-141780261064"
      },
      "source": [
        "ax = conversion_rate_by_job.plot(\n",
        "    kind='barh',\n",
        "    color='skyblue',\n",
        "    grid=True,\n",
        "    figsize=(10, 7),\n",
        "    title='Conversion Rates by Job'\n",
        ")\n",
        "\n",
        "ax.set_xlabel('conversion rate (%)')\n",
        "ax.set_ylabel('Job')\n",
        "\n",
        "plt.show()"
      ],
      "execution_count": 39,
      "outputs": [
        {
          "output_type": "display_data",
          "data": {
            "image/png": "[encoded data removed]",
            "text/plain": [
              "<Figure size 720x504 with 1 Axes>"
            ]
          },
          "metadata": {
            "tags": []
          }
        }
      ]
    },
    {
      "cell_type": "markdown",
      "metadata": {
        "id": "mEUXq01CnBwH",
        "colab_type": "text"
      },
      "source": [
        "Let's see how the default rate differs between those who subscribed and those who did not."
      ]
    },
    {
      "cell_type": "code",
      "metadata": {
        "id": "ktejPoeFnbtm",
        "colab_type": "code",
        "colab": {
          "base_uri": "https://localhost:8080/",
          "height": 0
        },
        "outputId": "41f09eab-13a9-47f9-c39b-868c44b05840"
      },
      "source": [
        "default_by_conversion_df = pd.pivot_table(\n",
        "    df, \n",
        "    values='y', \n",
        "    index='default', \n",
        "    columns='conversion', \n",
        "    aggfunc=len\n",
        ")\n",
        "\n",
        "default_by_conversion_df.columns = ['did not convert', 'converted']\n",
        "\n",
        "default_by_conversion_df"
      ],
      "execution_count": 40,
      "outputs": [
        {
          "output_type": "execute_result",
          "data": {
            "text/html": [
              "<div>\n",
              "<style scoped>\n",
              "    .dataframe tbody tr th:only-of-type {\n",
              "        vertical-align: middle;\n",
              "    }\n",
              "\n",
              "    .dataframe tbody tr th {\n",
              "        vertical-align: top;\n",
              "    }\n",
              "\n",
              "    .dataframe thead th {\n",
              "        text-align: right;\n",
              "    }\n",
              "</style>\n",
              "<table border=\"1\" class=\"dataframe\">\n",
              "  <thead>\n",
              "    <tr style=\"text-align: right;\">\n",
              "      <th></th>\n",
              "      <th>did not convert</th>\n",
              "      <th>converted</th>\n",
              "    </tr>\n",
              "    <tr>\n",
              "      <th>default</th>\n",
              "      <th></th>\n",
              "      <th></th>\n",
              "    </tr>\n",
              "  </thead>\n",
              "  <tbody>\n",
              "    <tr>\n",
              "      <th>no</th>\n",
              "      <td>39159</td>\n",
              "      <td>5237</td>\n",
              "    </tr>\n",
              "    <tr>\n",
              "      <th>yes</th>\n",
              "      <td>763</td>\n",
              "      <td>52</td>\n",
              "    </tr>\n",
              "  </tbody>\n",
              "</table>\n",
              "</div>"
            ],
            "text/plain": [
              "         did not convert  converted\n",
              "default                            \n",
              "no                 39159       5237\n",
              "yes                  763         52"
            ]
          },
          "metadata": {
            "tags": []
          },
          "execution_count": 40
        }
      ]
    },
    {
      "cell_type": "code",
      "metadata": {
        "id": "Hu4Bt_wGnhUY",
        "colab_type": "code",
        "colab": {
          "base_uri": "https://localhost:8080/",
          "height": 0
        },
        "outputId": "3648e658-a592-4d51-9ee1-9cf0a53935ae"
      },
      "source": [
        "default_by_conversion_df/ default_by_conversion_df.sum() * 100"
      ],
      "execution_count": 41,
      "outputs": [
        {
          "output_type": "execute_result",
          "data": {
            "text/html": [
              "<div>\n",
              "<style scoped>\n",
              "    .dataframe tbody tr th:only-of-type {\n",
              "        vertical-align: middle;\n",
              "    }\n",
              "\n",
              "    .dataframe tbody tr th {\n",
              "        vertical-align: top;\n",
              "    }\n",
              "\n",
              "    .dataframe thead th {\n",
              "        text-align: right;\n",
              "    }\n",
              "</style>\n",
              "<table border=\"1\" class=\"dataframe\">\n",
              "  <thead>\n",
              "    <tr style=\"text-align: right;\">\n",
              "      <th></th>\n",
              "      <th>did not convert</th>\n",
              "      <th>converted</th>\n",
              "    </tr>\n",
              "    <tr>\n",
              "      <th>default</th>\n",
              "      <th></th>\n",
              "      <th></th>\n",
              "    </tr>\n",
              "  </thead>\n",
              "  <tbody>\n",
              "    <tr>\n",
              "      <th>no</th>\n",
              "      <td>98.088773</td>\n",
              "      <td>99.016827</td>\n",
              "    </tr>\n",
              "    <tr>\n",
              "      <th>yes</th>\n",
              "      <td>1.911227</td>\n",
              "      <td>0.983173</td>\n",
              "    </tr>\n",
              "  </tbody>\n",
              "</table>\n",
              "</div>"
            ],
            "text/plain": [
              "         did not convert  converted\n",
              "default                            \n",
              "no             98.088773  99.016827\n",
              "yes             1.911227   0.983173"
            ]
          },
          "metadata": {
            "tags": []
          },
          "execution_count": 41
        }
      ]
    },
    {
      "cell_type": "markdown",
      "metadata": {
        "id": "2gcekStNoRib",
        "colab_type": "text"
      },
      "source": [
        "The customers in default are ~twice as likely to not convert. Let's see the distribution of bank balances by conversion and nonconversion groups."
      ]
    },
    {
      "cell_type": "code",
      "metadata": {
        "id": "1GjF-jJSofs7",
        "colab_type": "code",
        "colab": {
          "base_uri": "https://localhost:8080/",
          "height": 0
        },
        "outputId": "3b982ef0-93f9-4265-f4d8-f22404bdb626"
      },
      "source": [
        "# There are a ton of outliers, so showfliers=False to set to IQR\n",
        "ax = df[['conversion', 'balance']].boxplot(\n",
        "    by='conversion',\n",
        "    showfliers=False,\n",
        "    figsize=(10, 7)\n",
        ")\n",
        "\n",
        "ax.set_xlabel('Conversion')\n",
        "ax.set_ylabel('Average Bank Balance')\n",
        "ax.set_title('Average Bank Balance Distributions by Conversion')\n",
        "\n",
        "plt.suptitle(\"\")\n",
        "plt.show()"
      ],
      "execution_count": 42,
      "outputs": [
        {
          "output_type": "display_data",
          "data": {
            "image/png": "[encoded data removed]",
            "text/plain": [
              "<Figure size 720x504 with 1 Axes>"
            ]
          },
          "metadata": {
            "tags": []
          }
        }
      ]
    },
    {
      "cell_type": "markdown",
      "metadata": {
        "id": "cYY0dzc5v9CL",
        "colab_type": "text"
      },
      "source": [
        "Bank balances of converted customers varies more to the upside and their median is higher.\n",
        "\n",
        "Typically, in marketing, a higher number of marketing touches can result in marketing fatigue, where the conversion rates drop as you reach out to your customers more frequently. Let's see whether there is any marketing fatigue in our data."
      ]
    },
    {
      "cell_type": "code",
      "metadata": {
        "id": "nB6O9WNOwu8q",
        "colab_type": "code",
        "colab": {}
      },
      "source": [
        "conversions_by_num_contacts = df.groupby(\n",
        "    by='campaign'\n",
        ")['conversion'].sum() / df.groupby(\n",
        "    by='campaign'\n",
        ")['conversion'].count() * 100.0"
      ],
      "execution_count": 0,
      "outputs": []
    },
    {
      "cell_type": "code",
      "metadata": {
        "id": "7IvVvMJfxDOU",
        "colab_type": "code",
        "colab": {
          "base_uri": "https://localhost:8080/",
          "height": 0
        },
        "outputId": "1b6be265-8f52-481a-e044-c3cd338324a0"
      },
      "source": [
        "ax = conversions_by_num_contacts.plot(\n",
        "    kind='bar',\n",
        "    figsize=(10, 7),\n",
        "    title='Conversion Rates by Number of Contacts',\n",
        "    grid=True,\n",
        "    color='skyblue'\n",
        ")\n",
        "\n",
        "ax.set_xlabel('Number of Contacts')\n",
        "ax.set_ylabel('Conversion Rate (%)')\n",
        "\n",
        "plt.show()"
      ],
      "execution_count": 44,
      "outputs": [
        {
          "output_type": "display_data",
          "data": {
            "image/png": "[encoded data removed]",
            "text/plain": [
              "<Figure size 720x504 with 1 Axes>"
            ]
          },
          "metadata": {
            "tags": []
          }
        }
      ]
    },
    {
      "cell_type": "markdown",
      "metadata": {
        "id": "TYSR4ziRxGLm",
        "colab_type": "text"
      },
      "source": [
        "The conversion rate decreases as you contact a client more frequently for a given campaign."
      ]
    },
    {
      "cell_type": "code",
      "metadata": {
        "id": "mhVYXie3xz-x",
        "colab_type": "code",
        "colab": {}
      },
      "source": [
        "# Encode the non numeric columns\n",
        "\n",
        "months = ['jan', 'feb', 'mar', 'apr', 'may', 'jun', 'jul', 'aug', 'sep', 'oct', 'nov', 'dec']\n",
        "\n",
        "df['month'] = df['month'].apply(\n",
        "    lambda x: months.index(x)+1\n",
        ")\n",
        "\n",
        "jobs_encoded_df = pd.get_dummies(df['job'])\n",
        "jobs_encoded_df.columns = ['job_%s' % x for x in jobs_encoded_df.columns]\n",
        "\n",
        "df = pd.concat([df, jobs_encoded_df], axis=1)\n",
        "\n",
        "marital_encoded_df = pd.get_dummies(df['marital'])\n",
        "marital_encoded_df.columns = ['marital_%s' % x for x in marital_encoded_df.columns]\n",
        "\n",
        "df = pd.concat([df, marital_encoded_df], axis=1)\n",
        "\n",
        "df['housing'] = df['housing'].apply(lambda x: 1 if x == 'yes' else 0)\n",
        "\n",
        "df['loan'] = df['loan'].apply(lambda x: 1 if x == 'yes' else 0)"
      ],
      "execution_count": 0,
      "outputs": []
    },
    {
      "cell_type": "code",
      "metadata": {
        "id": "H9mtsKj720JN",
        "colab_type": "code",
        "colab": {
          "base_uri": "https://localhost:8080/",
          "height": 0
        },
        "outputId": "86ab5d3e-9e74-4f62-f571-0d730257da08"
      },
      "source": [
        "df.columns"
      ],
      "execution_count": 46,
      "outputs": [
        {
          "output_type": "execute_result",
          "data": {
            "text/plain": [
              "Index(['age', 'job', 'marital', 'education', 'default', 'balance', 'housing',\n",
              "       'loan', 'contact', 'day', 'month', 'duration', 'campaign', 'pdays',\n",
              "       'previous', 'poutcome', 'y', 'conversion', 'job_admin.',\n",
              "       'job_blue-collar', 'job_entrepreneur', 'job_housemaid',\n",
              "       'job_management', 'job_retired', 'job_self-employed', 'job_services',\n",
              "       'job_student', 'job_technician', 'job_unemployed', 'job_unknown',\n",
              "       'marital_divorced', 'marital_married', 'marital_single'],\n",
              "      dtype='object')"
            ]
          },
          "metadata": {
            "tags": []
          },
          "execution_count": 46
        }
      ]
    },
    {
      "cell_type": "code",
      "metadata": {
        "id": "ssawQTEtyFWO",
        "colab_type": "code",
        "colab": {
          "base_uri": "https://localhost:8080/",
          "height": 0
        },
        "outputId": "83077318-b33e-448b-f30b-110da553dcb2"
      },
      "source": [
        "# Build the model\n",
        "\n",
        "features = ['age','balance','campaign','previous','housing','job_admin.',\n",
        "           'job_blue-collar','job_entrepreneur','job_housemaid','job_management',\n",
        "           'job_self-employed','job_services','job_student','job_technician',\n",
        "           'job_unemployed','job_unknown','marital_divorced','marital_married',\n",
        "           'marital_single']\n",
        "\n",
        "dt_model = DecisionTreeClassifier(max_depth=4)\n",
        "dt_model.fit(df[features], df['y'])"
      ],
      "execution_count": 47,
      "outputs": [
        {
          "output_type": "execute_result",
          "data": {
            "text/plain": [
              "DecisionTreeClassifier(class_weight=None, criterion='gini', max_depth=4,\n",
              "                       max_features=None, max_leaf_nodes=None,\n",
              "                       min_impurity_decrease=0.0, min_impurity_split=None,\n",
              "                       min_samples_leaf=1, min_samples_split=2,\n",
              "                       min_weight_fraction_leaf=0.0, presort=False,\n",
              "                       random_state=None, splitter='best')"
            ]
          },
          "metadata": {
            "tags": []
          },
          "execution_count": 47
        }
      ]
    },
    {
      "cell_type": "code",
      "metadata": {
        "id": "RfrIBg_L2ss5",
        "colab_type": "code",
        "colab": {}
      },
      "source": [
        "from sklearn import tree\n",
        "dot_data = tree.export_graphviz(\n",
        "    dt_model, \n",
        "    feature_names=features, \n",
        "    class_names=['0', '1'], \n",
        "    filled=True, \n",
        "    rounded=True, \n",
        "    special_characters=True\n",
        ") \n",
        "\n",
        "graph = graphviz.Source(dot_data)"
      ],
      "execution_count": 0,
      "outputs": []
    },
    {
      "cell_type": "code",
      "metadata": {
        "id": "kuTVyp3I695v",
        "colab_type": "code",
        "colab": {
          "base_uri": "https://localhost:8080/",
          "height": 0
        },
        "outputId": "6af9407a-4a9c-4cbf-ff8c-2c1a17e46cc9"
      },
      "source": [
        "graph"
      ],
      "execution_count": 49,
      "outputs": [
        {
          "output_type": "execute_result",
          "data": {
            "text/plain": [
              "<graphviz.files.Source at 0x7fa849decb00>"
            ],
            "image/svg+xml": "<?xml version=\"1.0\" encoding=\"UTF-8\" standalone=\"no\"?>\n<!DOCTYPE svg PUBLIC \"-//W3C//DTD SVG 1.1//EN\"\n \"http://www.w3.org/Graphics/SVG/1.1/DTD/svg11.dtd\">\n<!-- Generated by graphviz version 2.40.1 (20161225.0304)\n -->\n<!-- Title: Tree Pages: 1 -->\n<svg width=\"2313pt\" height=\"552pt\"\n viewBox=\"0.00 0.00 2312.50 552.00\" xmlns=\"http://www.w3.org/2000/svg\" xmlns:xlink=\"http://www.w3.org/1999/xlink\">\n<g id=\"graph0\" class=\"graph\" transform=\"scale(1 1) rotate(0) translate(4 548)\">\n<title>Tree</title>\n<polygon fill=\"#ffffff\" stroke=\"transparent\" points=\"-4,4 -4,-548 2308.5,-548 2308.5,4 -4,4\"/>\n<!-- 0 -->\n<g id=\"node1\" class=\"node\">\n<title>0</title>\n<path fill=\"#e89253\" stroke=\"#000000\" d=\"M1250.5,-544C1250.5,-544 1117.5,-544 1117.5,-544 1111.5,-544 1105.5,-538 1105.5,-532 1105.5,-532 1105.5,-473 1105.5,-473 1105.5,-467 1111.5,-461 1117.5,-461 1117.5,-461 1250.5,-461 1250.5,-461 1256.5,-461 1262.5,-467 1262.5,-473 1262.5,-473 1262.5,-532 1262.5,-532 1262.5,-538 1256.5,-544 1250.5,-544\"/>\n<text text-anchor=\"start\" x=\"1138.5\" y=\"-528.8\" font-family=\"Helvetica,sans-Serif\" font-size=\"14.00\" fill=\"#000000\">previous ≤ 0.5</text>\n<text text-anchor=\"start\" x=\"1146\" y=\"-513.8\" font-family=\"Helvetica,sans-Serif\" font-size=\"14.00\" fill=\"#000000\">gini = 0.207</text>\n<text text-anchor=\"start\" x=\"1128\" y=\"-498.8\" font-family=\"Helvetica,sans-Serif\" font-size=\"14.00\" fill=\"#000000\">samples = 45211</text>\n<text text-anchor=\"start\" x=\"1113.5\" y=\"-483.8\" font-family=\"Helvetica,sans-Serif\" font-size=\"14.00\" fill=\"#000000\">value = [39922, 5289]</text>\n<text text-anchor=\"start\" x=\"1155\" y=\"-468.8\" font-family=\"Helvetica,sans-Serif\" font-size=\"14.00\" fill=\"#000000\">class = 0</text>\n</g>\n<!-- 1 -->\n<g id=\"node2\" class=\"node\">\n<title>1</title>\n<path fill=\"#e88e4d\" stroke=\"#000000\" d=\"M995.5,-425C995.5,-425 862.5,-425 862.5,-425 856.5,-425 850.5,-419 850.5,-413 850.5,-413 850.5,-354 850.5,-354 850.5,-348 856.5,-342 862.5,-342 862.5,-342 995.5,-342 995.5,-342 1001.5,-342 1007.5,-348 1007.5,-354 1007.5,-354 1007.5,-413 1007.5,-413 1007.5,-419 1001.5,-425 995.5,-425\"/>\n<text text-anchor=\"start\" x=\"894.5\" y=\"-409.8\" font-family=\"Helvetica,sans-Serif\" font-size=\"14.00\" fill=\"#000000\">age ≤ 60.5</text>\n<text text-anchor=\"start\" x=\"891\" y=\"-394.8\" font-family=\"Helvetica,sans-Serif\" font-size=\"14.00\" fill=\"#000000\">gini = 0.166</text>\n<text text-anchor=\"start\" x=\"873\" y=\"-379.8\" font-family=\"Helvetica,sans-Serif\" font-size=\"14.00\" fill=\"#000000\">samples = 36954</text>\n<text text-anchor=\"start\" x=\"858.5\" y=\"-364.8\" font-family=\"Helvetica,sans-Serif\" font-size=\"14.00\" fill=\"#000000\">value = [33570, 3384]</text>\n<text text-anchor=\"start\" x=\"900\" y=\"-349.8\" font-family=\"Helvetica,sans-Serif\" font-size=\"14.00\" fill=\"#000000\">class = 0</text>\n</g>\n<!-- 0&#45;&gt;1 -->\n<g id=\"edge1\" class=\"edge\">\n<title>0&#45;&gt;1</title>\n<path fill=\"none\" stroke=\"#000000\" d=\"M1105.4109,-465.8251C1077.4169,-452.7612 1045.7151,-437.967 1016.984,-424.5592\"/>\n<polygon fill=\"#000000\" stroke=\"#000000\" points=\"1018.3105,-421.3159 1007.7686,-420.2587 1015.3503,-427.6592 1018.3105,-421.3159\"/>\n<text text-anchor=\"middle\" x=\"1016.3122\" y=\"-440.0535\" font-family=\"Helvetica,sans-Serif\" font-size=\"14.00\" fill=\"#000000\">True</text>\n</g>\n<!-- 16 -->\n<g id=\"node17\" class=\"node\">\n<title>16</title>\n<path fill=\"#eda774\" stroke=\"#000000\" d=\"M1514.5,-425C1514.5,-425 1389.5,-425 1389.5,-425 1383.5,-425 1377.5,-419 1377.5,-413 1377.5,-413 1377.5,-354 1377.5,-354 1377.5,-348 1383.5,-342 1389.5,-342 1389.5,-342 1514.5,-342 1514.5,-342 1520.5,-342 1526.5,-348 1526.5,-354 1526.5,-354 1526.5,-413 1526.5,-413 1526.5,-419 1520.5,-425 1514.5,-425\"/>\n<text text-anchor=\"start\" x=\"1408\" y=\"-409.8\" font-family=\"Helvetica,sans-Serif\" font-size=\"14.00\" fill=\"#000000\">housing ≤ 0.5</text>\n<text text-anchor=\"start\" x=\"1414\" y=\"-394.8\" font-family=\"Helvetica,sans-Serif\" font-size=\"14.00\" fill=\"#000000\">gini = 0.355</text>\n<text text-anchor=\"start\" x=\"1400\" y=\"-379.8\" font-family=\"Helvetica,sans-Serif\" font-size=\"14.00\" fill=\"#000000\">samples = 8257</text>\n<text text-anchor=\"start\" x=\"1385.5\" y=\"-364.8\" font-family=\"Helvetica,sans-Serif\" font-size=\"14.00\" fill=\"#000000\">value = [6352, 1905]</text>\n<text text-anchor=\"start\" x=\"1423\" y=\"-349.8\" font-family=\"Helvetica,sans-Serif\" font-size=\"14.00\" fill=\"#000000\">class = 0</text>\n</g>\n<!-- 0&#45;&gt;16 -->\n<g id=\"edge16\" class=\"edge\">\n<title>0&#45;&gt;16</title>\n<path fill=\"none\" stroke=\"#000000\" d=\"M1262.598,-467.6001C1295.6337,-452.9313 1334.1221,-435.8413 1367.7419,-420.9131\"/>\n<polygon fill=\"#000000\" stroke=\"#000000\" points=\"1369.3677,-424.0208 1377.0868,-416.7637 1366.5269,-417.6231 1369.3677,-424.0208\"/>\n<text text-anchor=\"middle\" x=\"1368.1042\" y=\"-436.3942\" font-family=\"Helvetica,sans-Serif\" font-size=\"14.00\" fill=\"#000000\">False</text>\n</g>\n<!-- 2 -->\n<g id=\"node3\" class=\"node\">\n<title>2</title>\n<path fill=\"#e78d4c\" stroke=\"#000000\" d=\"M556.5,-306C556.5,-306 423.5,-306 423.5,-306 417.5,-306 411.5,-300 411.5,-294 411.5,-294 411.5,-235 411.5,-235 411.5,-229 417.5,-223 423.5,-223 423.5,-223 556.5,-223 556.5,-223 562.5,-223 568.5,-229 568.5,-235 568.5,-235 568.5,-294 568.5,-294 568.5,-300 562.5,-306 556.5,-306\"/>\n<text text-anchor=\"start\" x=\"446\" y=\"-290.8\" font-family=\"Helvetica,sans-Serif\" font-size=\"14.00\" fill=\"#000000\">housing ≤ 0.5</text>\n<text text-anchor=\"start\" x=\"452\" y=\"-275.8\" font-family=\"Helvetica,sans-Serif\" font-size=\"14.00\" fill=\"#000000\">gini = 0.157</text>\n<text text-anchor=\"start\" x=\"434\" y=\"-260.8\" font-family=\"Helvetica,sans-Serif\" font-size=\"14.00\" fill=\"#000000\">samples = 36202</text>\n<text text-anchor=\"start\" x=\"419.5\" y=\"-245.8\" font-family=\"Helvetica,sans-Serif\" font-size=\"14.00\" fill=\"#000000\">value = [33102, 3100]</text>\n<text text-anchor=\"start\" x=\"461\" y=\"-230.8\" font-family=\"Helvetica,sans-Serif\" font-size=\"14.00\" fill=\"#000000\">class = 0</text>\n</g>\n<!-- 1&#45;&gt;2 -->\n<g id=\"edge2\" class=\"edge\">\n<title>1&#45;&gt;2</title>\n<path fill=\"none\" stroke=\"#000000\" d=\"M850.2622,-362.1565C773.9519,-341.471 658.3815,-310.1433 578.8246,-288.5777\"/>\n<polygon fill=\"#000000\" stroke=\"#000000\" points=\"579.3876,-285.1041 568.8202,-285.8658 577.5562,-291.8603 579.3876,-285.1041\"/>\n</g>\n<!-- 9 -->\n<g id=\"node10\" class=\"node\">\n<title>9</title>\n<path fill=\"#f5cdb1\" stroke=\"#000000\" d=\"M996,-306C996,-306 862,-306 862,-306 856,-306 850,-300 850,-294 850,-294 850,-235 850,-235 850,-229 856,-223 862,-223 862,-223 996,-223 996,-223 1002,-223 1008,-229 1008,-235 1008,-235 1008,-294 1008,-294 1008,-300 1002,-306 996,-306\"/>\n<text text-anchor=\"start\" x=\"858\" y=\"-290.8\" font-family=\"Helvetica,sans-Serif\" font-size=\"14.00\" fill=\"#000000\">marital_divorced ≤ 0.5</text>\n<text text-anchor=\"start\" x=\"895.5\" y=\"-275.8\" font-family=\"Helvetica,sans-Serif\" font-size=\"14.00\" fill=\"#000000\">gini = 0.47</text>\n<text text-anchor=\"start\" x=\"881\" y=\"-260.8\" font-family=\"Helvetica,sans-Serif\" font-size=\"14.00\" fill=\"#000000\">samples = 752</text>\n<text text-anchor=\"start\" x=\"871\" y=\"-245.8\" font-family=\"Helvetica,sans-Serif\" font-size=\"14.00\" fill=\"#000000\">value = [468, 284]</text>\n<text text-anchor=\"start\" x=\"900\" y=\"-230.8\" font-family=\"Helvetica,sans-Serif\" font-size=\"14.00\" fill=\"#000000\">class = 0</text>\n</g>\n<!-- 1&#45;&gt;9 -->\n<g id=\"edge9\" class=\"edge\">\n<title>1&#45;&gt;9</title>\n<path fill=\"none\" stroke=\"#000000\" d=\"M929,-341.8796C929,-333.6838 929,-324.9891 929,-316.5013\"/>\n<polygon fill=\"#000000\" stroke=\"#000000\" points=\"932.5001,-316.298 929,-306.2981 925.5001,-316.2981 932.5001,-316.298\"/>\n</g>\n<!-- 3 -->\n<g id=\"node4\" class=\"node\">\n<title>3</title>\n<path fill=\"#e89152\" stroke=\"#000000\" d=\"M303.5,-187C303.5,-187 170.5,-187 170.5,-187 164.5,-187 158.5,-181 158.5,-175 158.5,-175 158.5,-116 158.5,-116 158.5,-110 164.5,-104 170.5,-104 170.5,-104 303.5,-104 303.5,-104 309.5,-104 315.5,-110 315.5,-116 315.5,-116 315.5,-175 315.5,-175 315.5,-181 309.5,-187 303.5,-187\"/>\n<text text-anchor=\"start\" x=\"202.5\" y=\"-171.8\" font-family=\"Helvetica,sans-Serif\" font-size=\"14.00\" fill=\"#000000\">age ≤ 29.5</text>\n<text text-anchor=\"start\" x=\"207.5\" y=\"-156.8\" font-family=\"Helvetica,sans-Serif\" font-size=\"14.00\" fill=\"#000000\">gini = 0.2</text>\n<text text-anchor=\"start\" x=\"181\" y=\"-141.8\" font-family=\"Helvetica,sans-Serif\" font-size=\"14.00\" fill=\"#000000\">samples = 16263</text>\n<text text-anchor=\"start\" x=\"166.5\" y=\"-126.8\" font-family=\"Helvetica,sans-Serif\" font-size=\"14.00\" fill=\"#000000\">value = [14427, 1836]</text>\n<text text-anchor=\"start\" x=\"208\" y=\"-111.8\" font-family=\"Helvetica,sans-Serif\" font-size=\"14.00\" fill=\"#000000\">class = 0</text>\n</g>\n<!-- 2&#45;&gt;3 -->\n<g id=\"edge3\" class=\"edge\">\n<title>2&#45;&gt;3</title>\n<path fill=\"none\" stroke=\"#000000\" d=\"M411.3361,-227.5C383.9681,-214.6273 353.0968,-200.1068 325.0206,-186.901\"/>\n<polygon fill=\"#000000\" stroke=\"#000000\" points=\"326.154,-183.5663 315.6153,-182.4772 323.1746,-189.9006 326.154,-183.5663\"/>\n</g>\n<!-- 6 -->\n<g id=\"node7\" class=\"node\">\n<title>6</title>\n<path fill=\"#e78a46\" stroke=\"#000000\" d=\"M556.5,-187C556.5,-187 423.5,-187 423.5,-187 417.5,-187 411.5,-181 411.5,-175 411.5,-175 411.5,-116 411.5,-116 411.5,-110 417.5,-104 423.5,-104 423.5,-104 556.5,-104 556.5,-104 562.5,-104 568.5,-110 568.5,-116 568.5,-116 568.5,-175 568.5,-175 568.5,-181 562.5,-187 556.5,-187\"/>\n<text text-anchor=\"start\" x=\"422\" y=\"-171.8\" font-family=\"Helvetica,sans-Serif\" font-size=\"14.00\" fill=\"#000000\">marital_married ≤ 0.5</text>\n<text text-anchor=\"start\" x=\"452\" y=\"-156.8\" font-family=\"Helvetica,sans-Serif\" font-size=\"14.00\" fill=\"#000000\">gini = 0.119</text>\n<text text-anchor=\"start\" x=\"434\" y=\"-141.8\" font-family=\"Helvetica,sans-Serif\" font-size=\"14.00\" fill=\"#000000\">samples = 19939</text>\n<text text-anchor=\"start\" x=\"419.5\" y=\"-126.8\" font-family=\"Helvetica,sans-Serif\" font-size=\"14.00\" fill=\"#000000\">value = [18675, 1264]</text>\n<text text-anchor=\"start\" x=\"461\" y=\"-111.8\" font-family=\"Helvetica,sans-Serif\" font-size=\"14.00\" fill=\"#000000\">class = 0</text>\n</g>\n<!-- 2&#45;&gt;6 -->\n<g id=\"edge6\" class=\"edge\">\n<title>2&#45;&gt;6</title>\n<path fill=\"none\" stroke=\"#000000\" d=\"M490,-222.8796C490,-214.6838 490,-205.9891 490,-197.5013\"/>\n<polygon fill=\"#000000\" stroke=\"#000000\" points=\"493.5001,-197.298 490,-187.2981 486.5001,-197.2981 493.5001,-197.298\"/>\n</g>\n<!-- 4 -->\n<g id=\"node5\" class=\"node\">\n<title>4</title>\n<path fill=\"#eda775\" stroke=\"#000000\" d=\"M128,-68C128,-68 12,-68 12,-68 6,-68 0,-62 0,-56 0,-56 0,-12 0,-12 0,-6 6,0 12,0 12,0 128,0 128,0 134,0 140,-6 140,-12 140,-12 140,-56 140,-56 140,-62 134,-68 128,-68\"/>\n<text text-anchor=\"start\" x=\"32\" y=\"-52.8\" font-family=\"Helvetica,sans-Serif\" font-size=\"14.00\" fill=\"#000000\">gini = 0.357</text>\n<text text-anchor=\"start\" x=\"18\" y=\"-37.8\" font-family=\"Helvetica,sans-Serif\" font-size=\"14.00\" fill=\"#000000\">samples = 1751</text>\n<text text-anchor=\"start\" x=\"8\" y=\"-22.8\" font-family=\"Helvetica,sans-Serif\" font-size=\"14.00\" fill=\"#000000\">value = [1343, 408]</text>\n<text text-anchor=\"start\" x=\"41\" y=\"-7.8\" font-family=\"Helvetica,sans-Serif\" font-size=\"14.00\" fill=\"#000000\">class = 0</text>\n</g>\n<!-- 3&#45;&gt;4 -->\n<g id=\"edge4\" class=\"edge\">\n<title>3&#45;&gt;4</title>\n<path fill=\"none\" stroke=\"#000000\" d=\"M174.8154,-103.9815C160.0089,-94.0957 144.2441,-83.5701 129.5585,-73.7651\"/>\n<polygon fill=\"#000000\" stroke=\"#000000\" points=\"131.3122,-70.7276 121.052,-68.0856 127.4252,-76.5493 131.3122,-70.7276\"/>\n</g>\n<!-- 5 -->\n<g id=\"node6\" class=\"node\">\n<title>5</title>\n<path fill=\"#e88f4f\" stroke=\"#000000\" d=\"M303.5,-68C303.5,-68 170.5,-68 170.5,-68 164.5,-68 158.5,-62 158.5,-56 158.5,-56 158.5,-12 158.5,-12 158.5,-6 164.5,0 170.5,0 170.5,0 303.5,0 303.5,0 309.5,0 315.5,-6 315.5,-12 315.5,-12 315.5,-56 315.5,-56 315.5,-62 309.5,-68 303.5,-68\"/>\n<text text-anchor=\"start\" x=\"199\" y=\"-52.8\" font-family=\"Helvetica,sans-Serif\" font-size=\"14.00\" fill=\"#000000\">gini = 0.177</text>\n<text text-anchor=\"start\" x=\"181\" y=\"-37.8\" font-family=\"Helvetica,sans-Serif\" font-size=\"14.00\" fill=\"#000000\">samples = 14512</text>\n<text text-anchor=\"start\" x=\"166.5\" y=\"-22.8\" font-family=\"Helvetica,sans-Serif\" font-size=\"14.00\" fill=\"#000000\">value = [13084, 1428]</text>\n<text text-anchor=\"start\" x=\"208\" y=\"-7.8\" font-family=\"Helvetica,sans-Serif\" font-size=\"14.00\" fill=\"#000000\">class = 0</text>\n</g>\n<!-- 3&#45;&gt;5 -->\n<g id=\"edge5\" class=\"edge\">\n<title>3&#45;&gt;5</title>\n<path fill=\"none\" stroke=\"#000000\" d=\"M237,-103.9815C237,-95.618 237,-86.7965 237,-78.3409\"/>\n<polygon fill=\"#000000\" stroke=\"#000000\" points=\"240.5001,-78.2636 237,-68.2637 233.5001,-78.2637 240.5001,-78.2636\"/>\n</g>\n<!-- 7 -->\n<g id=\"node8\" class=\"node\">\n<title>7</title>\n<path fill=\"#e78c4a\" stroke=\"#000000\" d=\"M462,-68C462,-68 346,-68 346,-68 340,-68 334,-62 334,-56 334,-56 334,-12 334,-12 334,-6 340,0 346,0 346,0 462,0 462,0 468,0 474,-6 474,-12 474,-12 474,-56 474,-56 474,-62 468,-68 462,-68\"/>\n<text text-anchor=\"start\" x=\"366\" y=\"-52.8\" font-family=\"Helvetica,sans-Serif\" font-size=\"14.00\" fill=\"#000000\">gini = 0.149</text>\n<text text-anchor=\"start\" x=\"352\" y=\"-37.8\" font-family=\"Helvetica,sans-Serif\" font-size=\"14.00\" fill=\"#000000\">samples = 7665</text>\n<text text-anchor=\"start\" x=\"342\" y=\"-22.8\" font-family=\"Helvetica,sans-Serif\" font-size=\"14.00\" fill=\"#000000\">value = [7043, 622]</text>\n<text text-anchor=\"start\" x=\"375\" y=\"-7.8\" font-family=\"Helvetica,sans-Serif\" font-size=\"14.00\" fill=\"#000000\">class = 0</text>\n</g>\n<!-- 6&#45;&gt;7 -->\n<g id=\"edge7\" class=\"edge\">\n<title>6&#45;&gt;7</title>\n<path fill=\"none\" stroke=\"#000000\" d=\"M457.9768,-103.9815C451.0298,-94.9747 443.6731,-85.4367 436.7004,-76.3965\"/>\n<polygon fill=\"#000000\" stroke=\"#000000\" points=\"439.3064,-74.0444 430.4276,-68.2637 433.7636,-78.3196 439.3064,-74.0444\"/>\n</g>\n<!-- 8 -->\n<g id=\"node9\" class=\"node\">\n<title>8</title>\n<path fill=\"#e68844\" stroke=\"#000000\" d=\"M629.5,-68C629.5,-68 504.5,-68 504.5,-68 498.5,-68 492.5,-62 492.5,-56 492.5,-56 492.5,-12 492.5,-12 492.5,-6 498.5,0 504.5,0 504.5,0 629.5,0 629.5,0 635.5,0 641.5,-6 641.5,-12 641.5,-12 641.5,-56 641.5,-56 641.5,-62 635.5,-68 629.5,-68\"/>\n<text text-anchor=\"start\" x=\"529\" y=\"-52.8\" font-family=\"Helvetica,sans-Serif\" font-size=\"14.00\" fill=\"#000000\">gini = 0.099</text>\n<text text-anchor=\"start\" x=\"511\" y=\"-37.8\" font-family=\"Helvetica,sans-Serif\" font-size=\"14.00\" fill=\"#000000\">samples = 12274</text>\n<text text-anchor=\"start\" x=\"500.5\" y=\"-22.8\" font-family=\"Helvetica,sans-Serif\" font-size=\"14.00\" fill=\"#000000\">value = [11632, 642]</text>\n<text text-anchor=\"start\" x=\"538\" y=\"-7.8\" font-family=\"Helvetica,sans-Serif\" font-size=\"14.00\" fill=\"#000000\">class = 0</text>\n</g>\n<!-- 6&#45;&gt;8 -->\n<g id=\"edge8\" class=\"edge\">\n<title>6&#45;&gt;8</title>\n<path fill=\"none\" stroke=\"#000000\" d=\"M518.672,-103.9815C524.8285,-95.0666 531.3443,-85.6313 537.5305,-76.6734\"/>\n<polygon fill=\"#000000\" stroke=\"#000000\" points=\"540.5355,-78.4811 543.3381,-68.2637 534.7755,-74.5034 540.5355,-78.4811\"/>\n</g>\n<!-- 10 -->\n<g id=\"node11\" class=\"node\">\n<title>10</title>\n<path fill=\"#f3c5a3\" stroke=\"#000000\" d=\"M900.5,-187C900.5,-187 783.5,-187 783.5,-187 777.5,-187 771.5,-181 771.5,-175 771.5,-175 771.5,-116 771.5,-116 771.5,-110 777.5,-104 783.5,-104 783.5,-104 900.5,-104 900.5,-104 906.5,-104 912.5,-110 912.5,-116 912.5,-116 912.5,-175 912.5,-175 912.5,-181 906.5,-187 900.5,-187\"/>\n<text text-anchor=\"start\" x=\"779.5\" y=\"-171.8\" font-family=\"Helvetica,sans-Serif\" font-size=\"14.00\" fill=\"#000000\">marital_single ≤ 0.5</text>\n<text text-anchor=\"start\" x=\"804\" y=\"-156.8\" font-family=\"Helvetica,sans-Serif\" font-size=\"14.00\" fill=\"#000000\">gini = 0.455</text>\n<text text-anchor=\"start\" x=\"794\" y=\"-141.8\" font-family=\"Helvetica,sans-Serif\" font-size=\"14.00\" fill=\"#000000\">samples = 615</text>\n<text text-anchor=\"start\" x=\"784\" y=\"-126.8\" font-family=\"Helvetica,sans-Serif\" font-size=\"14.00\" fill=\"#000000\">value = [400, 215]</text>\n<text text-anchor=\"start\" x=\"813\" y=\"-111.8\" font-family=\"Helvetica,sans-Serif\" font-size=\"14.00\" fill=\"#000000\">class = 0</text>\n</g>\n<!-- 9&#45;&gt;10 -->\n<g id=\"edge10\" class=\"edge\">\n<title>9&#45;&gt;10</title>\n<path fill=\"none\" stroke=\"#000000\" d=\"M898.5716,-222.8796C892.1189,-214.0534 885.243,-204.6485 878.5887,-195.5466\"/>\n<polygon fill=\"#000000\" stroke=\"#000000\" points=\"881.2856,-193.3051 872.5583,-187.2981 875.6347,-197.4364 881.2856,-193.3051\"/>\n</g>\n<!-- 13 -->\n<g id=\"node14\" class=\"node\">\n<title>13</title>\n<path fill=\"#fcfeff\" stroke=\"#000000\" d=\"M1089,-187C1089,-187 943,-187 943,-187 937,-187 931,-181 931,-175 931,-175 931,-116 931,-116 931,-110 937,-104 943,-104 943,-104 1089,-104 1089,-104 1095,-104 1101,-110 1101,-116 1101,-116 1101,-175 1101,-175 1101,-181 1095,-187 1089,-187\"/>\n<text text-anchor=\"start\" x=\"939\" y=\"-171.8\" font-family=\"Helvetica,sans-Serif\" font-size=\"14.00\" fill=\"#000000\">job_self&#45;employed ≤ 0.5</text>\n<text text-anchor=\"start\" x=\"986.5\" y=\"-156.8\" font-family=\"Helvetica,sans-Serif\" font-size=\"14.00\" fill=\"#000000\">gini = 0.5</text>\n<text text-anchor=\"start\" x=\"968\" y=\"-141.8\" font-family=\"Helvetica,sans-Serif\" font-size=\"14.00\" fill=\"#000000\">samples = 137</text>\n<text text-anchor=\"start\" x=\"966\" y=\"-126.8\" font-family=\"Helvetica,sans-Serif\" font-size=\"14.00\" fill=\"#000000\">value = [68, 69]</text>\n<text text-anchor=\"start\" x=\"987\" y=\"-111.8\" font-family=\"Helvetica,sans-Serif\" font-size=\"14.00\" fill=\"#000000\">class = 1</text>\n</g>\n<!-- 9&#45;&gt;13 -->\n<g id=\"edge13\" class=\"edge\">\n<title>9&#45;&gt;13</title>\n<path fill=\"none\" stroke=\"#000000\" d=\"M959.4284,-222.8796C965.8811,-214.0534 972.757,-204.6485 979.4113,-195.5466\"/>\n<polygon fill=\"#000000\" stroke=\"#000000\" points=\"982.3653,-197.4364 985.4417,-187.2981 976.7144,-193.3051 982.3653,-197.4364\"/>\n</g>\n<!-- 11 -->\n<g id=\"node12\" class=\"node\">\n<title>11</title>\n<path fill=\"#f3c7a7\" stroke=\"#000000\" d=\"M780,-68C780,-68 672,-68 672,-68 666,-68 660,-62 660,-56 660,-56 660,-12 660,-12 660,-6 666,0 672,0 672,0 780,0 780,0 786,0 792,-6 792,-12 792,-12 792,-56 792,-56 792,-62 786,-68 780,-68\"/>\n<text text-anchor=\"start\" x=\"688\" y=\"-52.8\" font-family=\"Helvetica,sans-Serif\" font-size=\"14.00\" fill=\"#000000\">gini = 0.459</text>\n<text text-anchor=\"start\" x=\"678\" y=\"-37.8\" font-family=\"Helvetica,sans-Serif\" font-size=\"14.00\" fill=\"#000000\">samples = 590</text>\n<text text-anchor=\"start\" x=\"668\" y=\"-22.8\" font-family=\"Helvetica,sans-Serif\" font-size=\"14.00\" fill=\"#000000\">value = [379, 211]</text>\n<text text-anchor=\"start\" x=\"697\" y=\"-7.8\" font-family=\"Helvetica,sans-Serif\" font-size=\"14.00\" fill=\"#000000\">class = 0</text>\n</g>\n<!-- 10&#45;&gt;11 -->\n<g id=\"edge11\" class=\"edge\">\n<title>10&#45;&gt;11</title>\n<path fill=\"none\" stroke=\"#000000\" d=\"M798.8059,-103.9815C789.0531,-94.607 778.7017,-84.6572 768.9586,-75.2921\"/>\n<polygon fill=\"#000000\" stroke=\"#000000\" points=\"771.2815,-72.6702 761.6465,-68.2637 766.4306,-77.7169 771.2815,-72.6702\"/>\n</g>\n<!-- 12 -->\n<g id=\"node13\" class=\"node\">\n<title>12</title>\n<path fill=\"#ea995f\" stroke=\"#000000\" d=\"M905.5,-68C905.5,-68 822.5,-68 822.5,-68 816.5,-68 810.5,-62 810.5,-56 810.5,-56 810.5,-12 810.5,-12 810.5,-6 816.5,0 822.5,0 822.5,0 905.5,0 905.5,0 911.5,0 917.5,-6 917.5,-12 917.5,-12 917.5,-56 917.5,-56 917.5,-62 911.5,-68 905.5,-68\"/>\n<text text-anchor=\"start\" x=\"826\" y=\"-52.8\" font-family=\"Helvetica,sans-Serif\" font-size=\"14.00\" fill=\"#000000\">gini = 0.269</text>\n<text text-anchor=\"start\" x=\"820\" y=\"-37.8\" font-family=\"Helvetica,sans-Serif\" font-size=\"14.00\" fill=\"#000000\">samples = 25</text>\n<text text-anchor=\"start\" x=\"818.5\" y=\"-22.8\" font-family=\"Helvetica,sans-Serif\" font-size=\"14.00\" fill=\"#000000\">value = [21, 4]</text>\n<text text-anchor=\"start\" x=\"835\" y=\"-7.8\" font-family=\"Helvetica,sans-Serif\" font-size=\"14.00\" fill=\"#000000\">class = 0</text>\n</g>\n<!-- 10&#45;&gt;12 -->\n<g id=\"edge12\" class=\"edge\">\n<title>10&#45;&gt;12</title>\n<path fill=\"none\" stroke=\"#000000\" d=\"M850.192,-103.9815C851.8422,-95.618 853.5827,-86.7965 855.2511,-78.3409\"/>\n<polygon fill=\"#000000\" stroke=\"#000000\" points=\"858.7374,-78.7521 857.2395,-68.2637 851.8698,-77.397 858.7374,-78.7521\"/>\n</g>\n<!-- 14 -->\n<g id=\"node15\" class=\"node\">\n<title>14</title>\n<path fill=\"#fef9f6\" stroke=\"#000000\" d=\"M1040,-68C1040,-68 948,-68 948,-68 942,-68 936,-62 936,-56 936,-56 936,-12 936,-12 936,-6 942,0 948,0 948,0 1040,0 1040,0 1046,0 1052,-6 1052,-12 1052,-12 1052,-56 1052,-56 1052,-62 1046,-68 1040,-68\"/>\n<text text-anchor=\"start\" x=\"964.5\" y=\"-52.8\" font-family=\"Helvetica,sans-Serif\" font-size=\"14.00\" fill=\"#000000\">gini = 0.5</text>\n<text text-anchor=\"start\" x=\"946\" y=\"-37.8\" font-family=\"Helvetica,sans-Serif\" font-size=\"14.00\" fill=\"#000000\">samples = 133</text>\n<text text-anchor=\"start\" x=\"944\" y=\"-22.8\" font-family=\"Helvetica,sans-Serif\" font-size=\"14.00\" fill=\"#000000\">value = [68, 65]</text>\n<text text-anchor=\"start\" x=\"965\" y=\"-7.8\" font-family=\"Helvetica,sans-Serif\" font-size=\"14.00\" fill=\"#000000\">class = 0</text>\n</g>\n<!-- 13&#45;&gt;14 -->\n<g id=\"edge14\" class=\"edge\">\n<title>13&#45;&gt;14</title>\n<path fill=\"none\" stroke=\"#000000\" d=\"M1007.808,-103.9815C1006.1578,-95.618 1004.4173,-86.7965 1002.7489,-78.3409\"/>\n<polygon fill=\"#000000\" stroke=\"#000000\" points=\"1006.1302,-77.397 1000.7605,-68.2637 999.2626,-78.7521 1006.1302,-77.397\"/>\n</g>\n<!-- 15 -->\n<g id=\"node16\" class=\"node\">\n<title>15</title>\n<path fill=\"#399de5\" stroke=\"#000000\" d=\"M1157.5,-68C1157.5,-68 1082.5,-68 1082.5,-68 1076.5,-68 1070.5,-62 1070.5,-56 1070.5,-56 1070.5,-12 1070.5,-12 1070.5,-6 1076.5,0 1082.5,0 1082.5,0 1157.5,0 1157.5,0 1163.5,0 1169.5,-6 1169.5,-12 1169.5,-12 1169.5,-56 1169.5,-56 1169.5,-62 1163.5,-68 1157.5,-68\"/>\n<text text-anchor=\"start\" x=\"1090.5\" y=\"-52.8\" font-family=\"Helvetica,sans-Serif\" font-size=\"14.00\" fill=\"#000000\">gini = 0.0</text>\n<text text-anchor=\"start\" x=\"1080.5\" y=\"-37.8\" font-family=\"Helvetica,sans-Serif\" font-size=\"14.00\" fill=\"#000000\">samples = 4</text>\n<text text-anchor=\"start\" x=\"1078.5\" y=\"-22.8\" font-family=\"Helvetica,sans-Serif\" font-size=\"14.00\" fill=\"#000000\">value = [0, 4]</text>\n<text text-anchor=\"start\" x=\"1091\" y=\"-7.8\" font-family=\"Helvetica,sans-Serif\" font-size=\"14.00\" fill=\"#000000\">class = 1</text>\n</g>\n<!-- 13&#45;&gt;15 -->\n<g id=\"edge15\" class=\"edge\">\n<title>13&#45;&gt;15</title>\n<path fill=\"none\" stroke=\"#000000\" d=\"M1054.7258,-103.9815C1063.2982,-94.7908 1072.3865,-85.0472 1080.971,-75.8436\"/>\n<polygon fill=\"#000000\" stroke=\"#000000\" points=\"1083.7796,-77.9637 1088.0411,-68.2637 1078.6607,-73.1891 1083.7796,-77.9637\"/>\n</g>\n<!-- 17 -->\n<g id=\"node18\" class=\"node\">\n<title>17</title>\n<path fill=\"#f7d6be\" stroke=\"#000000\" d=\"M1514.5,-306C1514.5,-306 1389.5,-306 1389.5,-306 1383.5,-306 1377.5,-300 1377.5,-294 1377.5,-294 1377.5,-235 1377.5,-235 1377.5,-229 1383.5,-223 1389.5,-223 1389.5,-223 1514.5,-223 1514.5,-223 1520.5,-223 1526.5,-229 1526.5,-235 1526.5,-235 1526.5,-294 1526.5,-294 1526.5,-300 1520.5,-306 1514.5,-306\"/>\n<text text-anchor=\"start\" x=\"1404\" y=\"-290.8\" font-family=\"Helvetica,sans-Serif\" font-size=\"14.00\" fill=\"#000000\">balance ≤ 68.0</text>\n<text text-anchor=\"start\" x=\"1414\" y=\"-275.8\" font-family=\"Helvetica,sans-Serif\" font-size=\"14.00\" fill=\"#000000\">gini = 0.481</text>\n<text text-anchor=\"start\" x=\"1400\" y=\"-260.8\" font-family=\"Helvetica,sans-Serif\" font-size=\"14.00\" fill=\"#000000\">samples = 3115</text>\n<text text-anchor=\"start\" x=\"1385.5\" y=\"-245.8\" font-family=\"Helvetica,sans-Serif\" font-size=\"14.00\" fill=\"#000000\">value = [1861, 1254]</text>\n<text text-anchor=\"start\" x=\"1423\" y=\"-230.8\" font-family=\"Helvetica,sans-Serif\" font-size=\"14.00\" fill=\"#000000\">class = 0</text>\n</g>\n<!-- 16&#45;&gt;17 -->\n<g id=\"edge17\" class=\"edge\">\n<title>16&#45;&gt;17</title>\n<path fill=\"none\" stroke=\"#000000\" d=\"M1452,-341.8796C1452,-333.6838 1452,-324.9891 1452,-316.5013\"/>\n<polygon fill=\"#000000\" stroke=\"#000000\" points=\"1455.5001,-316.298 1452,-306.2981 1448.5001,-316.2981 1455.5001,-316.298\"/>\n</g>\n<!-- 24 -->\n<g id=\"node25\" class=\"node\">\n<title>24</title>\n<path fill=\"#e99356\" stroke=\"#000000\" d=\"M1964,-306C1964,-306 1848,-306 1848,-306 1842,-306 1836,-300 1836,-294 1836,-294 1836,-235 1836,-235 1836,-229 1842,-223 1848,-223 1848,-223 1964,-223 1964,-223 1970,-223 1976,-229 1976,-235 1976,-235 1976,-294 1976,-294 1976,-300 1970,-306 1964,-306\"/>\n<text text-anchor=\"start\" x=\"1871.5\" y=\"-290.8\" font-family=\"Helvetica,sans-Serif\" font-size=\"14.00\" fill=\"#000000\">age ≤ 60.5</text>\n<text text-anchor=\"start\" x=\"1868\" y=\"-275.8\" font-family=\"Helvetica,sans-Serif\" font-size=\"14.00\" fill=\"#000000\">gini = 0.221</text>\n<text text-anchor=\"start\" x=\"1854\" y=\"-260.8\" font-family=\"Helvetica,sans-Serif\" font-size=\"14.00\" fill=\"#000000\">samples = 5142</text>\n<text text-anchor=\"start\" x=\"1844\" y=\"-245.8\" font-family=\"Helvetica,sans-Serif\" font-size=\"14.00\" fill=\"#000000\">value = [4491, 651]</text>\n<text text-anchor=\"start\" x=\"1877\" y=\"-230.8\" font-family=\"Helvetica,sans-Serif\" font-size=\"14.00\" fill=\"#000000\">class = 0</text>\n</g>\n<!-- 16&#45;&gt;24 -->\n<g id=\"edge24\" class=\"edge\">\n<title>16&#45;&gt;24</title>\n<path fill=\"none\" stroke=\"#000000\" d=\"M1526.7145,-363.9162C1609.1565,-342.307 1741.3353,-307.661 1825.8789,-285.5009\"/>\n<polygon fill=\"#000000\" stroke=\"#000000\" points=\"1826.9052,-288.8502 1835.691,-282.929 1825.1304,-282.0789 1826.9052,-288.8502\"/>\n</g>\n<!-- 18 -->\n<g id=\"node19\" class=\"node\">\n<title>18</title>\n<path fill=\"#eead7e\" stroke=\"#000000\" d=\"M1425,-187C1425,-187 1325,-187 1325,-187 1319,-187 1313,-181 1313,-175 1313,-175 1313,-116 1313,-116 1313,-110 1319,-104 1325,-104 1325,-104 1425,-104 1425,-104 1431,-104 1437,-110 1437,-116 1437,-116 1437,-175 1437,-175 1437,-181 1431,-187 1425,-187\"/>\n<text text-anchor=\"start\" x=\"1329\" y=\"-171.8\" font-family=\"Helvetica,sans-Serif\" font-size=\"14.00\" fill=\"#000000\">balance ≤ &#45;1.5</text>\n<text text-anchor=\"start\" x=\"1337\" y=\"-156.8\" font-family=\"Helvetica,sans-Serif\" font-size=\"14.00\" fill=\"#000000\">gini = 0.383</text>\n<text text-anchor=\"start\" x=\"1327\" y=\"-141.8\" font-family=\"Helvetica,sans-Serif\" font-size=\"14.00\" fill=\"#000000\">samples = 383</text>\n<text text-anchor=\"start\" x=\"1321\" y=\"-126.8\" font-family=\"Helvetica,sans-Serif\" font-size=\"14.00\" fill=\"#000000\">value = [284, 99]</text>\n<text text-anchor=\"start\" x=\"1346\" y=\"-111.8\" font-family=\"Helvetica,sans-Serif\" font-size=\"14.00\" fill=\"#000000\">class = 0</text>\n</g>\n<!-- 17&#45;&gt;18 -->\n<g id=\"edge18\" class=\"edge\">\n<title>17&#45;&gt;18</title>\n<path fill=\"none\" stroke=\"#000000\" d=\"M1425.0691,-222.8796C1419.4163,-214.1434 1413.3967,-204.8404 1407.5634,-195.8253\"/>\n<polygon fill=\"#000000\" stroke=\"#000000\" points=\"1410.4169,-193.7924 1402.0458,-187.2981 1404.5399,-197.5952 1410.4169,-193.7924\"/>\n</g>\n<!-- 21 -->\n<g id=\"node22\" class=\"node\">\n<title>21</title>\n<path fill=\"#f8ddca\" stroke=\"#000000\" d=\"M1592.5,-187C1592.5,-187 1467.5,-187 1467.5,-187 1461.5,-187 1455.5,-181 1455.5,-175 1455.5,-175 1455.5,-116 1455.5,-116 1455.5,-110 1461.5,-104 1467.5,-104 1467.5,-104 1592.5,-104 1592.5,-104 1598.5,-104 1604.5,-110 1604.5,-116 1604.5,-116 1604.5,-175 1604.5,-175 1604.5,-181 1598.5,-187 1592.5,-187\"/>\n<text text-anchor=\"start\" x=\"1480\" y=\"-171.8\" font-family=\"Helvetica,sans-Serif\" font-size=\"14.00\" fill=\"#000000\">campaign ≤ 4.5</text>\n<text text-anchor=\"start\" x=\"1492\" y=\"-156.8\" font-family=\"Helvetica,sans-Serif\" font-size=\"14.00\" fill=\"#000000\">gini = 0.488</text>\n<text text-anchor=\"start\" x=\"1478\" y=\"-141.8\" font-family=\"Helvetica,sans-Serif\" font-size=\"14.00\" fill=\"#000000\">samples = 2732</text>\n<text text-anchor=\"start\" x=\"1463.5\" y=\"-126.8\" font-family=\"Helvetica,sans-Serif\" font-size=\"14.00\" fill=\"#000000\">value = [1577, 1155]</text>\n<text text-anchor=\"start\" x=\"1501\" y=\"-111.8\" font-family=\"Helvetica,sans-Serif\" font-size=\"14.00\" fill=\"#000000\">class = 0</text>\n</g>\n<!-- 17&#45;&gt;21 -->\n<g id=\"edge21\" class=\"edge\">\n<title>17&#45;&gt;21</title>\n<path fill=\"none\" stroke=\"#000000\" d=\"M1479.2806,-222.8796C1485.0068,-214.1434 1491.1046,-204.8404 1497.0137,-195.8253\"/>\n<polygon fill=\"#000000\" stroke=\"#000000\" points=\"1500.0482,-197.5803 1502.6029,-187.2981 1494.1937,-193.7429 1500.0482,-197.5803\"/>\n</g>\n<!-- 19 -->\n<g id=\"node20\" class=\"node\">\n<title>19</title>\n<path fill=\"#e68742\" stroke=\"#000000\" d=\"M1282.5,-68C1282.5,-68 1199.5,-68 1199.5,-68 1193.5,-68 1187.5,-62 1187.5,-56 1187.5,-56 1187.5,-12 1187.5,-12 1187.5,-6 1193.5,0 1199.5,0 1199.5,0 1282.5,0 1282.5,0 1288.5,0 1294.5,-6 1294.5,-12 1294.5,-12 1294.5,-56 1294.5,-56 1294.5,-62 1288.5,-68 1282.5,-68\"/>\n<text text-anchor=\"start\" x=\"1203\" y=\"-52.8\" font-family=\"Helvetica,sans-Serif\" font-size=\"14.00\" fill=\"#000000\">gini = 0.086</text>\n<text text-anchor=\"start\" x=\"1197\" y=\"-37.8\" font-family=\"Helvetica,sans-Serif\" font-size=\"14.00\" fill=\"#000000\">samples = 67</text>\n<text text-anchor=\"start\" x=\"1195.5\" y=\"-22.8\" font-family=\"Helvetica,sans-Serif\" font-size=\"14.00\" fill=\"#000000\">value = [64, 3]</text>\n<text text-anchor=\"start\" x=\"1212\" y=\"-7.8\" font-family=\"Helvetica,sans-Serif\" font-size=\"14.00\" fill=\"#000000\">class = 0</text>\n</g>\n<!-- 18&#45;&gt;19 -->\n<g id=\"edge19\" class=\"edge\">\n<title>18&#45;&gt;19</title>\n<path fill=\"none\" stroke=\"#000000\" d=\"M1325.1033,-103.9815C1313.6162,-94.4232 1301.4103,-84.2668 1289.9633,-74.7419\"/>\n<polygon fill=\"#000000\" stroke=\"#000000\" points=\"1292.1035,-71.9695 1282.1779,-68.2637 1287.6261,-77.3503 1292.1035,-71.9695\"/>\n</g>\n<!-- 20 -->\n<g id=\"node21\" class=\"node\">\n<title>20</title>\n<path fill=\"#f0b88f\" stroke=\"#000000\" d=\"M1425,-68C1425,-68 1325,-68 1325,-68 1319,-68 1313,-62 1313,-56 1313,-56 1313,-12 1313,-12 1313,-6 1319,0 1325,0 1325,0 1425,0 1425,0 1431,0 1437,-6 1437,-12 1437,-12 1437,-56 1437,-56 1437,-62 1431,-68 1425,-68\"/>\n<text text-anchor=\"start\" x=\"1337\" y=\"-52.8\" font-family=\"Helvetica,sans-Serif\" font-size=\"14.00\" fill=\"#000000\">gini = 0.423</text>\n<text text-anchor=\"start\" x=\"1327\" y=\"-37.8\" font-family=\"Helvetica,sans-Serif\" font-size=\"14.00\" fill=\"#000000\">samples = 316</text>\n<text text-anchor=\"start\" x=\"1321\" y=\"-22.8\" font-family=\"Helvetica,sans-Serif\" font-size=\"14.00\" fill=\"#000000\">value = [220, 96]</text>\n<text text-anchor=\"start\" x=\"1346\" y=\"-7.8\" font-family=\"Helvetica,sans-Serif\" font-size=\"14.00\" fill=\"#000000\">class = 0</text>\n</g>\n<!-- 18&#45;&gt;20 -->\n<g id=\"edge20\" class=\"edge\">\n<title>18&#45;&gt;20</title>\n<path fill=\"none\" stroke=\"#000000\" d=\"M1375,-103.9815C1375,-95.618 1375,-86.7965 1375,-78.3409\"/>\n<polygon fill=\"#000000\" stroke=\"#000000\" points=\"1378.5001,-78.2636 1375,-68.2637 1371.5001,-78.2637 1378.5001,-78.2636\"/>\n</g>\n<!-- 22 -->\n<g id=\"node23\" class=\"node\">\n<title>22</title>\n<path fill=\"#f9e1d0\" stroke=\"#000000\" d=\"M1592.5,-68C1592.5,-68 1467.5,-68 1467.5,-68 1461.5,-68 1455.5,-62 1455.5,-56 1455.5,-56 1455.5,-12 1455.5,-12 1455.5,-6 1461.5,0 1467.5,0 1467.5,0 1592.5,0 1592.5,0 1598.5,0 1604.5,-6 1604.5,-12 1604.5,-12 1604.5,-56 1604.5,-56 1604.5,-62 1598.5,-68 1592.5,-68\"/>\n<text text-anchor=\"start\" x=\"1492\" y=\"-52.8\" font-family=\"Helvetica,sans-Serif\" font-size=\"14.00\" fill=\"#000000\">gini = 0.491</text>\n<text text-anchor=\"start\" x=\"1478\" y=\"-37.8\" font-family=\"Helvetica,sans-Serif\" font-size=\"14.00\" fill=\"#000000\">samples = 2563</text>\n<text text-anchor=\"start\" x=\"1463.5\" y=\"-22.8\" font-family=\"Helvetica,sans-Serif\" font-size=\"14.00\" fill=\"#000000\">value = [1452, 1111]</text>\n<text text-anchor=\"start\" x=\"1501\" y=\"-7.8\" font-family=\"Helvetica,sans-Serif\" font-size=\"14.00\" fill=\"#000000\">class = 0</text>\n</g>\n<!-- 21&#45;&gt;22 -->\n<g id=\"edge22\" class=\"edge\">\n<title>21&#45;&gt;22</title>\n<path fill=\"none\" stroke=\"#000000\" d=\"M1530,-103.9815C1530,-95.618 1530,-86.7965 1530,-78.3409\"/>\n<polygon fill=\"#000000\" stroke=\"#000000\" points=\"1533.5001,-78.2636 1530,-68.2637 1526.5001,-78.2637 1533.5001,-78.2636\"/>\n</g>\n<!-- 23 -->\n<g id=\"node24\" class=\"node\">\n<title>23</title>\n<path fill=\"#eead7f\" stroke=\"#000000\" d=\"M1734,-68C1734,-68 1634,-68 1634,-68 1628,-68 1622,-62 1622,-56 1622,-56 1622,-12 1622,-12 1622,-6 1628,0 1634,0 1634,0 1734,0 1734,0 1740,0 1746,-6 1746,-12 1746,-12 1746,-56 1746,-56 1746,-62 1740,-68 1734,-68\"/>\n<text text-anchor=\"start\" x=\"1646\" y=\"-52.8\" font-family=\"Helvetica,sans-Serif\" font-size=\"14.00\" fill=\"#000000\">gini = 0.385</text>\n<text text-anchor=\"start\" x=\"1636\" y=\"-37.8\" font-family=\"Helvetica,sans-Serif\" font-size=\"14.00\" fill=\"#000000\">samples = 169</text>\n<text text-anchor=\"start\" x=\"1630\" y=\"-22.8\" font-family=\"Helvetica,sans-Serif\" font-size=\"14.00\" fill=\"#000000\">value = [125, 44]</text>\n<text text-anchor=\"start\" x=\"1655\" y=\"-7.8\" font-family=\"Helvetica,sans-Serif\" font-size=\"14.00\" fill=\"#000000\">class = 0</text>\n</g>\n<!-- 21&#45;&gt;23 -->\n<g id=\"edge23\" class=\"edge\">\n<title>21&#45;&gt;23</title>\n<path fill=\"none\" stroke=\"#000000\" d=\"M1587.3439,-103.9815C1600.7994,-94.2394 1615.1131,-83.8759 1628.4867,-74.193\"/>\n<polygon fill=\"#000000\" stroke=\"#000000\" points=\"1630.6289,-76.9632 1636.6762,-68.2637 1626.5237,-71.2933 1630.6289,-76.9632\"/>\n</g>\n<!-- 25 -->\n<g id=\"node26\" class=\"node\">\n<title>25</title>\n<path fill=\"#e99355\" stroke=\"#000000\" d=\"M1967,-187C1967,-187 1845,-187 1845,-187 1839,-187 1833,-181 1833,-175 1833,-175 1833,-116 1833,-116 1833,-110 1839,-104 1845,-104 1845,-104 1967,-104 1967,-104 1973,-104 1979,-110 1979,-116 1979,-116 1979,-175 1979,-175 1979,-181 1973,-187 1967,-187\"/>\n<text text-anchor=\"start\" x=\"1841\" y=\"-171.8\" font-family=\"Helvetica,sans-Serif\" font-size=\"14.00\" fill=\"#000000\">job_blue&#45;collar ≤ 0.5</text>\n<text text-anchor=\"start\" x=\"1868\" y=\"-156.8\" font-family=\"Helvetica,sans-Serif\" font-size=\"14.00\" fill=\"#000000\">gini = 0.217</text>\n<text text-anchor=\"start\" x=\"1854\" y=\"-141.8\" font-family=\"Helvetica,sans-Serif\" font-size=\"14.00\" fill=\"#000000\">samples = 5109</text>\n<text text-anchor=\"start\" x=\"1844\" y=\"-126.8\" font-family=\"Helvetica,sans-Serif\" font-size=\"14.00\" fill=\"#000000\">value = [4478, 631]</text>\n<text text-anchor=\"start\" x=\"1877\" y=\"-111.8\" font-family=\"Helvetica,sans-Serif\" font-size=\"14.00\" fill=\"#000000\">class = 0</text>\n</g>\n<!-- 24&#45;&gt;25 -->\n<g id=\"edge25\" class=\"edge\">\n<title>24&#45;&gt;25</title>\n<path fill=\"none\" stroke=\"#000000\" d=\"M1906,-222.8796C1906,-214.6838 1906,-205.9891 1906,-197.5013\"/>\n<polygon fill=\"#000000\" stroke=\"#000000\" points=\"1909.5001,-197.298 1906,-187.2981 1902.5001,-197.2981 1909.5001,-197.298\"/>\n</g>\n<!-- 28 -->\n<g id=\"node29\" class=\"node\">\n<title>28</title>\n<path fill=\"#baddf6\" stroke=\"#000000\" d=\"M2186,-187C2186,-187 2082,-187 2082,-187 2076,-187 2070,-181 2070,-175 2070,-175 2070,-116 2070,-116 2070,-110 2076,-104 2082,-104 2082,-104 2186,-104 2186,-104 2192,-104 2198,-110 2198,-116 2198,-116 2198,-175 2198,-175 2198,-181 2192,-187 2186,-187\"/>\n<text text-anchor=\"start\" x=\"2078\" y=\"-171.8\" font-family=\"Helvetica,sans-Serif\" font-size=\"14.00\" fill=\"#000000\">balance ≤ 4660.5</text>\n<text text-anchor=\"start\" x=\"2096\" y=\"-156.8\" font-family=\"Helvetica,sans-Serif\" font-size=\"14.00\" fill=\"#000000\">gini = 0.478</text>\n<text text-anchor=\"start\" x=\"2090\" y=\"-141.8\" font-family=\"Helvetica,sans-Serif\" font-size=\"14.00\" fill=\"#000000\">samples = 33</text>\n<text text-anchor=\"start\" x=\"2084\" y=\"-126.8\" font-family=\"Helvetica,sans-Serif\" font-size=\"14.00\" fill=\"#000000\">value = [13, 20]</text>\n<text text-anchor=\"start\" x=\"2105\" y=\"-111.8\" font-family=\"Helvetica,sans-Serif\" font-size=\"14.00\" fill=\"#000000\">class = 1</text>\n</g>\n<!-- 24&#45;&gt;28 -->\n<g id=\"edge28\" class=\"edge\">\n<title>24&#45;&gt;28</title>\n<path fill=\"none\" stroke=\"#000000\" d=\"M1976.2679,-227.8251C2003.0704,-213.8361 2033.6742,-197.863 2060.7474,-183.7327\"/>\n<polygon fill=\"#000000\" stroke=\"#000000\" points=\"2062.5371,-186.7467 2069.7828,-179.0168 2059.2982,-180.5411 2062.5371,-186.7467\"/>\n</g>\n<!-- 26 -->\n<g id=\"node27\" class=\"node\">\n<title>26</title>\n<path fill=\"#e99559\" stroke=\"#000000\" d=\"M1892,-68C1892,-68 1776,-68 1776,-68 1770,-68 1764,-62 1764,-56 1764,-56 1764,-12 1764,-12 1764,-6 1770,0 1776,0 1776,0 1892,0 1892,0 1898,0 1904,-6 1904,-12 1904,-12 1904,-56 1904,-56 1904,-62 1898,-68 1892,-68\"/>\n<text text-anchor=\"start\" x=\"1796\" y=\"-52.8\" font-family=\"Helvetica,sans-Serif\" font-size=\"14.00\" fill=\"#000000\">gini = 0.239</text>\n<text text-anchor=\"start\" x=\"1782\" y=\"-37.8\" font-family=\"Helvetica,sans-Serif\" font-size=\"14.00\" fill=\"#000000\">samples = 3757</text>\n<text text-anchor=\"start\" x=\"1772\" y=\"-22.8\" font-family=\"Helvetica,sans-Serif\" font-size=\"14.00\" fill=\"#000000\">value = [3235, 522]</text>\n<text text-anchor=\"start\" x=\"1805\" y=\"-7.8\" font-family=\"Helvetica,sans-Serif\" font-size=\"14.00\" fill=\"#000000\">class = 0</text>\n</g>\n<!-- 25&#45;&gt;26 -->\n<g id=\"edge26\" class=\"edge\">\n<title>25&#45;&gt;26</title>\n<path fill=\"none\" stroke=\"#000000\" d=\"M1879.1899,-103.9815C1873.4331,-95.0666 1867.3404,-85.6313 1861.5559,-76.6734\"/>\n<polygon fill=\"#000000\" stroke=\"#000000\" points=\"1864.4904,-74.7658 1856.1254,-68.2637 1858.6099,-78.5631 1864.4904,-74.7658\"/>\n</g>\n<!-- 27 -->\n<g id=\"node28\" class=\"node\">\n<title>27</title>\n<path fill=\"#e78c4a\" stroke=\"#000000\" d=\"M2050,-68C2050,-68 1934,-68 1934,-68 1928,-68 1922,-62 1922,-56 1922,-56 1922,-12 1922,-12 1922,-6 1928,0 1934,0 1934,0 2050,0 2050,0 2056,0 2062,-6 2062,-12 2062,-12 2062,-56 2062,-56 2062,-62 2056,-68 2050,-68\"/>\n<text text-anchor=\"start\" x=\"1954\" y=\"-52.8\" font-family=\"Helvetica,sans-Serif\" font-size=\"14.00\" fill=\"#000000\">gini = 0.148</text>\n<text text-anchor=\"start\" x=\"1940\" y=\"-37.8\" font-family=\"Helvetica,sans-Serif\" font-size=\"14.00\" fill=\"#000000\">samples = 1352</text>\n<text text-anchor=\"start\" x=\"1930\" y=\"-22.8\" font-family=\"Helvetica,sans-Serif\" font-size=\"14.00\" fill=\"#000000\">value = [1243, 109]</text>\n<text text-anchor=\"start\" x=\"1963\" y=\"-7.8\" font-family=\"Helvetica,sans-Serif\" font-size=\"14.00\" fill=\"#000000\">class = 0</text>\n</g>\n<!-- 25&#45;&gt;27 -->\n<g id=\"edge27\" class=\"edge\">\n<title>25&#45;&gt;27</title>\n<path fill=\"none\" stroke=\"#000000\" d=\"M1938.0232,-103.9815C1944.9702,-94.9747 1952.3269,-85.4367 1959.2996,-76.3965\"/>\n<polygon fill=\"#000000\" stroke=\"#000000\" points=\"1962.2364,-78.3196 1965.5724,-68.2637 1956.6936,-74.0444 1962.2364,-78.3196\"/>\n</g>\n<!-- 29 -->\n<g id=\"node30\" class=\"node\">\n<title>29</title>\n<path fill=\"#92c9f1\" stroke=\"#000000\" d=\"M2175.5,-68C2175.5,-68 2092.5,-68 2092.5,-68 2086.5,-68 2080.5,-62 2080.5,-56 2080.5,-56 2080.5,-12 2080.5,-12 2080.5,-6 2086.5,0 2092.5,0 2092.5,0 2175.5,0 2175.5,0 2181.5,0 2187.5,-6 2187.5,-12 2187.5,-12 2187.5,-56 2187.5,-56 2187.5,-62 2181.5,-68 2175.5,-68\"/>\n<text text-anchor=\"start\" x=\"2096\" y=\"-52.8\" font-family=\"Helvetica,sans-Serif\" font-size=\"14.00\" fill=\"#000000\">gini = 0.428</text>\n<text text-anchor=\"start\" x=\"2090\" y=\"-37.8\" font-family=\"Helvetica,sans-Serif\" font-size=\"14.00\" fill=\"#000000\">samples = 29</text>\n<text text-anchor=\"start\" x=\"2088.5\" y=\"-22.8\" font-family=\"Helvetica,sans-Serif\" font-size=\"14.00\" fill=\"#000000\">value = [9, 20]</text>\n<text text-anchor=\"start\" x=\"2105\" y=\"-7.8\" font-family=\"Helvetica,sans-Serif\" font-size=\"14.00\" fill=\"#000000\">class = 1</text>\n</g>\n<!-- 28&#45;&gt;29 -->\n<g id=\"edge29\" class=\"edge\">\n<title>28&#45;&gt;29</title>\n<path fill=\"none\" stroke=\"#000000\" d=\"M2134,-103.9815C2134,-95.618 2134,-86.7965 2134,-78.3409\"/>\n<polygon fill=\"#000000\" stroke=\"#000000\" points=\"2137.5001,-78.2636 2134,-68.2637 2130.5001,-78.2637 2137.5001,-78.2636\"/>\n</g>\n<!-- 30 -->\n<g id=\"node31\" class=\"node\">\n<title>30</title>\n<path fill=\"#e58139\" stroke=\"#000000\" d=\"M2292.5,-68C2292.5,-68 2217.5,-68 2217.5,-68 2211.5,-68 2205.5,-62 2205.5,-56 2205.5,-56 2205.5,-12 2205.5,-12 2205.5,-6 2211.5,0 2217.5,0 2217.5,0 2292.5,0 2292.5,0 2298.5,0 2304.5,-6 2304.5,-12 2304.5,-12 2304.5,-56 2304.5,-56 2304.5,-62 2298.5,-68 2292.5,-68\"/>\n<text text-anchor=\"start\" x=\"2225.5\" y=\"-52.8\" font-family=\"Helvetica,sans-Serif\" font-size=\"14.00\" fill=\"#000000\">gini = 0.0</text>\n<text text-anchor=\"start\" x=\"2215.5\" y=\"-37.8\" font-family=\"Helvetica,sans-Serif\" font-size=\"14.00\" fill=\"#000000\">samples = 4</text>\n<text text-anchor=\"start\" x=\"2213.5\" y=\"-22.8\" font-family=\"Helvetica,sans-Serif\" font-size=\"14.00\" fill=\"#000000\">value = [4, 0]</text>\n<text text-anchor=\"start\" x=\"2226\" y=\"-7.8\" font-family=\"Helvetica,sans-Serif\" font-size=\"14.00\" fill=\"#000000\">class = 0</text>\n</g>\n<!-- 28&#45;&gt;30 -->\n<g id=\"edge30\" class=\"edge\">\n<title>28&#45;&gt;30</title>\n<path fill=\"none\" stroke=\"#000000\" d=\"M2179.0559,-103.9815C2189.2291,-94.607 2200.0267,-84.6572 2210.1898,-75.2921\"/>\n<polygon fill=\"#000000\" stroke=\"#000000\" points=\"2212.8349,-77.6141 2217.817,-68.2637 2208.0913,-72.4663 2212.8349,-77.6141\"/>\n</g>\n</g>\n</svg>\n"
          },
          "metadata": {
            "tags": []
          },
          "execution_count": 49
        }
      ]
    },
    {
      "cell_type": "markdown",
      "metadata": {
        "id": "53jSUlRg7Val",
        "colab_type": "text"
      },
      "source": [
        "# 5. Exploratory Analysis - Product Analytics\n",
        "\n",
        "Why product analytics are important:\n",
        "\n",
        "* Improve customer and product retention.\n",
        "* Identify popular and trending products.\n",
        "* Segment customers and products based on their key attributes.\n",
        "* Develop marketing strategies with higher ROI."
      ]
    },
    {
      "cell_type": "markdown",
      "metadata": {
        "id": "0MfqAdOlU2Of",
        "colab_type": "text"
      },
      "source": [
        "Dataset description: http://archive.ics.uci.edu/ml/datasets/online+retail#"
      ]
    },
    {
      "cell_type": "code",
      "metadata": {
        "id": "-Fn0tfGH_bLq",
        "colab_type": "code",
        "colab": {}
      },
      "source": [
        "# Load data from my dropbox\n",
        "df = pd.read_csv('https://www.dropbox.com/s/8mnw3ryg4l4mg19/Online_Retail.csv?dl=1', encoding = \"ISO-8859-1\")\n",
        "df['InvoiceDate'] = pd.to_datetime(df['InvoiceDate'])"
      ],
      "execution_count": 0,
      "outputs": []
    },
    {
      "cell_type": "code",
      "metadata": {
        "id": "KIn8lvLpWLaZ",
        "colab_type": "code",
        "colab": {
          "base_uri": "https://localhost:8080/",
          "height": 0
        },
        "outputId": "ab20f673-68a1-457c-94c2-d326188b0eb5"
      },
      "source": [
        "df.dtypes"
      ],
      "execution_count": 51,
      "outputs": [
        {
          "output_type": "execute_result",
          "data": {
            "text/plain": [
              "InvoiceNo              object\n",
              "StockCode              object\n",
              "Description            object\n",
              "Quantity                int64\n",
              "InvoiceDate    datetime64[ns]\n",
              "UnitPrice             float64\n",
              "CustomerID            float64\n",
              "Country                object\n",
              "dtype: object"
            ]
          },
          "metadata": {
            "tags": []
          },
          "execution_count": 51
        }
      ]
    },
    {
      "cell_type": "code",
      "metadata": {
        "id": "DeH4Pk6POmLj",
        "colab_type": "code",
        "colab": {
          "base_uri": "https://localhost:8080/",
          "height": 0
        },
        "outputId": "bf772434-9a72-49ba-a817-155d0c6188ac"
      },
      "source": [
        "df.shape"
      ],
      "execution_count": 52,
      "outputs": [
        {
          "output_type": "execute_result",
          "data": {
            "text/plain": [
              "(541909, 8)"
            ]
          },
          "metadata": {
            "tags": []
          },
          "execution_count": 52
        }
      ]
    },
    {
      "cell_type": "code",
      "metadata": {
        "id": "jOBlTcOYUrL9",
        "colab_type": "code",
        "colab": {
          "base_uri": "https://localhost:8080/",
          "height": 0
        },
        "outputId": "199f1252-c75a-4057-b251-b97159911de1"
      },
      "source": [
        "df.head()"
      ],
      "execution_count": 53,
      "outputs": [
        {
          "output_type": "execute_result",
          "data": {
            "text/html": [
              "<div>\n",
              "<style scoped>\n",
              "    .dataframe tbody tr th:only-of-type {\n",
              "        vertical-align: middle;\n",
              "    }\n",
              "\n",
              "    .dataframe tbody tr th {\n",
              "        vertical-align: top;\n",
              "    }\n",
              "\n",
              "    .dataframe thead th {\n",
              "        text-align: right;\n",
              "    }\n",
              "</style>\n",
              "<table border=\"1\" class=\"dataframe\">\n",
              "  <thead>\n",
              "    <tr style=\"text-align: right;\">\n",
              "      <th></th>\n",
              "      <th>InvoiceNo</th>\n",
              "      <th>StockCode</th>\n",
              "      <th>Description</th>\n",
              "      <th>Quantity</th>\n",
              "      <th>InvoiceDate</th>\n",
              "      <th>UnitPrice</th>\n",
              "      <th>CustomerID</th>\n",
              "      <th>Country</th>\n",
              "    </tr>\n",
              "  </thead>\n",
              "  <tbody>\n",
              "    <tr>\n",
              "      <th>0</th>\n",
              "      <td>536365</td>\n",
              "      <td>85123A</td>\n",
              "      <td>WHITE HANGING HEART T-LIGHT HOLDER</td>\n",
              "      <td>6</td>\n",
              "      <td>2010-12-01 08:26:00</td>\n",
              "      <td>2.55</td>\n",
              "      <td>17850.0</td>\n",
              "      <td>United Kingdom</td>\n",
              "    </tr>\n",
              "    <tr>\n",
              "      <th>1</th>\n",
              "      <td>536365</td>\n",
              "      <td>71053</td>\n",
              "      <td>WHITE METAL LANTERN</td>\n",
              "      <td>6</td>\n",
              "      <td>2010-12-01 08:26:00</td>\n",
              "      <td>3.39</td>\n",
              "      <td>17850.0</td>\n",
              "      <td>United Kingdom</td>\n",
              "    </tr>\n",
              "    <tr>\n",
              "      <th>2</th>\n",
              "      <td>536365</td>\n",
              "      <td>84406B</td>\n",
              "      <td>CREAM CUPID HEARTS COAT HANGER</td>\n",
              "      <td>8</td>\n",
              "      <td>2010-12-01 08:26:00</td>\n",
              "      <td>2.75</td>\n",
              "      <td>17850.0</td>\n",
              "      <td>United Kingdom</td>\n",
              "    </tr>\n",
              "    <tr>\n",
              "      <th>3</th>\n",
              "      <td>536365</td>\n",
              "      <td>84029G</td>\n",
              "      <td>KNITTED UNION FLAG HOT WATER BOTTLE</td>\n",
              "      <td>6</td>\n",
              "      <td>2010-12-01 08:26:00</td>\n",
              "      <td>3.39</td>\n",
              "      <td>17850.0</td>\n",
              "      <td>United Kingdom</td>\n",
              "    </tr>\n",
              "    <tr>\n",
              "      <th>4</th>\n",
              "      <td>536365</td>\n",
              "      <td>84029E</td>\n",
              "      <td>RED WOOLLY HOTTIE WHITE HEART.</td>\n",
              "      <td>6</td>\n",
              "      <td>2010-12-01 08:26:00</td>\n",
              "      <td>3.39</td>\n",
              "      <td>17850.0</td>\n",
              "      <td>United Kingdom</td>\n",
              "    </tr>\n",
              "  </tbody>\n",
              "</table>\n",
              "</div>"
            ],
            "text/plain": [
              "  InvoiceNo StockCode  ... CustomerID         Country\n",
              "0    536365    85123A  ...    17850.0  United Kingdom\n",
              "1    536365     71053  ...    17850.0  United Kingdom\n",
              "2    536365    84406B  ...    17850.0  United Kingdom\n",
              "3    536365    84029G  ...    17850.0  United Kingdom\n",
              "4    536365    84029E  ...    17850.0  United Kingdom\n",
              "\n",
              "[5 rows x 8 columns]"
            ]
          },
          "metadata": {
            "tags": []
          },
          "execution_count": 53
        }
      ]
    },
    {
      "cell_type": "code",
      "metadata": {
        "id": "1gH69I3BUxEc",
        "colab_type": "code",
        "colab": {
          "base_uri": "https://localhost:8080/",
          "height": 0
        },
        "outputId": "63c95946-2a64-4ba8-c936-529136a71afd"
      },
      "source": [
        "ax = df['Quantity'].plot.box(\n",
        "    showfliers=False,\n",
        "    grid=True,\n",
        "    figsize=(10, 7)\n",
        ")\n",
        "\n",
        "ax.set_ylabel('Order Quantity')\n",
        "ax.set_title('Quantity Distribution')\n",
        "\n",
        "plt.suptitle(\"\")\n",
        "plt.show()"
      ],
      "execution_count": 54,
      "outputs": [
        {
          "output_type": "display_data",
          "data": {
            "image/png": "[encoded data removed]",
            "text/plain": [
              "<Figure size 720x504 with 1 Axes>"
            ]
          },
          "metadata": {
            "tags": []
          }
        }
      ]
    },
    {
      "cell_type": "markdown",
      "metadata": {
        "id": "P1k-QlFqVeRx",
        "colab_type": "text"
      },
      "source": [
        "Negative order quantity is cancelled or refunded orders, let's filter out all of those."
      ]
    },
    {
      "cell_type": "code",
      "metadata": {
        "id": "yaH_vYPQVmsa",
        "colab_type": "code",
        "colab": {
          "base_uri": "https://localhost:8080/",
          "height": 0
        },
        "outputId": "a3671a56-f1da-4f52-f5e3-585efe949030"
      },
      "source": [
        "df = df.loc[df['Quantity'] > 0]\n",
        "df.shape"
      ],
      "execution_count": 55,
      "outputs": [
        {
          "output_type": "execute_result",
          "data": {
            "text/plain": [
              "(531285, 8)"
            ]
          },
          "metadata": {
            "tags": []
          },
          "execution_count": 55
        }
      ]
    },
    {
      "cell_type": "code",
      "metadata": {
        "id": "2LA-mxDZVrJi",
        "colab_type": "code",
        "colab": {
          "base_uri": "https://localhost:8080/",
          "height": 0
        },
        "outputId": "b81d9ee7-26f5-4ef4-91b9-5ac64db01624"
      },
      "source": [
        "# The number of orders received over time\n",
        "monthly_orders_df = df.set_index('InvoiceDate')['InvoiceNo'].resample('M').nunique()\n",
        "\n",
        "ax = pd.DataFrame(monthly_orders_df.values).plot(\n",
        "    grid=True,\n",
        "    figsize=(10,7),\n",
        "    legend=False\n",
        ")\n",
        "\n",
        "ax.set_xlabel('date')\n",
        "ax.set_ylabel('number of orders/invoices')\n",
        "ax.set_title('Total Number of Orders Over Time')\n",
        "\n",
        "plt.xticks(\n",
        "    range(len(monthly_orders_df.index)), \n",
        "    [x.strftime('%m.%Y') for x in monthly_orders_df.index], \n",
        "    rotation=45\n",
        ")\n",
        "\n",
        "plt.show()"
      ],
      "execution_count": 56,
      "outputs": [
        {
          "output_type": "display_data",
          "data": {
            "image/png": "[encoded data removed]",
            "text/plain": [
              "<Figure size 720x504 with 1 Axes>"
            ]
          },
          "metadata": {
            "tags": []
          }
        }
      ]
    },
    {
      "cell_type": "markdown",
      "metadata": {
        "id": "YNRYF0pdWHAq",
        "colab_type": "text"
      },
      "source": [
        "Looks like there are errors in the data in December, let's check that out."
      ]
    },
    {
      "cell_type": "code",
      "metadata": {
        "id": "vMN1frmRW5Ta",
        "colab_type": "code",
        "colab": {
          "base_uri": "https://localhost:8080/",
          "height": 0
        },
        "outputId": "53bd4aa3-b19e-45b4-f655-ec382e53d2db"
      },
      "source": [
        "invoice_dates = df.loc[\n",
        "    df['InvoiceDate'] >= '2011-12-01',\n",
        "    'InvoiceDate'\n",
        "]\n",
        "\n",
        "print('Min date: %s\\nMax date: %s' % (invoice_dates.min(), invoice_dates.max()))"
      ],
      "execution_count": 57,
      "outputs": [
        {
          "output_type": "stream",
          "text": [
            "Min date: 2011-12-01 08:33:00\n",
            "Max date: 2011-12-09 12:50:00\n"
          ],
          "name": "stdout"
        }
      ]
    },
    {
      "cell_type": "code",
      "metadata": {
        "id": "fjhKjzTrW52l",
        "colab_type": "code",
        "colab": {}
      },
      "source": [
        "# Get rid of December\n",
        "df = df.loc[df['InvoiceDate'] < '2011-12-01']"
      ],
      "execution_count": 0,
      "outputs": []
    },
    {
      "cell_type": "code",
      "metadata": {
        "id": "tlIDFTehW99Z",
        "colab_type": "code",
        "colab": {
          "base_uri": "https://localhost:8080/",
          "height": 0
        },
        "outputId": "83b79355-7875-484f-c114-5c743eeba845"
      },
      "source": [
        "# The number of orders received over time\n",
        "monthly_orders_df = df.set_index('InvoiceDate')['InvoiceNo'].resample('M').nunique()\n",
        "\n",
        "ax = pd.DataFrame(monthly_orders_df.values).plot(\n",
        "    grid=True,\n",
        "    figsize=(10,7),\n",
        "    legend=False\n",
        ")\n",
        "\n",
        "ax.set_xlabel('date')\n",
        "ax.set_ylabel('number of orders/invoices')\n",
        "ax.set_title('Total Number of Orders Over Time')\n",
        "\n",
        "plt.xticks(\n",
        "    range(len(monthly_orders_df.index)), \n",
        "    [x.strftime('%m.%Y') for x in monthly_orders_df.index], \n",
        "    rotation=45\n",
        ")\n",
        "\n",
        "plt.show()"
      ],
      "execution_count": 59,
      "outputs": [
        {
          "output_type": "display_data",
          "data": {
            "image/png": "[encoded data removed]",
            "text/plain": [
              "<Figure size 720x504 with 1 Axes>"
            ]
          },
          "metadata": {
            "tags": []
          }
        }
      ]
    },
    {
      "cell_type": "markdown",
      "metadata": {
        "id": "BXCe9QYAXBar",
        "colab_type": "text"
      },
      "source": [
        "Either the business is actually growing or these effects are seasonal. Let's look at the revenue."
      ]
    },
    {
      "cell_type": "code",
      "metadata": {
        "id": "KTS--qD3XgqE",
        "colab_type": "code",
        "colab": {
          "base_uri": "https://localhost:8080/",
          "height": 0
        },
        "outputId": "45527dbe-c85e-46f5-b77f-13baae35d38a"
      },
      "source": [
        "df['Sales'] = df['Quantity'] * df['UnitPrice']\n",
        "\n",
        "monthly_revenue_df = df.set_index('InvoiceDate')['Sales'].resample('M').sum()\n",
        "\n",
        "ax = pd.DataFrame(monthly_revenue_df.values).plot(\n",
        "    grid=True,\n",
        "    figsize=(10,7),\n",
        "    legend=False\n",
        ")\n",
        "\n",
        "ax.set_xlabel('date')\n",
        "ax.set_ylabel('sales')\n",
        "ax.set_title('Total Revenue Over Time')\n",
        "\n",
        "ax.set_ylim([0, max(monthly_revenue_df.values)+100000])\n",
        "\n",
        "plt.xticks(\n",
        "    range(len(monthly_revenue_df.index)), \n",
        "    [x.strftime('%m.%Y') for x in monthly_revenue_df.index], \n",
        "    rotation=45\n",
        ")\n",
        "\n",
        "plt.show()"
      ],
      "execution_count": 60,
      "outputs": [
        {
          "output_type": "display_data",
          "data": {
            "image/png": "[encoded data removed]",
            "text/plain": [
              "<Figure size 720x504 with 1 Axes>"
            ]
          },
          "metadata": {
            "tags": []
          }
        }
      ]
    },
    {
      "cell_type": "markdown",
      "metadata": {
        "id": "KaMi35jzaX7C",
        "colab_type": "text"
      },
      "source": [
        "### Q: How much of the sales are from repeat customers?"
      ]
    },
    {
      "cell_type": "code",
      "metadata": {
        "id": "89lR348AZJfP",
        "colab_type": "code",
        "colab": {
          "base_uri": "https://localhost:8080/",
          "height": 0
        },
        "outputId": "762f7d56-9f03-455e-bba7-649db6438afc"
      },
      "source": [
        "df.CustomerID.value_counts()"
      ],
      "execution_count": 61,
      "outputs": [
        {
          "output_type": "execute_result",
          "data": {
            "text/plain": [
              "17841.0    7376\n",
              "14911.0    5358\n",
              "14096.0    4582\n",
              "12748.0    4290\n",
              "14606.0    2599\n",
              "           ... \n",
              "13307.0       1\n",
              "13302.0       1\n",
              "17331.0       1\n",
              "17986.0       1\n",
              "13270.0       1\n",
              "Name: CustomerID, Length: 4298, dtype: int64"
            ]
          },
          "metadata": {
            "tags": []
          },
          "execution_count": 61
        }
      ]
    },
    {
      "cell_type": "code",
      "metadata": {
        "id": "aa805Bi8ZT-8",
        "colab_type": "code",
        "colab": {
          "base_uri": "https://localhost:8080/",
          "height": 0
        },
        "outputId": "5309d09e-6ff5-49ba-f286-5c2eaffd1f9a"
      },
      "source": [
        "invoice_customer_df = df.groupby(\n",
        "    by=['InvoiceNo', 'InvoiceDate']\n",
        ").agg({\n",
        "    'Sales': sum,\n",
        "    'CustomerID': max,\n",
        "    'Country': max,\n",
        "}).reset_index()\n",
        "\n",
        "monthly_repeat_customers_df = invoice_customer_df.set_index('InvoiceDate').groupby([\n",
        "    pd.Grouper(freq='M'), 'CustomerID'\n",
        "]).filter(lambda x: len(x) > 1).resample('M').nunique()['CustomerID']\n",
        "\n",
        "monthly_unique_customers_df = df.set_index('InvoiceDate')['CustomerID'].resample('M').nunique()\n",
        "\n",
        "monthly_repeat_percentage = monthly_repeat_customers_df/monthly_unique_customers_df*100.0\n",
        "\n",
        "ax = pd.DataFrame(monthly_repeat_customers_df.values).plot(\n",
        "    figsize=(10,7)\n",
        ")\n",
        "\n",
        "pd.DataFrame(monthly_unique_customers_df.values).plot(\n",
        "    ax=ax,\n",
        "    grid=True\n",
        ")\n",
        "\n",
        "ax2 = pd.DataFrame(monthly_repeat_percentage.values).plot.bar(\n",
        "    ax=ax,\n",
        "    grid=True,\n",
        "    secondary_y=True,\n",
        "    color='green',\n",
        "    alpha=0.2\n",
        ")\n",
        "\n",
        "ax.set_xlabel('date')\n",
        "ax.set_ylabel('number of customers')\n",
        "ax.set_title('Number of All vs. Repeat Customers Over Time')\n",
        "\n",
        "ax2.set_ylabel('percentage (%)')\n",
        "\n",
        "ax.legend(['Repeat Customers', 'All Customers'])\n",
        "ax2.legend(['Percentage of Repeat'], loc='upper right')\n",
        "\n",
        "ax.set_ylim([0, monthly_unique_customers_df.values.max()+100])\n",
        "ax2.set_ylim([0, 100])\n",
        "\n",
        "plt.xticks(\n",
        "    range(len(monthly_repeat_customers_df.index)), \n",
        "    [x.strftime('%m.%Y') for x in monthly_repeat_customers_df.index], \n",
        "    rotation=45\n",
        ")\n",
        "\n",
        "plt.show()"
      ],
      "execution_count": 62,
      "outputs": [
        {
          "output_type": "display_data",
          "data": {
            "image/png": "[encoded data removed]",
            "text/plain": [
              "<Figure size 720x504 with 2 Axes>"
            ]
          },
          "metadata": {
            "tags": []
          }
        }
      ]
    },
    {
      "cell_type": "markdown",
      "metadata": {
        "id": "05YPfVbhdpu0",
        "colab_type": "text"
      },
      "source": [
        "# 6. Product Recommendations\n",
        "\n",
        "Personalized product recommendations improve conversion rates and customer retention rates..."
      ]
    },
    {
      "cell_type": "code",
      "metadata": {
        "id": "QgjZSYtOekca",
        "colab_type": "code",
        "colab": {}
      },
      "source": [
        "# Load data from my dropbox (data from section 5)\n",
        "df = pd.read_csv('https://www.dropbox.com/s/8mnw3ryg4l4mg19/Online_Retail.csv?dl=1', encoding = \"ISO-8859-1\")\n",
        "df['InvoiceDate'] = pd.to_datetime(df['InvoiceDate'])\n",
        "df = df.loc[df['Quantity'] > 0]"
      ],
      "execution_count": 0,
      "outputs": []
    },
    {
      "cell_type": "code",
      "metadata": {
        "id": "8RRC2RgV4_to",
        "colab_type": "code",
        "colab": {
          "base_uri": "https://localhost:8080/",
          "height": 34
        },
        "outputId": "52fb1d94-ecdf-40dc-8755-9c4222cb4835"
      },
      "source": [
        "df.shape"
      ],
      "execution_count": 64,
      "outputs": [
        {
          "output_type": "execute_result",
          "data": {
            "text/plain": [
              "(531285, 8)"
            ]
          },
          "metadata": {
            "tags": []
          },
          "execution_count": 64
        }
      ]
    },
    {
      "cell_type": "code",
      "metadata": {
        "id": "UG108Rt04861",
        "colab_type": "code",
        "colab": {
          "base_uri": "https://localhost:8080/",
          "height": 170
        },
        "outputId": "cf9c6480-dd36-423c-c8a3-5f1dbeb11af7"
      },
      "source": [
        "df.isna().sum()"
      ],
      "execution_count": 65,
      "outputs": [
        {
          "output_type": "execute_result",
          "data": {
            "text/plain": [
              "InvoiceNo           0\n",
              "StockCode           0\n",
              "Description       592\n",
              "Quantity            0\n",
              "InvoiceDate         0\n",
              "UnitPrice           0\n",
              "CustomerID     133361\n",
              "Country             0\n",
              "dtype: int64"
            ]
          },
          "metadata": {
            "tags": []
          },
          "execution_count": 65
        }
      ]
    },
    {
      "cell_type": "code",
      "metadata": {
        "id": "CMZKxQLq4NfF",
        "colab_type": "code",
        "colab": {}
      },
      "source": [
        "# Drop the nans\n",
        "\n",
        "df = df.dropna(subset=['CustomerID'])"
      ],
      "execution_count": 0,
      "outputs": []
    },
    {
      "cell_type": "code",
      "metadata": {
        "id": "X7dPtCUK5K40",
        "colab_type": "code",
        "colab": {}
      },
      "source": [
        "customer_item_matrix = df.pivot_table(\n",
        "    index='CustomerID', \n",
        "    columns='StockCode', \n",
        "    values='Quantity',\n",
        "    aggfunc='sum'\n",
        ")"
      ],
      "execution_count": 0,
      "outputs": []
    },
    {
      "cell_type": "markdown",
      "metadata": {
        "id": "MkbjPXf19O3C",
        "colab_type": "text"
      },
      "source": [
        "### User Collaborative Filtering"
      ]
    },
    {
      "cell_type": "code",
      "metadata": {
        "id": "t8T_dTmR5l1L",
        "colab_type": "code",
        "colab": {}
      },
      "source": [
        "customer_item_matrix = customer_item_matrix.applymap(lambda x: 1 if x > 0 else 0)"
      ],
      "execution_count": 0,
      "outputs": []
    },
    {
      "cell_type": "code",
      "metadata": {
        "id": "IkRlzuVf5p2s",
        "colab_type": "code",
        "colab": {}
      },
      "source": [
        "from sklearn.metrics.pairwise import cosine_similarity"
      ],
      "execution_count": 0,
      "outputs": []
    },
    {
      "cell_type": "code",
      "metadata": {
        "id": "jbI5Be635sbD",
        "colab_type": "code",
        "colab": {}
      },
      "source": [
        "user_user_sim_matrix = pd.DataFrame(\n",
        "    cosine_similarity(customer_item_matrix)\n",
        ")"
      ],
      "execution_count": 0,
      "outputs": []
    },
    {
      "cell_type": "code",
      "metadata": {
        "id": "obB3LP-J8zE8",
        "colab_type": "code",
        "colab": {}
      },
      "source": [
        "user_user_sim_matrix.columns = customer_item_matrix.index\n",
        "\n",
        "user_user_sim_matrix['CustomerID'] = customer_item_matrix.index\n",
        "user_user_sim_matrix = user_user_sim_matrix.set_index('CustomerID')"
      ],
      "execution_count": 0,
      "outputs": []
    },
    {
      "cell_type": "code",
      "metadata": {
        "id": "Y-6Xi6Gg82Ui",
        "colab_type": "code",
        "colab": {
          "base_uri": "https://localhost:8080/",
          "height": 51
        },
        "outputId": "8679cb6a-9194-49cd-8524-f3eb90fe8140"
      },
      "source": [
        "items_bought_by_A = set(customer_item_matrix.loc[12350.0].iloc[\n",
        "    customer_item_matrix.loc[12350.0].nonzero()\n",
        "].index)"
      ],
      "execution_count": 72,
      "outputs": [
        {
          "output_type": "stream",
          "text": [
            "/usr/local/lib/python3.6/dist-packages/ipykernel_launcher.py:2: FutureWarning: Series.nonzero() is deprecated and will be removed in a future version.Use Series.to_numpy().nonzero() instead\n",
            "  \n"
          ],
          "name": "stderr"
        }
      ]
    },
    {
      "cell_type": "code",
      "metadata": {
        "id": "sdwsWlzq848D",
        "colab_type": "code",
        "colab": {
          "base_uri": "https://localhost:8080/",
          "height": 51
        },
        "outputId": "921ff0c6-1b2e-46b4-e2d1-a3f5e1225fc0"
      },
      "source": [
        "items_bought_by_B = set(customer_item_matrix.loc[17935.0].iloc[\n",
        "    customer_item_matrix.loc[17935.0].nonzero()\n",
        "].index)"
      ],
      "execution_count": 73,
      "outputs": [
        {
          "output_type": "stream",
          "text": [
            "/usr/local/lib/python3.6/dist-packages/ipykernel_launcher.py:2: FutureWarning: Series.nonzero() is deprecated and will be removed in a future version.Use Series.to_numpy().nonzero() instead\n",
            "  \n"
          ],
          "name": "stderr"
        }
      ]
    },
    {
      "cell_type": "code",
      "metadata": {
        "id": "BPcmve0Y86a-",
        "colab_type": "code",
        "colab": {}
      },
      "source": [
        "items_to_recommend_to_B = items_bought_by_A - items_bought_by_B"
      ],
      "execution_count": 0,
      "outputs": []
    },
    {
      "cell_type": "code",
      "metadata": {
        "id": "Cs3pI_9w872N",
        "colab_type": "code",
        "colab": {
          "base_uri": "https://localhost:8080/",
          "height": 483
        },
        "outputId": "d9b48cc8-0eab-4e0f-d133-09602dc94485"
      },
      "source": [
        "df.loc[\n",
        "    df['StockCode'].isin(items_to_recommend_to_B), \n",
        "    ['StockCode', 'Description']\n",
        "].drop_duplicates().set_index('StockCode')"
      ],
      "execution_count": 75,
      "outputs": [
        {
          "output_type": "execute_result",
          "data": {
            "text/html": [
              "<div>\n",
              "<style scoped>\n",
              "    .dataframe tbody tr th:only-of-type {\n",
              "        vertical-align: middle;\n",
              "    }\n",
              "\n",
              "    .dataframe tbody tr th {\n",
              "        vertical-align: top;\n",
              "    }\n",
              "\n",
              "    .dataframe thead th {\n",
              "        text-align: right;\n",
              "    }\n",
              "</style>\n",
              "<table border=\"1\" class=\"dataframe\">\n",
              "  <thead>\n",
              "    <tr style=\"text-align: right;\">\n",
              "      <th></th>\n",
              "      <th>Description</th>\n",
              "    </tr>\n",
              "    <tr>\n",
              "      <th>StockCode</th>\n",
              "      <th></th>\n",
              "    </tr>\n",
              "  </thead>\n",
              "  <tbody>\n",
              "    <tr>\n",
              "      <th>21832</th>\n",
              "      <td>CHOCOLATE CALCULATOR</td>\n",
              "    </tr>\n",
              "    <tr>\n",
              "      <th>21915</th>\n",
              "      <td>RED  HARMONICA IN BOX</td>\n",
              "    </tr>\n",
              "    <tr>\n",
              "      <th>22620</th>\n",
              "      <td>4 TRADITIONAL SPINNING TOPS</td>\n",
              "    </tr>\n",
              "    <tr>\n",
              "      <th>79066K</th>\n",
              "      <td>RETRO MOD TRAY</td>\n",
              "    </tr>\n",
              "    <tr>\n",
              "      <th>21864</th>\n",
              "      <td>UNION JACK FLAG PASSPORT COVER</td>\n",
              "    </tr>\n",
              "    <tr>\n",
              "      <th>79191C</th>\n",
              "      <td>RETRO PLASTIC ELEPHANT TRAY</td>\n",
              "    </tr>\n",
              "    <tr>\n",
              "      <th>21908</th>\n",
              "      <td>CHOCOLATE THIS WAY METAL SIGN</td>\n",
              "    </tr>\n",
              "    <tr>\n",
              "      <th>20615</th>\n",
              "      <td>BLUE POLKADOT PASSPORT COVER</td>\n",
              "    </tr>\n",
              "    <tr>\n",
              "      <th>20652</th>\n",
              "      <td>BLUE POLKADOT LUGGAGE TAG</td>\n",
              "    </tr>\n",
              "    <tr>\n",
              "      <th>22348</th>\n",
              "      <td>TEA BAG PLATE RED RETROSPOT</td>\n",
              "    </tr>\n",
              "    <tr>\n",
              "      <th>22412</th>\n",
              "      <td>METAL SIGN NEIGHBOURHOOD WITCH</td>\n",
              "    </tr>\n",
              "    <tr>\n",
              "      <th>21171</th>\n",
              "      <td>BATHROOM METAL SIGN</td>\n",
              "    </tr>\n",
              "    <tr>\n",
              "      <th>84086C</th>\n",
              "      <td>PINK/PURPLE RETRO RADIO</td>\n",
              "    </tr>\n",
              "  </tbody>\n",
              "</table>\n",
              "</div>"
            ],
            "text/plain": [
              "                               Description\n",
              "StockCode                                 \n",
              "21832                 CHOCOLATE CALCULATOR\n",
              "21915               RED  HARMONICA IN BOX \n",
              "22620          4 TRADITIONAL SPINNING TOPS\n",
              "79066K                      RETRO MOD TRAY\n",
              "21864      UNION JACK FLAG PASSPORT COVER \n",
              "79191C         RETRO PLASTIC ELEPHANT TRAY\n",
              "21908        CHOCOLATE THIS WAY METAL SIGN\n",
              "20615         BLUE POLKADOT PASSPORT COVER\n",
              "20652           BLUE POLKADOT LUGGAGE TAG \n",
              "22348          TEA BAG PLATE RED RETROSPOT\n",
              "22412      METAL SIGN NEIGHBOURHOOD WITCH \n",
              "21171                 BATHROOM METAL SIGN \n",
              "84086C             PINK/PURPLE RETRO RADIO"
            ]
          },
          "metadata": {
            "tags": []
          },
          "execution_count": 75
        }
      ]
    },
    {
      "cell_type": "markdown",
      "metadata": {
        "id": "17XvPWtN893P",
        "colab_type": "text"
      },
      "source": [
        "### Item Based Collaborative Filtering\n",
        "\n",
        "First, for the given product that the target customer bought, we are going to find the most similar items from the item-to-item similarity matrix that we have just built. Then, we are going to recommend these similar items to the customer, since those similar items were bought by other customers who have bought the product that the target customer initially bought."
      ]
    },
    {
      "cell_type": "code",
      "metadata": {
        "id": "jpJh0fwO9XIM",
        "colab_type": "code",
        "colab": {}
      },
      "source": [
        "item_item_sim_matrix = pd.DataFrame(\n",
        "    cosine_similarity(customer_item_matrix.T)\n",
        ")"
      ],
      "execution_count": 0,
      "outputs": []
    },
    {
      "cell_type": "code",
      "metadata": {
        "id": "5BKpqAev9bde",
        "colab_type": "code",
        "colab": {}
      },
      "source": [
        "item_item_sim_matrix.columns = customer_item_matrix.T.index\n",
        "\n",
        "item_item_sim_matrix['StockCode'] = customer_item_matrix.T.index\n",
        "item_item_sim_matrix = item_item_sim_matrix.set_index('StockCode')"
      ],
      "execution_count": 0,
      "outputs": []
    },
    {
      "cell_type": "markdown",
      "metadata": {
        "id": "plW2RGgrLRjI",
        "colab_type": "text"
      },
      "source": [
        "Assume a new customer just bought a product with stock code 23166 and we want to include some products this customer is most likely to purchase in our marketing emails. Let's find the most similar items."
      ]
    },
    {
      "cell_type": "code",
      "metadata": {
        "id": "2oGgaQo49d2v",
        "colab_type": "code",
        "colab": {}
      },
      "source": [
        "top_10_similar_items = list(\n",
        "   item_item_sim_matrix\\\n",
        "        .loc['23166']\\\n",
        "        .sort_values(ascending=False)\\\n",
        "        .iloc[:10]\\\n",
        "    .index\n",
        ")"
      ],
      "execution_count": 0,
      "outputs": []
    },
    {
      "cell_type": "code",
      "metadata": {
        "id": "x0_0_mrr9fU9",
        "colab_type": "code",
        "colab": {
          "base_uri": "https://localhost:8080/",
          "height": 187
        },
        "outputId": "09d2d506-ba4c-46cf-89e4-23ffa275c2c3"
      },
      "source": [
        "top_10_similar_items"
      ],
      "execution_count": 100,
      "outputs": [
        {
          "output_type": "execute_result",
          "data": {
            "text/plain": [
              "['23166',\n",
              " '23165',\n",
              " '23167',\n",
              " '22993',\n",
              " '23307',\n",
              " '22722',\n",
              " '22720',\n",
              " '22666',\n",
              " '23243',\n",
              " '22961']"
            ]
          },
          "metadata": {
            "tags": []
          },
          "execution_count": 100
        }
      ]
    },
    {
      "cell_type": "code",
      "metadata": {
        "id": "beBzdrvhLtvb",
        "colab_type": "code",
        "colab": {
          "base_uri": "https://localhost:8080/",
          "height": 390
        },
        "outputId": "db060e99-33db-4009-a8de-f488d6352d6d"
      },
      "source": [
        "# Get descriptions of these items\n",
        "df.loc[\n",
        "    df['StockCode'].isin(top_10_similar_items), \n",
        "    ['StockCode', 'Description']\n",
        "].drop_duplicates().set_index('StockCode').loc[top_10_similar_items]"
      ],
      "execution_count": 101,
      "outputs": [
        {
          "output_type": "execute_result",
          "data": {
            "text/html": [
              "<div>\n",
              "<style scoped>\n",
              "    .dataframe tbody tr th:only-of-type {\n",
              "        vertical-align: middle;\n",
              "    }\n",
              "\n",
              "    .dataframe tbody tr th {\n",
              "        vertical-align: top;\n",
              "    }\n",
              "\n",
              "    .dataframe thead th {\n",
              "        text-align: right;\n",
              "    }\n",
              "</style>\n",
              "<table border=\"1\" class=\"dataframe\">\n",
              "  <thead>\n",
              "    <tr style=\"text-align: right;\">\n",
              "      <th></th>\n",
              "      <th>Description</th>\n",
              "    </tr>\n",
              "    <tr>\n",
              "      <th>StockCode</th>\n",
              "      <th></th>\n",
              "    </tr>\n",
              "  </thead>\n",
              "  <tbody>\n",
              "    <tr>\n",
              "      <th>23166</th>\n",
              "      <td>MEDIUM CERAMIC TOP STORAGE JAR</td>\n",
              "    </tr>\n",
              "    <tr>\n",
              "      <th>23165</th>\n",
              "      <td>LARGE CERAMIC TOP STORAGE JAR</td>\n",
              "    </tr>\n",
              "    <tr>\n",
              "      <th>23167</th>\n",
              "      <td>SMALL CERAMIC TOP STORAGE JAR</td>\n",
              "    </tr>\n",
              "    <tr>\n",
              "      <th>22993</th>\n",
              "      <td>SET OF 4 PANTRY JELLY MOULDS</td>\n",
              "    </tr>\n",
              "    <tr>\n",
              "      <th>23307</th>\n",
              "      <td>SET OF 60 PANTRY DESIGN CAKE CASES</td>\n",
              "    </tr>\n",
              "    <tr>\n",
              "      <th>22722</th>\n",
              "      <td>SET OF 6 SPICE TINS PANTRY DESIGN</td>\n",
              "    </tr>\n",
              "    <tr>\n",
              "      <th>22720</th>\n",
              "      <td>SET OF 3 CAKE TINS PANTRY DESIGN</td>\n",
              "    </tr>\n",
              "    <tr>\n",
              "      <th>22666</th>\n",
              "      <td>RECIPE BOX PANTRY YELLOW DESIGN</td>\n",
              "    </tr>\n",
              "    <tr>\n",
              "      <th>23243</th>\n",
              "      <td>SET OF TEA COFFEE SUGAR TINS PANTRY</td>\n",
              "    </tr>\n",
              "    <tr>\n",
              "      <th>22961</th>\n",
              "      <td>JAM MAKING SET PRINTED</td>\n",
              "    </tr>\n",
              "  </tbody>\n",
              "</table>\n",
              "</div>"
            ],
            "text/plain": [
              "                                   Description\n",
              "StockCode                                     \n",
              "23166           MEDIUM CERAMIC TOP STORAGE JAR\n",
              "23165            LARGE CERAMIC TOP STORAGE JAR\n",
              "23167           SMALL CERAMIC TOP STORAGE JAR \n",
              "22993             SET OF 4 PANTRY JELLY MOULDS\n",
              "23307      SET OF 60 PANTRY DESIGN CAKE CASES \n",
              "22722        SET OF 6 SPICE TINS PANTRY DESIGN\n",
              "22720        SET OF 3 CAKE TINS PANTRY DESIGN \n",
              "22666          RECIPE BOX PANTRY YELLOW DESIGN\n",
              "23243      SET OF TEA COFFEE SUGAR TINS PANTRY\n",
              "22961                   JAM MAKING SET PRINTED"
            ]
          },
          "metadata": {
            "tags": []
          },
          "execution_count": 101
        }
      ]
    },
    {
      "cell_type": "markdown",
      "metadata": {
        "id": "VypH1DkYLyL1",
        "colab_type": "text"
      },
      "source": [
        "The first item here is the item that the target customer just bought and the other nine items are the items that are frequently bought by others who have bought the first item. As you can see, those who have bought ceramic top storage jars often buy jelly moulds, spice tins, and cake tins. With this data, you can include these items in your marketing messages for this target customer as further product recommendations. Personalizing the marketing messages with targeted product recommendations typically yields higher conversion rates from customers."
      ]
    },
    {
      "cell_type": "markdown",
      "metadata": {
        "id": "5Co4a-uGNMUf",
        "colab_type": "text"
      },
      "source": [
        "# 7. Personalized Marketing\n",
        "\n",
        "In this section, we'll be using data to understand customer behavior and ML to predict the likelihood of marketing engagement and the value of individual customers over their lifetime and better customer retention."
      ]
    },
    {
      "cell_type": "markdown",
      "metadata": {
        "id": "n0jStJyYNPFe",
        "colab_type": "text"
      },
      "source": [
        "### Exploratory Analysis of Customer Behavior"
      ]
    },
    {
      "cell_type": "code",
      "metadata": {
        "id": "KmGfcqrpRyIL",
        "colab_type": "code",
        "colab": {}
      },
      "source": [
        ""
      ],
      "execution_count": 0,
      "outputs": []
    }
  ]
}